{
 "cells": [
  {
   "cell_type": "code",
   "execution_count": 1,
   "metadata": {},
   "outputs": [],
   "source": [
    "# %matplotlib inline\n",
    "#加不加%matplotlib inline貌似现在没啥影响\n",
    "import matplotlib.pyplot as plt\n",{
 "cells": [
  {
   "cell_type": "code",
   "execution_count": 1,
   "metadata": {},
   "outputs": [],
   "source": [{
 "cells": [
  {
   "cell_type": "code",
   "execution_count": 1,
   "metadata": {},
   "outputs": [],
   "source": [
    "# %matplotlib inline\n",
    "#加不加%matplotlib inline貌似现在没啥影响\n",
    "import matplotlib.pyplot as plt\n",
    "from scipy.misc import derivative#加载求导函数\n",
    "import numpy as np\n",
    "\n",
    "def 绘制标准坐标轴():\n",
    "    import mpl_toolkits.axisartist as axisartist\n",
    "    #创建画布\n",
    "    fig = plt.figure(figsize=(8, 8))\n",
    "    #使用axisartist.Subplot方法创建一个绘图区对象ax\n",
    "    ax = axisartist.Subplot(fig, 111)  \n",
    "    #将绘图区对象添加到画布中\n",
    "    fig.add_axes(ax)\n",
    "\n",
    "    #通过set_visible方法设置绘图区所有坐标轴隐藏\n",
    "    ax.axis[:].set_visible(False)\n",
    "\n",
    "    #ax.new_floating_axis代表添加新的坐标轴\n",
    "    ax.axis[\"x\"] = ax.new_floating_axis(0,0)\n",
    "\n",
    "    #给x坐标轴加上箭头,\"->\"表示是空箭头，size = 0.5表示箭头大小\n",
    "    ax.axis[\"x\"].set_axisline_style(\"->\", size = 0.5)\n",
    "\n",
    "    #添加y坐标轴，且加上箭头,\"-|>\"则是实心箭头\n",
    "    ax.axis[\"y\"] = ax.new_floating_axis(1,0)\n",
    "    ax.axis[\"y\"].set_axisline_style(\"-|>\", size = 0.5)\n",
    "\n",
    "    #设置x、y轴上刻度显示方向\n",
    "    ax.axis[\"x\"].set_axis_direction(\"top\")\n",
    "    ax.axis[\"y\"].set_axis_direction(\"right\")"
   ]
  },
  {
   "cell_type": "markdown",
   "metadata": {},
   "source": [
    "## Assignment-03 First Step of Machine Learning: Model and Evaluation"
   ]
  },
  {
   "cell_type": "markdown",
   "metadata": {},
   "source": [
    "同学们，今天我们的学习了基本的机器学习概念，相比你已经对机器学习的这些方法有一个基本的认识了。值得说明的是，机器学习不仅仅是一系列方法，更重要的是一种思维体系，即：依据以往的、现有的数据，构建某种方法来解B决未见过的问题。而且决策树，贝叶斯只是实现这个目标的一个方法，包括之后的神经网络。很有可能有一天，神经网络也会被淘汰，但是重要的是我们要理解机器学习的目标，就是尽可能的自动化解决未知的问题。"
   ]
  },
  {
   "cell_type": "markdown",
   "metadata": {},
   "source": [
    "![](https://timgsa.baidu.com/timg?image&quality=80&size=b9999_10000&sec=1571556399207&di=4a97dc15ad08dd49d3748d1edf6109b3&imgtype=0&src=http%3A%2F%2Fc.hiphotos.baidu.com%2Fzhidao%2Fwh%3D450%2C600%2Fsign%3Dae742c6aedcd7b89e93932873a146e91%2F5d6034a85edf8db1b16050c40223dd54574e74c7.jpg)"
   ]
  },
  {
   "cell_type": "markdown",
   "metadata": {},
   "source": [
    "## Part-1 Programming Review 编程回顾"
   ]
  },
  {
   "cell_type": "markdown",
   "metadata": {},
   "source": [
    "#### 1. Re-code the Linear-Regression Model using scikit-learning(10 points)"
   ]
  },
  {
   "cell_type": "markdown",
   "metadata": {},
   "source": [
    "<评阅点>： \n",
    "> + 是否完成线性回归模型 (4')\n",
    "+ 能够进行预测新数据(3')\n",
    "+ 能够进行可视化操作(3')"
   ]
  },
  {
   "cell_type": "code",
   "execution_count": 2,
   "metadata": {},
   "outputs": [],
   "source": [
    "import numpy as np\n",
    "import random\n",
    "随机数 = np.random.random((20, 2))\n",
    "X = 随机数[:, 0]\n",
    "Y= []\n",
    "训练数据=[]\n",
    "\n",
    "for x in X:\n",
    "    y=x*7+ 3 + random.randint(-5, 5)\n",
    "    Y.append(y)\n",
    "    训练数据.append([x,y])\n",
    "\n"
   ]
  },
  {
   "cell_type": "markdown",
   "metadata": {},
   "source": [
    "$ loss_{single}=(y-\\hat y)^2=(y-kx-b)^2$\n",
    "\n",
    "$ loss = \\frac{1}{n} \\sum{(y_i - kx_i - b)}^2 $\n",
    "\n",
    "$ \\frac{\\partial{loss}}{\\partial{k}} = \\frac{2}{n}\\sum(kx_i-y_i+b)x_i$\n",
    "\n",
    "$ \\frac{\\partial{loss}}{\\partial{b}} = \\frac{2}{n}\\sum(b+kx_i-y_i)=\\frac{2}{n}\\sum(kx_i-y_i+b)$\n",
    "\n",
    "梯度为\n",
    "$ (\\frac{\\partial{loss}}{\\partial{k}},\\frac{\\partial{loss}}{\\partial{b}})$\n",
    "\n",
    "梯度的单位向量$ (\\frac {\\frac{\\partial loss}{\\partial k}}{\\sqrt{(\\frac{\\partial loss}{\\partial k})^2 + (\\frac{\\partial loss}{\\partial b })^2}},\\frac {\\frac{\\partial loss}{\\partial b}}{\\sqrt{(\\frac{\\partial loss}{\\partial k})^2 + (\\frac{\\partial loss}{\\partial b })^2}})$\n",
    "\n",
    "令$ \\frac{\\partial{loss}}{\\partial{k}}=dk,\\frac{\\partial{loss}}{\\partial{b}}=db$\n",
    "\n"
   ]
  },
  {
   "cell_type": "code",
   "execution_count": 3,
   "metadata": {},
   "outputs": [],
   "source": [
    "def 求损失函数梯度方向(k,b,训练数据):                                      #损失函数loss = \\frac{1}{n} \\sum{(y_i - kx_i - b_i)}^2 \n",
    "    #损失函数梯度\n",
    "    dk=0\n",
    "    db=0\n",
    "    #import math\n",
    "    for 数据 in 训练数据:                                                  #数据=[x,y]\n",
    "        x_i=数据[0]\n",
    "        y_i=数据[1]\n",
    "        dk += x_i*(k*x_i-y_i+b)\n",
    "        db += (k*x_i-y_i+b)\n",
    "        #print(dk,db)\n",
    "    dk=2/len(训练数据)*dk\n",
    "    db=2/len(训练数据)*db\n",
    "    #单位向量=[dk/math.sqrt(dk*dk+db*db),db/math.sqrt(dk*dk+db*db)]       #使用单位向量，如果初始误差太大，步进太慢，直接使用梯度向量可以快速逼近\n",
    "    return [dk,db]"
   ]
  },
  {
   "cell_type": "code",
   "execution_count": 4,
   "metadata": {},
   "outputs": [],
   "source": [
    "def 线性回归(训练数据,步长,迭代次数):\n",
    "    import random\n",
    "    k = random.random() * 200 - 100  # -100 100\n",
    "    b = random.random() * 200 - 100  # -100 100\n",
    "    for i in range(迭代次数):\n",
    "        方向=求损失函数梯度方向(k,b,训练数据)\n",
    "        k=k+方向[0]*步长*(-1)                            #梯度下降，沿梯度反方向迭代，故乘以-1\n",
    "        b=b+方向[1]*步长*(-1)\n",
    "    return (k,b)"
   ]
  },
  {
   "cell_type": "code",
   "execution_count": 5,
   "metadata": {
    "scrolled": true
   },
   "outputs": [
    {
     "name": "stdout",
     "output_type": "stream",
     "text": [
      "k= 6.207565187503684 b= 3.7998095175918016\n"
     ]
    }
   ],
   "source": [
    "kb=线性回归(训练数据,步长=0.1,迭代次数=4000) #步长越短，需要迭代的次数越多。步长越长，越容易震荡，不容易得出结果。如何选取合适的步长呢？\n",
    "print(\"k=\",kb[0],\"b=\",kb[1])"
   ]
  },
  {
   "cell_type": "code",
   "execution_count": 6,
   "metadata": {},
   "outputs": [
    {
     "data": {
      "text/plain": [
       "339.0083296427908"
      ]
     },
     "execution_count": 6,
     "metadata": {},
     "output_type": "execute_result"
    }
   ],
   "source": [
    "def f(x):\n",
    "    return kb[0]*x+kb[1]\n",
    "f(54)"
   ]
  },
  {
   "cell_type": "code",
   "execution_count": 7,
   "metadata": {},
   "outputs": [],
   "source": [
    "from sklearn.linear_model import LinearRegression #加载sklearn的LinearRegression模块"
   ]
  },
  {
   "cell_type": "code",
   "execution_count": 8,
   "metadata": {},
   "outputs": [
    {
     "name": "stdout",
     "output_type": "stream",
     "text": [
      "k= [6.20756519] b= 3.79980951759178\n"
     ]
    }
   ],
   "source": [
    "reg = LinearRegression().fit(X.reshape(-1, 1), Y)\n",
    "print(\"k=\",reg.coef_,\"b=\",reg.intercept_)                    #用LinearRegression拟合k和b与自己写的线性回归函数做个对比。"
   ]
  },
  {
   "cell_type": "code",
   "execution_count": 9,
   "metadata": {},
   "outputs": [
    {
     "data": {
      "text/plain": [
       "[<matplotlib.lines.Line2D at 0x7f8b8c3df978>]"
      ]
     },
     "execution_count": 9,
     "metadata": {},
     "output_type": "execute_result"
    },
    {
     "data": {
      "image/png": "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\n",
      "text/plain": [
       "<Figure size 576x576 with 1 Axes>"
      ]
     },
     "metadata": {
      "needs_background": "light"
     },
     "output_type": "display_data"
    }
   ],
   "source": [
    "x=np.arange(-0.5,1,0.0001)\n",
    "g=reg.coef_*x+reg.intercept_         #LinearRegression拟合出来的直线，红色\n",
    "h=kb[0]*x+kb[1]                      #自己写的线性回归函数拟合出来的直线，蓝色\n",
    "绘制标准坐标轴()\n",
    "for 数据 in 训练数据:\n",
    "    plt.scatter(数据[0],数据[1])\n",
    "plt.plot(x,h,color='blue')\n",
    "plt.plot(x,g,color='red')           #红色线后绘制，两个拟合直线高度重合时，红色会盖住蓝色"
   ]
  },
  {
   "cell_type": "markdown",
   "metadata": {},
   "source": [
    "#### 2. Complete the unfinished KNN Model using pure python to solve the previous Line-Regression problem. (8 points)"
   ]
  },
  {
   "cell_type": "markdown",
   "metadata": {},
   "source": [
    "<评阅点>:\n",
    "> + 是否完成了KNN模型 (4')\n",
    "+ 是否能够预测新的数据 (4')"
   ]
  },
  {
   "cell_type": "code",
   "execution_count": 10,
   "metadata": {},
   "outputs": [],
   "source": [
    "def model(X, y):\n",
    "    return [(Xi, yi) for Xi, yi in 训练数据]"
   ]
  },
  {
   "cell_type": "code",
   "execution_count": 11,
   "metadata": {},
   "outputs": [],
   "source": [
    "from scipy.spatial.distance import cosine\n",
    "def distance(x1, x2):\n",
    "    return abs(x1-x2)#cosine(x1, x2)                                 #两点距离等于向量夹角的cos值？？？"
   ]
  },
  {
   "cell_type": "code",
   "execution_count": 12,
   "metadata": {},
   "outputs": [],
   "source": [
    "def predict(x, k=5):\n",
    "    most_similars = sorted(model(X, y), key=lambda xi: distance(xi[0], x))[:k]\n",
    "    # 已经获得了最相似的数据集\n",
    "    counter=0\n",
    "    for xi in most_similars:\n",
    "        counter += xi[1]\n",
    "    most_common=counter/k\n",
    "    return most_common\n",
    "    # 然后呢，Counter() -> most_common() -> 就可以获得出现最多的这个y了 \n",
    "    # 非数字，先数数，选出现最多的特性"
   ]
  },
  {
   "cell_type": "code",
   "execution_count": 13,
   "metadata": {},
   "outputs": [
    {
     "data": {
      "text/plain": [
       "6.903592111343643"
      ]
     },
     "execution_count": 13,
     "metadata": {},
     "output_type": "execute_result"
    }
   ],
   "source": [
    "f(0.5)"
   ]
  },
  {
   "cell_type": "code",
   "execution_count": 14,
   "metadata": {},
   "outputs": [
    {
     "data": {
      "text/plain": [
       "8.514836918610303"
      ]
     },
     "execution_count": 14,
     "metadata": {},
     "output_type": "execute_result"
    }
   ],
   "source": [
    "predict(0.5,5)"
   ]
  },
  {
   "cell_type": "markdown",
   "metadata": {},
   "source": [
    "#### 3. Re-code the Decision Tree, which could sort the features by salience. (12 points)"
   ]
  },
  {
   "cell_type": "markdown",
   "metadata": {},
   "source": [
    "<评阅点>\n",
    "> + 是否实现了信息熵 (1' )\n",
    "+ 是否实现了最优先特征点的选择(5')\n",
    "+ 是否实现了持续的特征选则(6')"
   ]
  },
  {
   "cell_type": "markdown",
   "metadata": {},
   "source": [
    "信息熵$$  Entropy= - \\sum_i^n Pr(x_i)log(Pr(x_i)) $$"
   ]
  },
  {
   "cell_type": "code",
   "execution_count": 15,
   "metadata": {},
   "outputs": [],
   "source": [
    "def 求信息熵(群体):#群体的混乱程度,值越大，越混乱;群体是列表 ，如：[A,B,A,A,C,D,D,F,E]\n",
    "    信息熵=0\n",
    "    for 个体 in 群体:\n",
    "        个体出现概率=群体.count(个体)/len(群体)\n",
    "        信息熵 +=-个体出现概率*np.log(个体出现概率)\n",
    "    return 信息熵"
   ]
  },
  {
   "cell_type": "code",
   "execution_count": 16,
   "metadata": {},
   "outputs": [
    {
     "data": {
      "text/plain": [
       "0.9938582532964797"
      ]
     },
     "execution_count": 16,
     "metadata": {},
     "output_type": "execute_result"
    }
   ],
   "source": [
    "求信息熵([1,1,1,0])"
   ]
  },
  {
   "cell_type": "code",
   "execution_count": 17,
   "metadata": {},
   "outputs": [],
   "source": [
    "mock_data = {\n",
    "    '性别':['F', 'F', 'F', 'F', 'M', 'M', 'M'],\n",
    "    '收入': ['+10', '-10', '+10', '+10', '+10', '+10', '-10'],\n",
    "    '家庭成员数': [1, 1, 2, 1, 1, 1, 2],\n",
    "    '是否购买': [1, 1, 1, 0, 0, 0, 1],\n",
    "}"
   ]
  },
  {
   "cell_type": "code",
   "execution_count": 18,
   "metadata": {
    "scrolled": true
   },
   "outputs": [
    {
     "data": {
      "text/html": [
       "<div>\n",
       "<style scoped>\n",
       "    .dataframe tbody tr th:only-of-type {\n",
       "        vertical-align: middle;\n",
       "    }\n",
       "\n",
       "    .dataframe tbody tr th {\n",
       "        vertical-align: top;\n",
       "    }\n",
       "\n",
       "    .dataframe thead th {\n",
       "        text-align: right;\n",
       "    }\n",
       "</style>\n",
       "<table border=\"1\" class=\"dataframe\">\n",
       "  <thead>\n",
       "    <tr style=\"text-align: right;\">\n",
       "      <th></th>\n",
       "      <th>性别</th>\n",
       "      <th>收入</th>\n",
       "      <th>家庭成员数</th>\n",
       "      <th>是否购买</th>\n",
       "    </tr>\n",
       "  </thead>\n",
       "  <tbody>\n",
       "    <tr>\n",
       "      <th>0</th>\n",
       "      <td>F</td>\n",
       "      <td>+10</td>\n",
       "      <td>1</td>\n",
       "      <td>1</td>\n",
       "    </tr>\n",
       "    <tr>\n",
       "      <th>1</th>\n",
       "      <td>F</td>\n",
       "      <td>-10</td>\n",
       "      <td>1</td>\n",
       "      <td>1</td>\n",
       "    </tr>\n",
       "    <tr>\n",
       "      <th>2</th>\n",
       "      <td>F</td>\n",
       "      <td>+10</td>\n",
       "      <td>2</td>\n",
       "      <td>1</td>\n",
       "    </tr>\n",
       "    <tr>\n",
       "      <th>3</th>\n",
       "      <td>F</td>\n",
       "      <td>+10</td>\n",
       "      <td>1</td>\n",
       "      <td>0</td>\n",
       "    </tr>\n",
       "    <tr>\n",
       "      <th>4</th>\n",
       "      <td>M</td>\n",
       "      <td>+10</td>\n",
       "      <td>1</td>\n",
       "      <td>0</td>\n",
       "    </tr>\n",
       "    <tr>\n",
       "      <th>5</th>\n",
       "      <td>M</td>\n",
       "      <td>+10</td>\n",
       "      <td>1</td>\n",
       "      <td>0</td>\n",
       "    </tr>\n",
       "    <tr>\n",
       "      <th>6</th>\n",
       "      <td>M</td>\n",
       "      <td>-10</td>\n",
       "      <td>2</td>\n",
       "      <td>1</td>\n",
       "    </tr>\n",
       "  </tbody>\n",
       "</table>\n",
       "</div>"
      ],
      "text/plain": [
       "  性别   收入  家庭成员数  是否购买\n",
       "0  F  +10      1     1\n",
       "1  F  -10      1     1\n",
       "2  F  +10      2     1\n",
       "3  F  +10      1     0\n",
       "4  M  +10      1     0\n",
       "5  M  +10      1     0\n",
       "6  M  -10      2     1"
      ]
     },
     "execution_count": 18,
     "metadata": {},
     "output_type": "execute_result"
    }
   ],
   "source": [
    "import pandas as pd\n",
    "dataset = pd.DataFrame.from_dict(mock_data)\n",
    "dataset"
   ]
  },
  {
   "cell_type": "code",
   "execution_count": 19,
   "metadata": {},
   "outputs": [],
   "source": [
    "#mock_data = {\n",
    "#    '性别':['F', 'F', 'F', 'F', 'M', 'M', 'M'],\n",
    "#    '收入': ['+10', '-10', '+10', '+10', '+10', '+10', '-10'],\n",
    "#    '家庭成员数': [1, 1, 2, 1, 1, 1, 2],\n",
    "#    '是否购买': [1, 1, 1, 0, 0, 0, 1],\n",
    "#}\n",
    "def 求分割特征项(数据表,目标):#dataset[dataset[\"family_number\"]==1]['bought'].tolist\n",
    "    最佳特征项列表=[]\n",
    "    while 1==1:\n",
    "        特征行 = set(数据表.columns.tolist()) - {目标} # set()-sett(),list之间没有减法。如果用list的话，后面循环时遇到目标可以跳出\n",
    "        特征行信息熵=[]\n",
    "        for 特征 in 特征行:                            # 特征行为列表，比如内容为[性别,收入,家庭成员数]；特征为里面的具体项，比如家庭成员\n",
    "            特征总信息熵=0\n",
    "            最小特征值信息熵=float('inf')               #float('inf')为无穷大\n",
    "            for 特征值 in set(数据表[特征]):            # 获取特征值，比如家庭成员为2的2\n",
    "                特征值对应目标值列表=list(数据表[数据表[特征]==特征值][目标])#获取该特征值下对应的所有目标值，并组织一个列表，然后求信息熵\n",
    "                特征值信息熵=求信息熵(特征值对应目标值列表)\n",
    "                if 特征值信息熵<=最小特征值信息熵:                           # 如果信息熵小于最小信息熵则，最小信息熵变成新求出来的这个信息熵\n",
    "                    信息熵最小特征值=特征值                                  # 并记录下来对应的特征值\n",
    "                    最小特征值信息熵=特征值信息熵\n",
    "                    目标值=round(sum(特征值对应目标值列表)/len(特征值对应目标值列表))\n",
    "                特征总信息熵 +=特征值信息熵                                  # 累加获得该特征项下所有信息熵的和\n",
    "            特征行信息熵.append([特征总信息熵,特征,信息熵最小特征值,目标值])\n",
    "\n",
    "        最佳特征项=min(特征行信息熵)\n",
    "        for 特征项 in 最佳特征项列表:\n",
    "            if 最佳特征项[1]==特征项[0]:return 最佳特征项列表\n",
    "        最佳特征项列表.append([最佳特征项[1],最佳特征项[2],最佳特征项[3]])\n",
    "        数据表=数据表[数据表[最佳特征项[1]]!=最佳特征项[2]]"
   ]
  },
  {
   "cell_type": "code",
   "execution_count": 20,
   "metadata": {
    "scrolled": true
   },
   "outputs": [
    {
     "name": "stdout",
     "output_type": "stream",
     "text": [
      "[['家庭成员数', 2, 1], ['性别', 'M', 0], ['收入', '-10', 1]]\n"
     ]
    }
   ],
   "source": [
    "特征项分割=求分割特征项(dataset,\"是否购买\")\n",
    "print(特征项分割)"
   ]
  },
  {
   "cell_type": "code",
   "execution_count": 21,
   "metadata": {},
   "outputs": [],
   "source": [
    "dataset1=dataset[dataset[\"家庭成员数\"]!=2]\n",
    "dataset2=dataset1[dataset1[\"性别\"]!=\"M\"]\n",
    "dataset3=dataset2[dataset2[\"收入\"]!=\"-10\"]\n"
   ]
  },
  {
   "cell_type": "code",
   "execution_count": 22,
   "metadata": {
    "scrolled": true
   },
   "outputs": [
    {
     "data": {
      "text/html": [
       "<div>\n",
       "<style scoped>\n",
       "    .dataframe tbody tr th:only-of-type {\n",
       "        vertical-align: middle;\n",
       "    }\n",
       "\n",
       "    .dataframe tbody tr th {\n",
       "        vertical-align: top;\n",
       "    }\n",
       "\n",
       "    .dataframe thead th {\n",
       "        text-align: right;\n",
       "    }\n",
       "</style>\n",
       "<table border=\"1\" class=\"dataframe\">\n",
       "  <thead>\n",
       "    <tr style=\"text-align: right;\">\n",
       "      <th></th>\n",
       "      <th>性别</th>\n",
       "      <th>收入</th>\n",
       "      <th>家庭成员数</th>\n",
       "      <th>是否购买</th>\n",
       "    </tr>\n",
       "  </thead>\n",
       "  <tbody>\n",
       "    <tr>\n",
       "      <th>0</th>\n",
       "      <td>F</td>\n",
       "      <td>+10</td>\n",
       "      <td>1</td>\n",
       "      <td>1</td>\n",
       "    </tr>\n",
       "    <tr>\n",
       "      <th>1</th>\n",
       "      <td>F</td>\n",
       "      <td>-10</td>\n",
       "      <td>1</td>\n",
       "      <td>1</td>\n",
       "    </tr>\n",
       "    <tr>\n",
       "      <th>3</th>\n",
       "      <td>F</td>\n",
       "      <td>+10</td>\n",
       "      <td>1</td>\n",
       "      <td>0</td>\n",
       "    </tr>\n",
       "    <tr>\n",
       "      <th>4</th>\n",
       "      <td>M</td>\n",
       "      <td>+10</td>\n",
       "      <td>1</td>\n",
       "      <td>0</td>\n",
       "    </tr>\n",
       "    <tr>\n",
       "      <th>5</th>\n",
       "      <td>M</td>\n",
       "      <td>+10</td>\n",
       "      <td>1</td>\n",
       "      <td>0</td>\n",
       "    </tr>\n",
       "  </tbody>\n",
       "</table>\n",
       "</div>"
      ],
      "text/plain": [
       "  性别   收入  家庭成员数  是否购买\n",
       "0  F  +10      1     1\n",
       "1  F  -10      1     1\n",
       "3  F  +10      1     0\n",
       "4  M  +10      1     0\n",
       "5  M  +10      1     0"
      ]
     },
     "execution_count": 22,
     "metadata": {},
     "output_type": "execute_result"
    }
   ],
   "source": [
    "dataset1"
   ]
  },
  {
   "cell_type": "code",
   "execution_count": 23,
   "metadata": {},
   "outputs": [
    {
     "data": {
      "text/html": [
       "<div>\n",
       "<style scoped>\n",
       "    .dataframe tbody tr th:only-of-type {\n",
       "        vertical-align: middle;\n",
       "    }\n",
       "\n",
       "    .dataframe tbody tr th {\n",
       "        vertical-align: top;\n",
       "    }\n",
       "\n",
       "    .dataframe thead th {\n",
       "        text-align: right;\n",
       "    }\n",
       "</style>\n",
       "<table border=\"1\" class=\"dataframe\">\n",
       "  <thead>\n",
       "    <tr style=\"text-align: right;\">\n",
       "      <th></th>\n",
       "      <th>性别</th>\n",
       "      <th>收入</th>\n",
       "      <th>家庭成员数</th>\n",
       "      <th>是否购买</th>\n",
       "    </tr>\n",
       "  </thead>\n",
       "  <tbody>\n",
       "    <tr>\n",
       "      <th>0</th>\n",
       "      <td>F</td>\n",
       "      <td>+10</td>\n",
       "      <td>1</td>\n",
       "      <td>1</td>\n",
       "    </tr>\n",
       "    <tr>\n",
       "      <th>1</th>\n",
       "      <td>F</td>\n",
       "      <td>-10</td>\n",
       "      <td>1</td>\n",
       "      <td>1</td>\n",
       "    </tr>\n",
       "    <tr>\n",
       "      <th>3</th>\n",
       "      <td>F</td>\n",
       "      <td>+10</td>\n",
       "      <td>1</td>\n",
       "      <td>0</td>\n",
       "    </tr>\n",
       "  </tbody>\n",
       "</table>\n",
       "</div>"
      ],
      "text/plain": [
       "  性别   收入  家庭成员数  是否购买\n",
       "0  F  +10      1     1\n",
       "1  F  -10      1     1\n",
       "3  F  +10      1     0"
      ]
     },
     "execution_count": 23,
     "metadata": {},
     "output_type": "execute_result"
    }
   ],
   "source": [
    "dataset2"
   ]
  },
  {
   "cell_type": "code",
   "execution_count": 24,
   "metadata": {},
   "outputs": [
    {
     "data": {
      "text/html": [
       "<div>\n",
       "<style scoped>\n",
       "    .dataframe tbody tr th:only-of-type {\n",
       "        vertical-align: middle;\n",
       "    }\n",
       "\n",
       "    .dataframe tbody tr th {\n",
       "        vertical-align: top;\n",
       "    }\n",
       "\n",
       "    .dataframe thead th {\n",
       "        text-align: right;\n",
       "    }\n",
       "</style>\n",
       "<table border=\"1\" class=\"dataframe\">\n",
       "  <thead>\n",
       "    <tr style=\"text-align: right;\">\n",
       "      <th></th>\n",
       "      <th>性别</th>\n",
       "      <th>收入</th>\n",
       "      <th>家庭成员数</th>\n",
       "      <th>是否购买</th>\n",
       "    </tr>\n",
       "  </thead>\n",
       "  <tbody>\n",
       "    <tr>\n",
       "      <th>0</th>\n",
       "      <td>F</td>\n",
       "      <td>+10</td>\n",
       "      <td>1</td>\n",
       "      <td>1</td>\n",
       "    </tr>\n",
       "    <tr>\n",
       "      <th>3</th>\n",
       "      <td>F</td>\n",
       "      <td>+10</td>\n",
       "      <td>1</td>\n",
       "      <td>0</td>\n",
       "    </tr>\n",
       "  </tbody>\n",
       "</table>\n",
       "</div>"
      ],
      "text/plain": [
       "  性别   收入  家庭成员数  是否购买\n",
       "0  F  +10      1     1\n",
       "3  F  +10      1     0"
      ]
     },
     "execution_count": 24,
     "metadata": {},
     "output_type": "execute_result"
    }
   ],
   "source": [
    "dataset3"
   ]
  },
  {
   "cell_type": "markdown",
   "metadata": {},
   "source": [
    "两口子肯定买，单身男性肯定不买，单身女性可能买，缺钱的单身女性必然会买。\n",
    "这大概是一种家庭需要，男士不会用或用不到，女性用的到但有钱不买这个东西，也能通过其他消费享受到服务，但是没钱只能买了自己给自己服务的一些东西"
   ]
  },
  {
   "cell_type": "markdown",
   "metadata": {},
   "source": [
    "#### 4. Finish the K-Means using 2-D matplotlib (8 points)"
   ]
  },
  {
   "cell_type": "markdown",
   "metadata": {},
   "source": [
    "<评阅点>\n",
    "> + 是否完成了KMeans模型，基于scikit-learning (3')\n",
    "+ 是否完成了可视化任务（5'）"
   ]
  },
  {
   "cell_type": "code",
   "execution_count": 25,
   "metadata": {},
   "outputs": [],
   "source": [
    "from sklearn.cluster import KMeans"
   ]
  },
  {
   "cell_type": "code",
   "execution_count": 26,
   "metadata": {},
   "outputs": [],
   "source": [
    "X = [random.randint(0, 100) for _ in range(100)]\n",
    "Y = [random.randint(0, 100) for _ in range(100)]\n",
    "tranning_data = [[x, y] for x, y in zip(X, Y)]\n"
   ]
  },
  {
   "cell_type": "code",
   "execution_count": 27,
   "metadata": {},
   "outputs": [],
   "source": [
    "cluster = KMeans(n_clusters=6, max_iter=500)"
   ]
  },
  {
   "cell_type": "code",
   "execution_count": 28,
   "metadata": {},
   "outputs": [
    {
     "data": {
      "text/plain": [
       "KMeans(algorithm='auto', copy_x=True, init='k-means++', max_iter=500,\n",
       "       n_clusters=6, n_init=10, n_jobs=None, precompute_distances='auto',\n",
       "       random_state=None, tol=0.0001, verbose=0)"
      ]
     },
     "execution_count": 28,
     "metadata": {},
     "output_type": "execute_result"
    }
   ],
   "source": [
    "cluster.fit(tranning_data)"
   ]
  },
  {
   "cell_type": "code",
   "execution_count": 29,
   "metadata": {},
   "outputs": [
    {
     "data": {
      "text/plain": [
       "array([[78.85714286, 12.35714286],\n",
       "       [72.66666667, 88.        ],\n",
       "       [23.39130435, 68.17391304],\n",
       "       [16.09090909, 18.18181818],\n",
       "       [90.13333333, 44.2       ],\n",
       "       [52.09090909, 47.04545455]])"
      ]
     },
     "execution_count": 29,
     "metadata": {},
     "output_type": "execute_result"
    }
   ],
   "source": [
    "cluster.cluster_centers_"
   ]
  },
  {
   "cell_type": "code",
   "execution_count": 30,
   "metadata": {},
   "outputs": [],
   "source": [
    "from collections import defaultdict"
   ]
  },
  {
   "cell_type": "code",
   "execution_count": 31,
   "metadata": {},
   "outputs": [],
   "source": [
    "centers = defaultdict(list)"
   ]
  },
  {
   "cell_type": "code",
   "execution_count": 32,
   "metadata": {},
   "outputs": [
    {
     "data": {
      "image/png": "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\n",
      "text/plain": [
       "<Figure size 432x288 with 1 Axes>"
      ]
     },
     "metadata": {
      "needs_background": "light"
     },
     "output_type": "display_data"
    }
   ],
   "source": [
    "for label, location in zip(cluster.labels_, tranning_data):\n",
    "    centers[label].append(location)\n",
    "    color = ['red', 'green', 'grey', 'black', 'yellow', 'orange']\n",
    "\n",
    "for i, c in enumerate(centers):\n",
    "    for location in centers[c]:\n",
    "        plt.scatter(*location, c=color[i])\n",
    "        \n",
    "for center in cluster.cluster_centers_:\n",
    "    plt.scatter(*center, s=100)"
   ]
  },
  {
   "cell_type": "markdown",
   "metadata": {},
   "source": [
    "## Part-2 Question and Answer 问答"
   ]
  },
  {
   "cell_type": "markdown",
   "metadata": {},
   "source": [
    "#### 1. What's the *model*? why  all the models are wrong, but some are useful? (5 points) "
   ]
  },
  {
   "cell_type": "markdown",
   "metadata": {},
   "source": [
    "Ans:模型是在现实中的某个对象的基础上选择我们重点关心特征、参数建立的，用来表示这个对象的东西。他是错的，因为他不能完全代表这个对象，否则模型就是这个对象的克隆体了，会带有太多我们不需要的东西。模型是有用的，是因为建模本身就是基于现实的，在某些方面或者特定条件下，与现实中的那个对象有着相同或者相似的特性，用他来做实验，可以推断现实中的那个对象可能发生的变化。"
   ]
  },
  {
   "cell_type": "markdown",
   "metadata": {},
   "source": [
    "<评阅点>\n",
    "> + 对模型的理解是否正确,对模型的抽象性是否正确(5')"
   ]
  },
  {
   "cell_type": "markdown",
   "metadata": {},
   "source": [
    "#### 2. What's the underfitting and overfitting? List the reasons that could make model overfitting or underfitting. (10 points)"
   ]
  },
  {
   "cell_type": "markdown",
   "metadata": {},
   "source": [
    "Ans:\n",
    "\n",
    "过拟合：训练出来的模型，在训练数据上表现效果好，在测试数据上表现效果差。产生原因：1、训练数据太少，训练数据不太具有代表性，训练数据的分布不能覆盖全部数据的分布范围；2、模型过于复杂，把训练数据中不具有代表性的、有误差的数据都“完美”拟合了。\n",
    "\n",
    "欠拟合：训练出来的模型，在训练数据上和测试数据上表现效果都很差。产生原因：模型太简单，或者迭代次数太少，没有地捕捉到数据特征"
   ]
  },
  {
   "cell_type": "markdown",
   "metadata": {},
   "source": [
    "<评阅点>\n",
    "> + 对过拟合和欠拟合的理解是否正确 (3')\n",
    "+ 对欠拟合产生的原因是否理解正确(2')\n",
    "+ 对过拟合产生的原因是否理解正确(5')"
   ]
  },
  {
   "cell_type": "markdown",
   "metadata": {},
   "source": [
    "#### 3. What's the precision, recall, AUC, F1, F2score. What are they mainly target on? (12')"
   ]
  },
  {
   "cell_type": "markdown",
   "metadata": {},
   "source": [
    "Ans:"
   ]
  },
  {
   "cell_type": "markdown",
   "metadata": {},
   "source": [
    "<评阅点>\n",
    "> + 对precision, recall, AUC, F1, F2 理解是否正确(6‘)\n",
    "+ 对precision, recall, AUC, F1, F2的使用侧重点是否理解正确 (6’)"
   ]
  },
  {
   "cell_type": "markdown",
   "metadata": {},
   "source": [
    "#### 4. Based on our course and yourself mind, what's the machine learning?  (8')"
   ]
  },
  {
   "cell_type": "markdown",
   "metadata": {},
   "source": [
    "Ans:\n",
    "\n",
    "传统的分析式编程：需要人工分析问题来提出解决方案，然后通过编程来实现解决方案。\n",
    "特点就是：1、输入的是数据，输出的数据；2、需要人工分析并编程；3、结果对特定问题解决比较好，一旦问题出现新的变化，需要重新编程。\n",
    "\n",
    "机器学习：机器通过处理大量数据，寻求数据间的关系，并建立一个可以预测新数据的模型，以此解决某些问题。\n",
    "特点就是：1、输出的是数据，输出的是程序；2、少量的人工分析甚至不需要人工分析；3、问题出现新的变化，不需要重新编程，机器自己重新学习一下就行了。\n"
   ]
  },
  {
   "cell_type": "markdown",
   "metadata": {},
   "source": [
    "<评阅点> 开放式问题，是否能说出来机器学习这种思维方式和传统的分析式编程的区别（8'）"
   ]
  },
  {
   "cell_type": "markdown",
   "metadata": {},
   "source": [
    "#### 5. \"正确定义了机器学习模型的评价标准(evaluation)， 问题基本上就已经解决一半\". 这句话是否正确？你是怎么看待的？ (8‘)"
   ]
  },
  {
   "cell_type": "markdown",
   "metadata": {},
   "source": [
    "Ans:有正确的评价标准才能给出正确的反馈，推进机器学习模型往正确道路上前进，否则越跑越偏呀。"
   ]
  },
  {
   "cell_type": "markdown",
   "metadata": {},
   "source": [
    "<评阅点> 开放式问题，主要看能理解评价指标对机器学习模型的重要性."
   ]
  },
  {
   "cell_type": "markdown",
   "metadata": {},
   "source": [
    "## Part-03 Programming Practice 编程练习"
   ]
  },
  {
   "cell_type": "markdown",
   "metadata": {},
   "source": [
    "1. In our course and previous practice, we complete some importance components of Decision Tree. In this problem, you need to build a **completed** Decision Tree Model. You show finish a `predicate()` function, which accepts three parameters **<gender, income, family_number>**, and outputs the predicated 'bought': 1 or 0.  (20 points)"
   ]
  },
  {
   "cell_type": "code",
   "execution_count": 33,
   "metadata": {},
   "outputs": [],
   "source": [
    "def predicate(分割特征项集,参数集):         #分割特征项是一个列表，[[特征项1，特征值1，目标值1],[特征项2，特征值2，目标值2],...]\n",
    "                                         #参数集是一个列表，[[gender,\"F\"]，[income,\"-10\"],[family_number,2]\n",
    "    for 特征项 in 分割特征项集:          #特征项是[特征项，特征值，目标值]\n",
    "        for  参数 in 参数集:\n",
    "            if 参数[0]!=特征项[0]:continue\n",
    "            if 参数[1]==特征项[1]:return print('bought:',特征项[2])\n",
    "    return print(\"bought:1 or 0\")"
   ]
  },
  {
   "cell_type": "code",
   "execution_count": 34,
   "metadata": {},
   "outputs": [
    {
     "name": "stdout",
     "output_type": "stream",
     "text": [
      "bought: 0\n"
     ]
    }
   ],
   "source": [
    "predicate(特征项分割,[[\"性别\",\"M\"],[\"收入\",\"-10\"],[\"家庭成员数\",1]])"
   ]
  },
  {
   "cell_type": "markdown",
   "metadata": {},
   "source": [
    "<评阅点>\n",
    "> + 是否将之前的决策树模型的部分进行合并组装， predicate函数能够顺利运行(8')\n",
    "+ 是够能够输入未曾见过的X变量，例如gender, income, family_number 分别是： <M, -10, 1>, 模型能够预测出结果 (12')"
   ]
  },
  {
   "cell_type": "markdown",
   "metadata": {},
   "source": [
    "2. 将上一节课(第二节课)的线性回归问题中的Loss函数改成\"绝对值\"，并且改变其偏导的求值方式，观察其结果的变化。(19 point)"
   ]
  },
  {
   "cell_type": "markdown",
   "metadata": {},
   "source": [
    "$ loss_{single}=|y-\\hat y|=|y-kx-b|$\n",
    "\n",
    "$ loss_{single}=\\begin{cases}y-kx-b, y>kx+b \\\\kx+b-y, y≤kx+b\\end{cases}$\n",
    "\n",
    "\n",
    "$ loss = \\frac{1}{n} \\sum{|y_i-kx_i-b|} $\n",
    "\n",
    "令$f_i=|y_i-kx_i-b|$\n",
    "\n",
    "$f_i=\\begin{cases}y_i-kx_i-b, y_i>kx_i+b \\\\kx_i+b-y_i, y_i≤kx_i+b\\end{cases}$\n",
    "\n",
    "$ \\frac {\\partial f_i}{\\partial k}=\\begin{cases}-x_i, y_i>kx_i+b \\\\x_i, y_i≤kx_i+b\\end{cases}$\n",
    "\n",
    "$ \\frac {\\partial f_i}{\\partial b}=\\begin{cases}-1, y_i>kx_i+b \\\\1, y_i≤kx_i+b\\end{cases}$\n",
    "\n",
    "$ \\frac{\\partial{loss}}{\\partial{k}} = \\frac{1}{n} \\sum{\\frac {\\partial f_i}{\\partial k}}$\n",
    "\n",
    "$ \\frac{\\partial{loss}}{\\partial{b}} = \\frac{1}{n} \\sum{\\frac {\\partial f_i}{\\partial b}}$\n",
    "\n",
    "梯度为\n",
    "$ (\\frac{\\partial{loss}}{\\partial{k}},\\frac{\\partial{loss}}{\\partial{b}})$\n",
    "\n",
    "令$ \\frac{\\partial{loss}}{\\partial{k}}=dk,\\frac{\\partial{loss}}{\\partial{b}}=db$\n"
   ]
  },
  {
   "cell_type": "code",
   "execution_count": 35,
   "metadata": {},
   "outputs": [],
   "source": [
    "def 求损失函数梯度方向(k,b,训练数据):                                      #损失函数loss = |y-\\hat y| \n",
    "    #损失函数梯度\n",
    "    dk=0\n",
    "    db=0\n",
    "    #import math\n",
    "    for 数据 in 训练数据:                                                  #数据=[x,y]\n",
    "        x_i=数据[0]\n",
    "        y_i=数据[1]\n",
    "        if y_i > k*x_i+b:n=-1\n",
    "        else:n=1\n",
    "        dk += n*x_i\n",
    "        db += n\n",
    "        #print(dk,db)\n",
    "    dk=1/len(训练数据)*dk\n",
    "    db=1/len(训练数据)*db\n",
    "    #单位向量=[dk/math.sqrt(dk*dk+db*db),db/math.sqrt(dk*dk+db*db)]       #使用单位向量，如果初始误差太大，步进太慢，直接使用梯度向量可以快速逼近\n",
    "    return [dk,db]"
   ]
  },
  {
   "cell_type": "code",
   "execution_count": 36,
   "metadata": {},
   "outputs": [
    {
     "name": "stdout",
     "output_type": "stream",
     "text": [
      "k= 6.99490577174981 b= 4.003172895523429\n"
     ]
    }
   ],
   "source": [
    "kb=线性回归(训练数据,步长=0.1,迭代次数=10000) #步长越短，需要迭代的次数越多。步长越长，越容易震荡，不容易得出结果。如何选取合适的步长呢？\n",
    "print(\"k=\",kb[0],\"b=\",kb[1])"
   ]
  },
  {
   "cell_type": "code",
   "execution_count": 37,
   "metadata": {},
   "outputs": [
    {
     "data": {
      "text/plain": [
       "[<matplotlib.lines.Line2D at 0x7f8b8979a438>]"
      ]
     },
     "execution_count": 37,
     "metadata": {},
     "output_type": "execute_result"
    },
    {
     "data": {
      "image/png": "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\n",
      "text/plain": [
       "<Figure size 576x576 with 1 Axes>"
      ]
     },
     "metadata": {
      "needs_background": "light"
     },
     "output_type": "display_data"
    }
   ],
   "source": [
    "x=np.arange(-0.5,1,0.0001)\n",
    "g=reg.coef_*x+reg.intercept_         #LinearRegression拟合出来的直线，红色\n",
    "h=kb[0]*x+kb[1]                      #自己写的线性回归函数拟合出来的直线，蓝色\n",
    "绘制标准坐标轴()\n",
    "for 数据 in 训练数据:\n",
    "    plt.scatter(数据[0],数据[1])\n",
    "plt.plot(x,h,color='blue')\n",
    "plt.plot(x,g,color='red')           #红色线后绘制，两个拟合直线高度重合时，红色会盖住蓝色"
   ]
  },
  {
   "cell_type": "markdown",
   "metadata": {},
   "source": [
    "## loss 不收敛！！！！"
   ]
  },
  {
   "cell_type": "markdown",
   "metadata": {},
   "source": [
    "<评阅点>\n",
    "+ 是否将Loss改成了“绝对值”(3')\n",
    "+ 是否完成了偏导的重新定义(5')\n",
    "+ 新的模型Loss是否能够收敛 (11’)"
   ]
  },
  {
   "cell_type": "markdown",
   "metadata": {},
   "source": []
  }
 ],
 "metadata": {
  "kernelspec": {
   "display_name": "Python 3",
   "language": "python",
   "name": "python3"
  },
  "language_info": {
   "codemirror_mode": {
    "name": "ipython",
    "version": 3
   },
   "file_extension": ".py",
   "mimetype": "text/x-python",
   "name": "python",
   "nbconvert_exporter": "python",
   "pygments_lexer": "ipython3",
   "version": "3.7.3"
  }
 },
 "nbformat": 4,
 "nbformat_minor": 2
}

    "# %matplotlib inline\n",
    "#加不加%matplotlib inline貌似现在没啥影响\n",
    "import matplotlib.pyplot as plt\n",
    "from scipy.misc import derivative#加载求导函数\n",
    "import numpy as np\n",
    "\n",
    "def 绘制标准坐标轴():\n",
    "    import mpl_toolkits.axisartist as axisartist\n",
    "    #创建画布\n",
    "    fig = plt.figure(figsize=(8, 8))\n",
    "    #使用axisartist.Subplot方法创建一个绘图区对象ax\n",
    "    ax = axisartist.Subplot(fig, 111)  \n",
    "    #将绘图区对象添加到画布中\n",
    "    fig.add_axes(ax)\n",
    "\n",
    "    #通过set_visible方法设置绘图区所有坐标轴隐藏\n",
    "    ax.axis[:].set_visible(False)\n",
    "\n",
    "    #ax.new_floating_axis代表添加新的坐标轴\n",
    "    ax.axis[\"x\"] = ax.new_floating_axis(0,0)\n",
    "\n",
    "    #给x坐标轴加上箭头,\"->\"表示是空箭头，size = 0.5表示箭头大小\n",
    "    ax.axis[\"x\"].set_axisline_style(\"->\", size = 0.5)\n",
    "\n",
    "    #添加y坐标轴，且加上箭头,\"-|>\"则是实心箭头\n",
    "    ax.axis[\"y\"] = ax.new_floating_axis(1,0)\n",
    "    ax.axis[\"y\"].set_axisline_style(\"-|>\", size = 0.5)\n",
    "\n",
    "    #设置x、y轴上刻度显示方向\n",
    "    ax.axis[\"x\"].set_axis_direction(\"top\")\n",
    "    ax.axis[\"y\"].set_axis_direction(\"right\")"
   ]
  },
  {
   "cell_type": "markdown",
   "metadata": {},
   "source": [
    "## Assignment-03 First Step of Machine Learning: Model and Evaluation"
   ]
  },
  {
   "cell_type": "markdown",
   "metadata": {},
   "source": [
    "同学们，今天我们的学习了基本的机器学习概念，相比你已经对机器学习的这些方法有一个基本的认识了。值得说明的是，机器学习不仅仅是一系列方法，更重要的是一种思维体系，即：依据以往的、现有的数据，构建某种方法来解B决未见过的问题。而且决策树，贝叶斯只是实现这个目标的一个方法，包括之后的神经网络。很有可能有一天，神经网络也会被淘汰，但是重要的是我们要理解机器学习的目标，就是尽可能的自动化解决未知的问题。"
   ]
  },
  {
   "cell_type": "markdown",
   "metadata": {},
   "source": [
    "![](https://timgsa.baidu.com/timg?image&quality=80&size=b9999_10000&sec=1571556399207&di=4a97dc15ad08dd49d3748d1edf6109b3&imgtype=0&src=http%3A%2F%2Fc.hiphotos.baidu.com%2Fzhidao%2Fwh%3D450%2C600%2Fsign%3Dae742c6aedcd7b89e93932873a146e91%2F5d6034a85edf8db1b16050c40223dd54574e74c7.jpg)"
   ]
  },
  {
   "cell_type": "markdown",
   "metadata": {},
   "source": [
    "## Part-1 Programming Review 编程回顾"
   ]
  },
  {
   "cell_type": "markdown",
   "metadata": {},
   "source": [
    "#### 1. Re-code the Linear-Regression Model using scikit-learning(10 points)"
   ]
  },
  {
   "cell_type": "markdown",
   "metadata": {},
   "source": [
    "<评阅点>： \n",
    "> + 是否完成线性回归模型 (4')\n",
    "+ 能够进行预测新数据(3')\n",
    "+ 能够进行可视化操作(3')"
   ]
  },
  {
   "cell_type": "code",
   "execution_count": 2,
   "metadata": {},
   "outputs": [],
   "source": [
    "import numpy as np\n",
    "import random\n",
    "随机数 = np.random.random((20, 2))\n",
    "X = 随机数[:, 0]\n",
    "Y= []\n",
    "训练数据=[]\n",
    "\n",
    "for x in X:\n",
    "    y=x*7+ 3 + random.randint(-5, 5)\n",
    "    Y.append(y)\n",
    "    训练数据.append([x,y])\n",
    "\n"
   ]
  },
  {
   "cell_type": "markdown",
   "metadata": {},
   "source": [
    "$ loss_{single}=(y-\\hat y)^2=(y-kx-b)^2$\n",
    "\n",
    "$ loss = \\frac{1}{n} \\sum{(y_i - kx_i - b)}^2 $\n",
    "\n",
    "$ \\frac{\\partial{loss}}{\\partial{k}} = \\frac{2}{n}\\sum(kx_i-y_i+b)x_i$\n",
    "\n",
    "$ \\frac{\\partial{loss}}{\\partial{b}} = \\frac{2}{n}\\sum(b+kx_i-y_i)=\\frac{2}{n}\\sum(kx_i-y_i+b)$\n",
    "\n",
    "梯度为\n",
    "$ (\\frac{\\partial{loss}}{\\partial{k}},\\frac{\\partial{loss}}{\\partial{b}})$\n",
    "\n",
    "梯度的单位向量$ (\\frac {\\frac{\\partial loss}{\\partial k}}{\\sqrt{(\\frac{\\partial loss}{\\partial k})^2 + (\\frac{\\partial loss}{\\partial b })^2}},\\frac {\\frac{\\partial loss}{\\partial b}}{\\sqrt{(\\frac{\\partial loss}{\\partial k})^2 + (\\frac{\\partial loss}{\\partial b })^2}})$\n",
    "\n",
    "令$ \\frac{\\partial{loss}}{\\partial{k}}=dk,\\frac{\\partial{loss}}{\\partial{b}}=db$\n",
    "\n"
   ]
  },
  {
   "cell_type": "code",
   "execution_count": 3,
   "metadata": {},
   "outputs": [],
   "source": [
    "def 求损失函数梯度方向(k,b,训练数据):                                      #损失函数loss = \\frac{1}{n} \\sum{(y_i - kx_i - b_i)}^2 \n",
    "    #损失函数梯度\n",
    "    dk=0\n",
    "    db=0\n",
    "    #import math\n",
    "    for 数据 in 训练数据:                                                  #数据=[x,y]\n",
    "        x_i=数据[0]\n",
    "        y_i=数据[1]\n",
    "        dk += x_i*(k*x_i-y_i+b)\n",
    "        db += (k*x_i-y_i+b)\n",
    "        #print(dk,db)\n",
    "    dk=2/len(训练数据)*dk\n",
    "    db=2/len(训练数据)*db\n",
    "    #单位向量=[dk/math.sqrt(dk*dk+db*db),db/math.sqrt(dk*dk+db*db)]       #使用单位向量，如果初始误差太大，步进太慢，直接使用梯度向量可以快速逼近\n",
    "    return [dk,db]"
   ]
  },
  {
   "cell_type": "code",
   "execution_count": 4,
   "metadata": {},
   "outputs": [],
   "source": [
    "def 线性回归(训练数据,步长,迭代次数):\n",
    "    import random\n",
    "    k = random.random() * 200 - 100  # -100 100\n",
    "    b = random.random() * 200 - 100  # -100 100\n",
    "    for i in range(迭代次数):\n",
    "        方向=求损失函数梯度方向(k,b,训练数据)\n",
    "        k=k+方向[0]*步长*(-1)                            #梯度下降，沿梯度反方向迭代，故乘以-1\n",
    "        b=b+方向[1]*步长*(-1)\n",
    "    return (k,b)"
   ]
  },
  {
   "cell_type": "code",
   "execution_count": 5,
   "metadata": {
    "scrolled": true
   },
   "outputs": [
    {
     "name": "stdout",
     "output_type": "stream",
     "text": [
      "k= 5.086638247318512 b= 5.246868866255845\n"
     ]
    }
   ],
   "source": [
    "kb=线性回归(训练数据,步长=0.1,迭代次数=4000) #步长越短，需要迭代的次数越多。步长越长，越容易震荡，不容易得出结果。如何选取合适的步长呢？\n",
    "print(\"k=\",kb[0],\"b=\",kb[1])"
   ]
  },
  {
   "cell_type": "code",
   "execution_count": 6,
   "metadata": {},
   "outputs": [
    {
     "data": {
      "text/plain": [
       "279.9253342214555"
      ]
     },
     "execution_count": 6,
     "metadata": {},
     "output_type": "execute_result"
    }
   ],
   "source": [
    "def f(x):\n",
    "    return kb[0]*x+kb[1]\n",
    "f(54)"
   ]
  },
  {
   "cell_type": "code",
   "execution_count": 7,
   "metadata": {},
   "outputs": [],
   "source": [
    "from sklearn.linear_model import LinearRegression #加载sklearn的LinearRegression模块"
   ]
  },
  {
   "cell_type": "code",
   "execution_count": 8,
   "metadata": {},
   "outputs": [
    {
     "name": "stdout",
     "output_type": "stream",
     "text": [
      "k= [5.08663825] b= 5.246868866255815\n"
     ]
    }
   ],
   "source": [
    "reg = LinearRegression().fit(X.reshape(-1, 1), Y)\n",
    "print(\"k=\",reg.coef_,\"b=\",reg.intercept_)                    #用LinearRegression拟合k和b与自己写的线性回归函数做个对比。"
   ]
  },
  {
   "cell_type": "code",
   "execution_count": 9,
   "metadata": {},
   "outputs": [
    {
     "data": {
      "text/plain": [
       "[<matplotlib.lines.Line2D at 0x7fe91c186780>]"
      ]
     },
     "execution_count": 9,
     "metadata": {},
     "output_type": "execute_result"
    },
    {
     "data": {
      "image/png": "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\n",
      "text/plain": [
       "<Figure size 576x576 with 1 Axes>"
      ]
     },
     "metadata": {
      "needs_background": "light"
     },
     "output_type": "display_data"
    }
   ],
   "source": [
    "x=np.arange(-0.5,1,0.0001)\n",
    "g=reg.coef_*x+reg.intercept_         #LinearRegression拟合出来的直线，红色\n",
    "h=kb[0]*x+kb[1]                      #自己写的线性回归函数拟合出来的直线，蓝色\n",
    "绘制标准坐标轴()\n",
    "for 数据 in 训练数据:\n",
    "    plt.scatter(数据[0],数据[1])\n",
    "plt.plot(x,h,color='blue')\n",
    "plt.plot(x,g,color='red')           #红色线后绘制，两个拟合直线高度重合时，红色会盖住蓝色"
   ]
  },
  {
   "cell_type": "markdown",
   "metadata": {},
   "source": [
    "#### 2. Complete the unfinished KNN Model using pure python to solve the previous Line-Regression problem. (8 points)"
   ]
  },
  {
   "cell_type": "markdown",
   "metadata": {},
   "source": [
    "<评阅点>:\n",
    "> + 是否完成了KNN模型 (4')\n",
    "+ 是否能够预测新的数据 (4')"
   ]
  },
  {
   "cell_type": "code",
   "execution_count": 10,
   "metadata": {},
   "outputs": [],
   "source": [
    "def model(X, y):\n",
    "    return [(Xi, yi) for Xi, yi in 训练数据]"
   ]
  },
  {
   "cell_type": "code",
   "execution_count": 11,
   "metadata": {},
   "outputs": [],
   "source": [
    "from scipy.spatial.distance import cosine\n",
    "def distance(x1, x2):\n",
    "    return abs(x1-x2)#cosine(x1, x2)                                 #两点距离等于向量夹角的cos值？？？"
   ]
  },
  {
   "cell_type": "code",
   "execution_count": 12,
   "metadata": {},
   "outputs": [],
   "source": [
    "def predict(x, k=5):\n",
    "    most_similars = sorted(model(X, y), key=lambda xi: distance(xi[0], x))[:k]\n",
    "    # 已经获得了最相似的数据集\n",
    "    counter=0\n",
    "    for xi in most_similars:\n",
    "        counter += xi[1]\n",
    "    most_common=counter/k\n",
    "    return most_common\n",
    "    # 然后呢，Counter() -> most_common() -> 就可以获得出现最多的这个y了 \n",
    "    # 非数字，先数数，选出现最多的特性"
   ]
  },
  {
   "cell_type": "code",
   "execution_count": 13,
   "metadata": {},
   "outputs": [
    {
     "data": {
      "text/plain": [
       "7.7901879899151005"
      ]
     },
     "execution_count": 13,
     "metadata": {},
     "output_type": "execute_result"
    }
   ],
   "source": [
    "f(0.5)"
   ]
  },
  {
   "cell_type": "code",
   "execution_count": 14,
   "metadata": {},
   "outputs": [
    {
     "data": {
      "text/plain": [
       "9.293030244490284"
      ]
     },
     "execution_count": 14,
     "metadata": {},
     "output_type": "execute_result"
    }
   ],
   "source": [
    "predict(0.5,5)"
   ]
  },
  {
   "cell_type": "markdown",
   "metadata": {},
   "source": [
    "#### 3. Re-code the Decision Tree, which could sort the features by salience. (12 points)"
   ]
  },
  {
   "cell_type": "markdown",
   "metadata": {},
   "source": [
    "<评阅点>\n",
    "> + 是否实现了信息熵 (1' )\n",
    "+ 是否实现了最优先特征点的选择(5')\n",
    "+ 是否实现了持续的特征选则(6')"
   ]
  },
  {
   "cell_type": "markdown",
   "metadata": {},
   "source": [
    "信息熵$$  Entropy= - \\sum_i^n Pr(x_i)log(Pr(x_i)) $$"
   ]
  },
  {
   "cell_type": "code",
   "execution_count": 15,
   "metadata": {},
   "outputs": [],
   "source": [
    "def 求信息熵(群体):#群体的混乱程度,值越大，越混乱;群体是列表 ，如：[A,B,A,A,C,D,D,F,E]\n",
    "    信息熵=0\n",
    "    for 个体 in 群体:\n",
    "        个体出现概率=群体.count(个体)/len(群体)\n",
    "        信息熵 +=-个体出现概率*np.log(个体出现概率)\n",
    "    return 信息熵"
   ]
  },
  {
   "cell_type": "code",
   "execution_count": 16,
   "metadata": {},
   "outputs": [
    {
     "data": {
      "text/plain": [
       "0.9938582532964797"
      ]
     },
     "execution_count": 16,
     "metadata": {},
     "output_type": "execute_result"
    }
   ],
   "source": [
    "求信息熵([1,1,1,0])"
   ]
  },
  {
   "cell_type": "code",
   "execution_count": 17,
   "metadata": {},
   "outputs": [],
   "source": [
    "mock_data = {\n",
    "    '性别':['F', 'F', 'F', 'F', 'M', 'M', 'M'],\n",
    "    '收入': ['+10', '-10', '+10', '+10', '+10', '+10', '-10'],\n",
    "    '家庭成员数': [1, 1, 2, 1, 1, 1, 2],\n",
    "    '是否购买': [1, 1, 1, 0, 0, 0, 1],\n",
    "}"
   ]
  },
  {
   "cell_type": "code",
   "execution_count": 18,
   "metadata": {
    "scrolled": true
   },
   "outputs": [
    {
     "data": {
      "text/html": [
       "<div>\n",
       "<style scoped>\n",
       "    .dataframe tbody tr th:only-of-type {\n",
       "        vertical-align: middle;\n",
       "    }\n",
       "\n",
       "    .dataframe tbody tr th {\n",
       "        vertical-align: top;\n",
       "    }\n",
       "\n",
       "    .dataframe thead th {\n",
       "        text-align: right;\n",
       "    }\n",
       "</style>\n",
       "<table border=\"1\" class=\"dataframe\">\n",
       "  <thead>\n",
       "    <tr style=\"text-align: right;\">\n",
       "      <th></th>\n",
       "      <th>性别</th>\n",
       "      <th>收入</th>\n",
       "      <th>家庭成员数</th>\n",
       "      <th>是否购买</th>\n",
       "    </tr>\n",
       "  </thead>\n",
       "  <tbody>\n",
       "    <tr>\n",
       "      <th>0</th>\n",
       "      <td>F</td>\n",
       "      <td>+10</td>\n",
       "      <td>1</td>\n",
       "      <td>1</td>\n",
       "    </tr>\n",
       "    <tr>\n",
       "      <th>1</th>\n",
       "      <td>F</td>\n",
       "      <td>-10</td>\n",
       "      <td>1</td>\n",
       "      <td>1</td>\n",
       "    </tr>\n",
       "    <tr>\n",
       "      <th>2</th>\n",
       "      <td>F</td>\n",
       "      <td>+10</td>\n",
       "      <td>2</td>\n",
       "      <td>1</td>\n",
       "    </tr>\n",
       "    <tr>\n",
       "      <th>3</th>\n",
       "      <td>F</td>\n",
       "      <td>+10</td>\n",
       "      <td>1</td>\n",
       "      <td>0</td>\n",
       "    </tr>\n",
       "    <tr>\n",
       "      <th>4</th>\n",
       "      <td>M</td>\n",
       "      <td>+10</td>\n",
       "      <td>1</td>\n",
       "      <td>0</td>\n",
       "    </tr>\n",
       "    <tr>\n",
       "      <th>5</th>\n",
       "      <td>M</td>\n",
       "      <td>+10</td>\n",
       "      <td>1</td>\n",
       "      <td>0</td>\n",
       "    </tr>\n",
       "    <tr>\n",
       "      <th>6</th>\n",
       "      <td>M</td>\n",
       "      <td>-10</td>\n",
       "      <td>2</td>\n",
       "      <td>1</td>\n",
       "    </tr>\n",
       "  </tbody>\n",
       "</table>\n",
       "</div>"
      ],
      "text/plain": [
       "  性别   收入  家庭成员数  是否购买\n",
       "0  F  +10      1     1\n",
       "1  F  -10      1     1\n",
       "2  F  +10      2     1\n",
       "3  F  +10      1     0\n",
       "4  M  +10      1     0\n",
       "5  M  +10      1     0\n",
       "6  M  -10      2     1"
      ]
     },
     "execution_count": 18,
     "metadata": {},
     "output_type": "execute_result"
    }
   ],
   "source": [
    "import pandas as pd\n",
    "dataset = pd.DataFrame.from_dict(mock_data)\n",
    "dataset"
   ]
  },
  {
   "cell_type": "code",
   "execution_count": 19,
   "metadata": {},
   "outputs": [],
   "source": [
    "#mock_data = {\n",
    "#    '性别':['F', 'F', 'F', 'F', 'M', 'M', 'M'],\n",
    "#    '收入': ['+10', '-10', '+10', '+10', '+10', '+10', '-10'],\n",
    "#    '家庭成员数': [1, 1, 2, 1, 1, 1, 2],\n",
    "#    '是否购买': [1, 1, 1, 0, 0, 0, 1],\n",
    "#}\n",
    "def 求分割特征项(数据表,目标):#dataset[dataset[\"family_number\"]==1]['bought'].tolist\n",
    "    最佳特征项列表=[]\n",
    "    while 1==1:\n",
    "        特征行 = set(数据表.columns.tolist()) - {目标} # set()-sett(),list之间没有减法。如果用list的话，后面循环时遇到目标可以跳出\n",
    "        特征行信息熵=[]\n",
    "        for 特征 in 特征行:                            # 特征行为列表，比如内容为[性别,收入,家庭成员数]；特征为里面的具体项，比如家庭成员\n",
    "            特征总信息熵=0\n",
    "            最小特征值信息熵=float('inf')               #float('inf')为无穷大\n",
    "            for 特征值 in set(数据表[特征]):            # 获取特征值，比如家庭成员为2的2\n",
    "                特征值信息熵=求信息熵(list(数据表[数据表[特征]==特征值][目标]))#获取该特征值下对应的所有目标值，并组织一个列表，然后求信息熵\n",
    "                if 特征值信息熵<=最小特征值信息熵:                           # 如果信息熵小于最小信息熵则，最小信息熵变成新求出来的这个信息熵\n",
    "                    信息熵最小特征值=特征值                                  # 并记录下来对应的特征值\n",
    "                    最小特征值信息熵=特征值信息熵\n",
    "                特征总信息熵 +=特征值信息熵                                  # 累加获得该特征项下所有信息熵的和\n",
    "            特征行信息熵.append([特征总信息熵,特征,信息熵最小特征值])\n",
    "\n",
    "        最佳特征项=min(特征行信息熵)\n",
    "        for 特征项 in 最佳特征项列表:\n",
    "            if 最佳特征项[1]==特征项[0]:return 最佳特征项列表\n",
    "        最佳特征项列表.append([最佳特征项[1],最佳特征项[2]])\n",
    "        数据表=数据表[数据表[最佳特征项[1]]!=最佳特征项[2]]"
   ]
  },
  {
   "cell_type": "code",
   "execution_count": 20,
   "metadata": {
    "scrolled": true
   },
   "outputs": [
    {
     "data": {
      "text/plain": [
       "[['家庭成员数', 2], ['性别', 'M'], ['收入', '-10']]"
      ]
     },
     "execution_count": 20,
     "metadata": {},
     "output_type": "execute_result"
    }
   ],
   "source": [
    "求分割特征项(dataset,\"是否购买\")"
   ]
  },
  {
   "cell_type": "code",
   "execution_count": 21,
   "metadata": {},
   "outputs": [],
   "source": [
    "dataset1=dataset[dataset[\"家庭成员数\"]!=2]\n",
    "dataset2=dataset1[dataset1[\"性别\"]!=\"M\"]\n",
    "dataset3=dataset2[dataset2[\"收入\"]!=\"-10\"]\n"
   ]
  },
  {
   "cell_type": "code",
   "execution_count": 22,
   "metadata": {
    "scrolled": true
   },
   "outputs": [
    {
     "data": {
      "text/html": [
       "<div>\n",
       "<style scoped>\n",
       "    .dataframe tbody tr th:only-of-type {\n",
       "        vertical-align: middle;\n",
       "    }\n",
       "\n",
       "    .dataframe tbody tr th {\n",
       "        vertical-align: top;\n",
       "    }\n",
       "\n",
       "    .dataframe thead th {\n",
       "        text-align: right;\n",
       "    }\n",
       "</style>\n",
       "<table border=\"1\" class=\"dataframe\">\n",
       "  <thead>\n",
       "    <tr style=\"text-align: right;\">\n",
       "      <th></th>\n",
       "      <th>性别</th>\n",
       "      <th>收入</th>\n",
       "      <th>家庭成员数</th>\n",
       "      <th>是否购买</th>\n",
       "    </tr>\n",
       "  </thead>\n",
       "  <tbody>\n",
       "    <tr>\n",
       "      <th>0</th>\n",
       "      <td>F</td>\n",
       "      <td>+10</td>\n",
       "      <td>1</td>\n",
       "      <td>1</td>\n",
       "    </tr>\n",
       "    <tr>\n",
       "      <th>1</th>\n",
       "      <td>F</td>\n",
       "      <td>-10</td>\n",
       "      <td>1</td>\n",
       "      <td>1</td>\n",
       "    </tr>\n",
       "    <tr>\n",
       "      <th>3</th>\n",
       "      <td>F</td>\n",
       "      <td>+10</td>\n",
       "      <td>1</td>\n",
       "      <td>0</td>\n",
       "    </tr>\n",
       "    <tr>\n",
       "      <th>4</th>\n",
       "      <td>M</td>\n",
       "      <td>+10</td>\n",
       "      <td>1</td>\n",
       "      <td>0</td>\n",
       "    </tr>\n",
       "    <tr>\n",
       "      <th>5</th>\n",
       "      <td>M</td>\n",
       "      <td>+10</td>\n",
       "      <td>1</td>\n",
       "      <td>0</td>\n",
       "    </tr>\n",
       "  </tbody>\n",
       "</table>\n",
       "</div>"
      ],
      "text/plain": [
       "  性别   收入  家庭成员数  是否购买\n",
       "0  F  +10      1     1\n",
       "1  F  -10      1     1\n",
       "3  F  +10      1     0\n",
       "4  M  +10      1     0\n",
       "5  M  +10      1     0"
      ]
     },
     "execution_count": 22,
     "metadata": {},
     "output_type": "execute_result"
    }
   ],
   "source": [
    "dataset1"
   ]
  },
  {
   "cell_type": "code",
   "execution_count": 23,
   "metadata": {},
   "outputs": [
    {
     "data": {
      "text/html": [
       "<div>\n",
       "<style scoped>\n",
       "    .dataframe tbody tr th:only-of-type {\n",
       "        vertical-align: middle;\n",
       "    }\n",
       "\n",
       "    .dataframe tbody tr th {\n",
       "        vertical-align: top;\n",
       "    }\n",
       "\n",
       "    .dataframe thead th {\n",
       "        text-align: right;\n",
       "    }\n",
       "</style>\n",
       "<table border=\"1\" class=\"dataframe\">\n",
       "  <thead>\n",
       "    <tr style=\"text-align: right;\">\n",
       "      <th></th>\n",
       "      <th>性别</th>\n",
       "      <th>收入</th>\n",
       "      <th>家庭成员数</th>\n",
       "      <th>是否购买</th>\n",
       "    </tr>\n",
       "  </thead>\n",
       "  <tbody>\n",
       "    <tr>\n",
       "      <th>0</th>\n",
       "      <td>F</td>\n",
       "      <td>+10</td>\n",
       "      <td>1</td>\n",
       "      <td>1</td>\n",
       "    </tr>\n",
       "    <tr>\n",
       "      <th>1</th>\n",
       "      <td>F</td>\n",
       "      <td>-10</td>\n",
       "      <td>1</td>\n",
       "      <td>1</td>\n",
       "    </tr>\n",
       "    <tr>\n",
       "      <th>3</th>\n",
       "      <td>F</td>\n",
       "      <td>+10</td>\n",
       "      <td>1</td>\n",
       "      <td>0</td>\n",
       "    </tr>\n",
       "  </tbody>\n",
       "</table>\n",
       "</div>"
      ],
      "text/plain": [
       "  性别   收入  家庭成员数  是否购买\n",
       "0  F  +10      1     1\n",
       "1  F  -10      1     1\n",
       "3  F  +10      1     0"
      ]
     },
     "execution_count": 23,
     "metadata": {},
     "output_type": "execute_result"
    }
   ],
   "source": [
    "dataset2"
   ]
  },
  {
   "cell_type": "code",
   "execution_count": 24,
   "metadata": {},
   "outputs": [
    {
     "data": {
      "text/html": [
       "<div>\n",
       "<style scoped>\n",
       "    .dataframe tbody tr th:only-of-type {\n",
       "        vertical-align: middle;\n",
       "    }\n",
       "\n",
       "    .dataframe tbody tr th {\n",
       "        vertical-align: top;\n",
       "    }\n",
       "\n",
       "    .dataframe thead th {\n",
       "        text-align: right;\n",
       "    }\n",
       "</style>\n",
       "<table border=\"1\" class=\"dataframe\">\n",
       "  <thead>\n",
       "    <tr style=\"text-align: right;\">\n",
       "      <th></th>\n",
       "      <th>性别</th>\n",
       "      <th>收入</th>\n",
       "      <th>家庭成员数</th>\n",
       "      <th>是否购买</th>\n",
       "    </tr>\n",
       "  </thead>\n",
       "  <tbody>\n",
       "    <tr>\n",
       "      <th>0</th>\n",
       "      <td>F</td>\n",
       "      <td>+10</td>\n",
       "      <td>1</td>\n",
       "      <td>1</td>\n",
       "    </tr>\n",
       "    <tr>\n",
       "      <th>3</th>\n",
       "      <td>F</td>\n",
       "      <td>+10</td>\n",
       "      <td>1</td>\n",
       "      <td>0</td>\n",
       "    </tr>\n",
       "  </tbody>\n",
       "</table>\n",
       "</div>"
      ],
      "text/plain": [
       "  性别   收入  家庭成员数  是否购买\n",
       "0  F  +10      1     1\n",
       "3  F  +10      1     0"
      ]
     },
     "execution_count": 24,
     "metadata": {},
     "output_type": "execute_result"
    }
   ],
   "source": [
    "dataset3"
   ]
  },
  {
   "cell_type": "markdown",
   "metadata": {},
   "source": [
    "两口子肯定买，单身男性肯定不买，单身女性可能买，缺钱的单身女性必然会买。\n",
    "这大概是一种家庭需要，男士不会用或用不到，女性用的到但有钱不买这个东西，也能通过其他消费享受到服务，但是没钱只能买了自己给自己服务的一些东西"
   ]
  },
  {
   "cell_type": "markdown",
   "metadata": {},
   "source": [
    "#### 4. Finish the K-Means using 2-D matplotlib (8 points)"
   ]
  },
  {
   "cell_type": "markdown",
   "metadata": {},
   "source": [
    "<评阅点>\n",
    "> + 是否完成了KMeans模型，基于scikit-learning (3')\n",
    "+ 是否完成了可视化任务（5'）"
   ]
  },
  {
   "cell_type": "markdown",
   "metadata": {},
   "source": [
    "## Part-2 Question and Answer 问答"
   ]
  },
  {
   "cell_type": "markdown",
   "metadata": {},
   "source": [
    "#### 1. What's the *model*? why  all the models are wrong, but some are useful? (5 points) "
   ]
  },
  {
   "cell_type": "markdown",
   "metadata": {},
   "source": [
    "Ans:"
   ]
  },
  {
   "cell_type": "markdown",
   "metadata": {},
   "source": [
    "<评阅点>\n",
    "> + 对模型的理解是否正确,对模型的抽象性是否正确(5')"
   ]
  },
  {
   "cell_type": "markdown",
   "metadata": {},
   "source": [
    "#### 2. What's the underfitting and overfitting? List the reasons that could make model overfitting or underfitting. (10 points)"
   ]
  },
  {
   "cell_type": "markdown",
   "metadata": {},
   "source": [
    "Ans:"
   ]
  },
  {
   "cell_type": "markdown",
   "metadata": {},
   "source": [
    "<评阅点>\n",
    "> + 对过拟合和欠拟合的理解是否正确 (3')\n",
    "+ 对欠拟合产生的原因是否理解正确(2')\n",
    "+ 对过拟合产生的原因是否理解正确(5')"
   ]
  },
  {
   "cell_type": "markdown",
   "metadata": {},
   "source": [
    "#### 3. What's the precision, recall, AUC, F1, F2score. What are they mainly target on? (12')"
   ]
  },
  {
   "cell_type": "markdown",
   "metadata": {},
   "source": [
    "Ans:"
   ]
  },
  {
   "cell_type": "markdown",
   "metadata": {},
   "source": [
    "<评阅点>\n",
    "> + 对precision, recall, AUC, F1, F2 理解是否正确(6‘)\n",
    "+ 对precision, recall, AUC, F1, F2的使用侧重点是否理解正确 (6’)"
   ]
  },
  {
   "cell_type": "markdown",
   "metadata": {},
   "source": [
    "#### 4. Based on our course and yourself mind, what's the machine learning?  (8')"
   ]
  },
  {
   "cell_type": "markdown",
   "metadata": {},
   "source": [
    "Ans:"
   ]
  },
  {
   "cell_type": "markdown",
   "metadata": {},
   "source": [
    "<评阅点> 开放式问题，是否能说出来机器学习这种思维方式和传统的分析式编程的区别（8'）"
   ]
  },
  {
   "cell_type": "markdown",
   "metadata": {},
   "source": [
    "#### 5. \"正确定义了机器学习模型的评价标准(evaluation)， 问题基本上就已经解决一半\". 这句话是否正确？你是怎么看待的？ (8‘)"
   ]
  },
  {
   "cell_type": "markdown",
   "metadata": {},
   "source": [
    "<评阅点> 开放式问题，主要看能理解评价指标对机器学习模型的重要性."
   ]
  },
  {
   "cell_type": "markdown",
   "metadata": {},
   "source": [
    "## Part-03 Programming Practice 编程练习"
   ]
  },
  {
   "cell_type": "markdown",
   "metadata": {},
   "source": [
    "1. In our course and previous practice, we complete some importance components of Decision Tree. In this problem, you need to build a **completed** Decision Tree Model. You show finish a `predicate()` function, which accepts three parameters **<gender, income, family_number>**, and outputs the predicated 'bought': 1 or 0.  (20 points)"
   ]
  },
  {
   "cell_type": "code",
   "execution_count": 25,
   "metadata": {},
   "outputs": [],
   "source": [
    "# you code here"
   ]
  },
  {
   "cell_type": "markdown",
   "metadata": {},
   "source": [
    "<评阅点>\n",
    "> + 是否将之前的决策树模型的部分进行合并组装， predicate函数能够顺利运行(8')\n",
    "+ 是够能够输入未曾见过的X变量，例如gender, income, family_number 分别是： <M, -10, 1>, 模型能够预测出结果 (12')"
   ]
  },
  {
   "cell_type": "markdown",
   "metadata": {},
   "source": [
    "2. 将上一节课(第二节课)的线性回归问题中的Loss函数改成\"绝对值\"，并且改变其偏导的求值方式，观察其结果的变化。(19 point)"
   ]
  },
  {
   "cell_type": "code",
   "execution_count": 26,
   "metadata": {},
   "outputs": [],
   "source": [
    "# you code here"
   ]
  },
  {
   "cell_type": "markdown",
   "metadata": {},
   "source": [
    "<评阅点>\n",
    "+ 是否将Loss改成了“绝对值”(3')\n",
    "+ 是否完成了偏导的重新定义(5')\n",
    "+ 新的模型Loss是否能够收敛 (11’)"
   ]
  },
  {
   "cell_type": "markdown",
   "metadata": {},
   "source": []
  }
 ],
 "metadata": {
  "kernelspec": {
   "display_name": "Python 3",
   "language": "python",
   "name": "python3"
  },
  "language_info": {
   "codemirror_mode": {
    "name": "ipython",
    "version": 3
   },
   "file_extension": ".py",
   "mimetype": "text/x-python",
   "name": "python",
   "nbconvert_exporter": "python",
   "pygments_lexer": "ipython3",
   "version": "3.7.3"
  }
 },
 "nbformat": 4,
 "nbformat_minor": 2
}

    "from scipy.misc import derivative#加载求导函数\n",
    "import numpy as np\n",
    "\n",
    "def 绘制标准坐标轴():\n",
    "    import mpl_toolkits.axisartist as axisartist\n",
    "    #创建画布\n",
    "    fig = plt.figure(figsize=(8, 8))\n",
    "    #使用axisartist.Subplot方法创建一个绘图区对象ax\n",
    "    ax = axisartist.Subplot(fig, 111)  \n",
    "    #将绘图区对象添加到画布中\n",
    "    fig.add_axes(ax)\n",
    "\n",
    "    #通过set_visible方法设置绘图区所有坐标轴隐藏\n",
    "    ax.axis[:].set_visible(False)\n",
    "\n",
    "    #ax.new_floating_axis代表添加新的坐标轴\n",
    "    ax.axis[\"x\"] = ax.new_floating_axis(0,0)\n",
    "\n",
    "    #给x坐标轴加上箭头,\"->\"表示是空箭头，size = 0.5表示箭头大小\n",
    "    ax.axis[\"x\"].set_axisline_style(\"->\", size = 0.5)\n",
    "\n",
    "    #添加y坐标轴，且加上箭头,\"-|>\"则是实心箭头\n",
    "    ax.axis[\"y\"] = ax.new_floating_axis(1,0)\n",
    "    ax.axis[\"y\"].set_axisline_style(\"-|>\", size = 0.5)\n",
    "\n",
    "    #设置x、y轴上刻度显示方向\n",
    "    ax.axis[\"x\"].set_axis_direction(\"top\")\n",
    "    ax.axis[\"y\"].set_axis_direction(\"right\")"
   ]
  },
  {
   "cell_type": "markdown",
   "metadata": {},
   "source": [
    "## Assignment-03 First Step of Machine Learning: Model and Evaluation"
   ]
  },
  {
   "cell_type": "markdown",
   "metadata": {},
   "source": [
    "同学们，今天我们的学习了基本的机器学习概念，相比你已经对机器学习的这些方法有一个基本的认识了。值得说明的是，机器学习不仅仅是一系列方法，更重要的是一种思维体系，即：依据以往的、现有的数据，构建某种方法来解B决未见过的问题。而且决策树，贝叶斯只是实现这个目标的一个方法，包括之后的神经网络。很有可能有一天，神经网络也会被淘汰，但是重要的是我们要理解机器学习的目标，就是尽可能的自动化解决未知的问题。"
   ]
  },
  {
   "cell_type": "markdown",
   "metadata": {},
   "source": [
    "![](https://timgsa.baidu.com/timg?image&quality=80&size=b9999_10000&sec=1571556399207&di=4a97dc15ad08dd49d3748d1edf6109b3&imgtype=0&src=http%3A%2F%2Fc.hiphotos.baidu.com%2Fzhidao%2Fwh%3D450%2C600%2Fsign%3Dae742c6aedcd7b89e93932873a146e91%2F5d6034a85edf8db1b16050c40223dd54574e74c7.jpg)"
   ]
  },
  {
   "cell_type": "markdown",
   "metadata": {},
   "source": [
    "## Part-1 Programming Review 编程回顾"
   ]
  },
  {
   "cell_type": "markdown",
   "metadata": {},
   "source": [
    "#### 1. Re-code the Linear-Regression Model using scikit-learning(10 points)"
   ]
  },
  {
   "cell_type": "markdown",
   "metadata": {},
   "source": [
    "<评阅点>： \n",
    "> + 是否完成线性回归模型 (4')\n",
    "+ 能够进行预测新数据(3')\n",
    "+ 能够进行可视化操作(3')"
   ]
  },
  {
   "cell_type": "code",
   "execution_count": 2,
   "metadata": {},
   "outputs": [],
   "source": [
    "import numpy as np\n",
    "import random\n",
    "随机数 = np.random.random((20, 2))\n",
    "X = 随机数[:, 0]\n",
    "Y= []\n",
    "训练数据=[]\n",
    "\n",
    "for x in X:\n",
    "    y=x*7+ 3 + random.randint(-5, 5)\n",
    "    Y.append(y)\n",
    "    训练数据.append([x,y])\n",
    "\n"
   ]
  },
  {
   "cell_type": "markdown",
   "metadata": {},
   "source": [
    "$ loss_{single}=(y-\\hat y)^2=(y-kx-b)^2$\n",
    "\n",
    "$ loss = \\frac{1}{n} \\sum{(y_i - kx_i - b)}^2 $\n",
    "\n",
    "$ \\frac{\\partial{loss}}{\\partial{k}} = \\frac{2}{n}\\sum(kx_i-y_i+b)x_i$\n",
    "\n",
    "$ \\frac{\\partial{loss}}{\\partial{b}} = \\frac{2}{n}\\sum(b+kx_i-y_i)=\\frac{2}{n}\\sum(kx_i-y_i+b)$\n",
    "\n",
    "梯度为\n",
    "$ (\\frac{\\partial{loss}}{\\partial{k}},\\frac{\\partial{loss}}{\\partial{b}})$\n",
    "\n",
    "梯度的单位向量$ (\\frac {\\frac{\\partial loss}{\\partial k}}{\\sqrt{(\\frac{\\partial loss}{\\partial k})^2 + (\\frac{\\partial loss}{\\partial b })^2}},\\frac {\\frac{\\partial loss}{\\partial b}}{\\sqrt{(\\frac{\\partial loss}{\\partial k})^2 + (\\frac{\\partial loss}{\\partial b })^2}})$\n",
    "\n",
    "令$ \\frac{\\partial{loss}}{\\partial{k}}=dk,\\frac{\\partial{loss}}{\\partial{b}}=db$\n",
    "\n"
   ]
  },
  {
   "cell_type": "code",
   "execution_count": 3,
   "metadata": {},
   "outputs": [],
   "source": [
    "def 求损失函数梯度方向(k,b,训练数据):                                      #损失函数loss = \\frac{1}{n} \\sum{(y_i - kx_i - b_i)}^2 \n",
    "    #损失函数梯度\n",
    "    dk=0\n",
    "    db=0\n",
    "    #import math\n",
    "    for 数据 in 训练数据:                                                  #数据=[x,y]\n",
    "        x_i=数据[0]\n",
    "        y_i=数据[1]\n",
    "        dk += x_i*(k*x_i-y_i+b)\n",
    "        db += (k*x_i-y_i+b)\n",
    "        #print(dk,db)\n",
    "    dk=2/len(训练数据)*dk\n",
    "    db=2/len(训练数据)*db\n",
    "    #单位向量=[dk/math.sqrt(dk*dk+db*db),db/math.sqrt(dk*dk+db*db)]       #使用单位向量，如果初始误差太大，步进太慢，直接使用梯度向量可以快速逼近\n",
    "    return [dk,db]"
   ]
  },
  {
   "cell_type": "code",
   "execution_count": 4,
   "metadata": {},
   "outputs": [],
   "source": [
    "def 线性回归(训练数据,步长,迭代次数):\n",
    "    import random\n",
    "    k = random.random() * 200 - 100  # -100 100\n",
    "    b = random.random() * 200 - 100  # -100 100\n",
    "    for i in range(迭代次数):\n",
    "        方向=求损失函数梯度方向(k,b,训练数据)\n",
    "        k=k+方向[0]*步长*(-1)                            #梯度下降，沿梯度反方向迭代，故乘以-1\n",
    "        b=b+方向[1]*步长*(-1)\n",
    "    return (k,b)"
   ]
  },
  {
   "cell_type": "code",
   "execution_count": 5,
   "metadata": {
    "scrolled": true
   },
   "outputs": [
    {
     "name": "stdout",
     "output_type": "stream",
     "text": [
      "k= 3.997788621641573 b= 4.505961080337281\n"
     ]
    }
   ],
   "source": [
    "kb=线性回归(训练数据,步长=0.1,迭代次数=4000) #步长越短，需要迭代的次数越多。步长越长，越容易震荡，不容易得出结果。如何选取合适的步长呢？\n",
    "print(\"k=\",kb[0],\"b=\",kb[1])"
   ]
  },
  {
   "cell_type": "code",
   "execution_count": 6,
   "metadata": {},
   "outputs": [
    {
     "data": {
      "text/plain": [
       "220.3865466489822"
      ]
     },
     "execution_count": 6,
     "metadata": {},
     "output_type": "execute_result"
    }
   ],
   "source": [
    "def f(x):\n",
    "    return kb[0]*x+kb[1]\n",
    "f(54)"
   ]
  },
  {
   "cell_type": "code",
   "execution_count": 7,
   "metadata": {},
   "outputs": [],
   "source": [
    "from sklearn.linear_model import LinearRegression #加载sklearn的LinearRegression模块"
   ]
  },
  {
   "cell_type": "code",
   "execution_count": 8,
   "metadata": {},
   "outputs": [
    {
     "name": "stdout",
     "output_type": "stream",
     "text": [
      "k= [3.99778862] b= 4.505961080337261\n"
     ]
    }
   ],
   "source": [
    "reg = LinearRegression().fit(X.reshape(-1, 1), Y)\n",
    "print(\"k=\",reg.coef_,\"b=\",reg.intercept_)                    #用LinearRegression拟合k和b与自己写的线性回归函数做个对比。"
   ]
  },
  {
   "cell_type": "code",
   "execution_count": 9,
   "metadata": {},
   "outputs": [
    {
     "data": {
      "text/plain": [
       "[<matplotlib.lines.Line2D at 0x7f3784a867b8>]"
      ]
     },
     "execution_count": 9,
     "metadata": {},
     "output_type": "execute_result"
    },
    {
     "data": {
      "image/png": "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\n",
      "text/plain": [
       "<Figure size 576x576 with 1 Axes>"
      ]
     },
     "metadata": {
      "needs_background": "light"
     },
     "output_type": "display_data"
    }
   ],
   "source": [
    "x=np.arange(-0.5,1,0.0001)\n",
    "g=reg.coef_*x+reg.intercept_         #LinearRegression拟合出来的直线，红色\n",
    "h=kb[0]*x+kb[1]                      #自己写的线性回归函数拟合出来的直线，蓝色\n",
    "绘制标准坐标轴()\n",
    "for 数据 in 训练数据:\n",
    "    plt.scatter(数据[0],数据[1])\n",
    "plt.plot(x,h,color='blue')\n",
    "plt.plot(x,g,color='red')           #红色线后绘制，两个拟合直线高度重合时，红色会盖住蓝色"
   ]
  },
  {
   "cell_type": "markdown",
   "metadata": {},
   "source": [
    "#### 2. Complete the unfinished KNN Model using pure python to solve the previous Line-Regression problem. (8 points)"
   ]
  },
  {
   "cell_type": "markdown",
   "metadata": {},
   "source": [
    "<评阅点>:\n",
    "> + 是否完成了KNN模型 (4')\n",
    "+ 是否能够预测新的数据 (4')"
   ]
  },
  {
   "cell_type": "code",
   "execution_count": 10,
   "metadata": {},
   "outputs": [],
   "source": [
    "def model(X, y):\n",
    "    return [(Xi, yi) for Xi, yi in 训练数据]"
   ]
  },
  {
   "cell_type": "code",
   "execution_count": 11,
   "metadata": {},
   "outputs": [],
   "source": [
    "from scipy.spatial.distance import cosine\n",
    "def distance(x1, x2):\n",
    "    return (x1-x2)*(x1-x2)#cosine(x1, x2)                                 #两点距离等于向量夹角的cos值？？？"
   ]
  },
  {
   "cell_type": "code",
   "execution_count": 18,
   "metadata": {},
   "outputs": [],
   "source": [
    "def predict(x, k=5):\n",
    "    most_similars = sorted(model(X, y), key=lambda xi: distance(xi[0], x))[:k]\n",
    "    # 已经获得了最相似的数据集\n",
    "    counter=0\n",
    "    for xi in most_similars:\n",
    "        counter += xi[1]\n",
    "    most_common=counter/k\n",
    "    return most_common\n",
    "    # 然后呢，Counter() -> most_common() -> 就可以获得出现最多的这个y了 "
   ]
  },
  {
   "cell_type": "code",
   "execution_count": 19,
   "metadata": {},
   "outputs": [
    {
     "data": {
      "text/plain": [
       "6.504855391158067"
      ]
     },
     "execution_count": 19,
     "metadata": {},
     "output_type": "execute_result"
    }
   ],
   "source": [
    "f(0.5)"
   ]
  },
  {
   "cell_type": "code",
   "execution_count": 20,
   "metadata": {},
   "outputs": [
    {
     "data": {
      "text/plain": [
       "6.874302104771718"
      ]
     },
     "execution_count": 20,
     "metadata": {},
     "output_type": "execute_result"
    }
   ],
   "source": [
    "predict(0.5,5)"
   ]
  },
  {
   "cell_type": "markdown",
   "metadata": {},
   "source": [
    "#### 3. Re-code the Decision Tree, which could sort the features by salience. (12 points)"
   ]
  },
  {
   "cell_type": "markdown",
   "metadata": {},
   "source": [
    "<评阅点>\n",
    "> + 是否实现了信息熵 (1' )\n",
    "+ 是否实现了最优先特征点的选择(5')\n",
    "+ 是否实现了持续的特征选则(6')"
   ]
  },
  {
   "cell_type": "code",
   "execution_count": 15,
   "metadata": {},
   "outputs": [],
   "source": [
    "# "
   ]
  },
  {
   "cell_type": "markdown",
   "metadata": {},
   "source": [
    "#### 4. Finish the K-Means using 2-D matplotlib (8 points)"
   ]
  },
  {
   "cell_type": "markdown",
   "metadata": {},
   "source": [
    "<评阅点>\n",
    "> + 是否完成了KMeans模型，基于scikit-learning (3')\n",
    "+ 是否完成了可视化任务（5'）"
   ]
  },
  {
   "cell_type": "markdown",
   "metadata": {},
   "source": [
    "## Part-2 Question and Answer 问答"
   ]
  },
  {
   "cell_type": "markdown",
   "metadata": {},
   "source": [
    "#### 1. What's the *model*? why  all the models are wrong, but some are useful? (5 points) "
   ]
  },
  {
   "cell_type": "markdown",
   "metadata": {},
   "source": [
    "Ans:"
   ]
  },
  {
   "cell_type": "markdown",
   "metadata": {},
   "source": [
    "<评阅点>\n",
    "> + 对模型的理解是否正确,对模型的抽象性是否正确(5')"
   ]
  },
  {
   "cell_type": "markdown",
   "metadata": {},
   "source": [
    "#### 2. What's the underfitting and overfitting? List the reasons that could make model overfitting or underfitting. (10 points)"
   ]
  },
  {
   "cell_type": "markdown",
   "metadata": {},
   "source": [
    "Ans:"
   ]
  },
  {
   "cell_type": "markdown",
   "metadata": {},
   "source": [
    "<评阅点>\n",
    "> + 对过拟合和欠拟合的理解是否正确 (3')\n",
    "+ 对欠拟合产生的原因是否理解正确(2')\n",
    "+ 对过拟合产生的原因是否理解正确(5')"
   ]
  },
  {
   "cell_type": "markdown",
   "metadata": {},
   "source": [
    "#### 3. What's the precision, recall, AUC, F1, F2score. What are they mainly target on? (12')"
   ]
  },
  {
   "cell_type": "markdown",
   "metadata": {},
   "source": [
    "Ans:"
   ]
  },
  {
   "cell_type": "markdown",
   "metadata": {},
   "source": [
    "<评阅点>\n",
    "> + 对precision, recall, AUC, F1, F2 理解是否正确(6‘)\n",
    "+ 对precision, recall, AUC, F1, F2的使用侧重点是否理解正确 (6’)"
   ]
  },
  {
   "cell_type": "markdown",
   "metadata": {},
   "source": [
    "#### 4. Based on our course and yourself mind, what's the machine learning?  (8')"
   ]
  },
  {
   "cell_type": "markdown",
   "metadata": {},
   "source": [
    "Ans:"
   ]
  },
  {
   "cell_type": "markdown",
   "metadata": {},
   "source": [
    "<评阅点> 开放式问题，是否能说出来机器学习这种思维方式和传统的分析式编程的区别（8'）"
   ]
  },
  {
   "cell_type": "markdown",
   "metadata": {},
   "source": [
    "#### 5. \"正确定义了机器学习模型的评价标准(evaluation)， 问题基本上就已经解决一半\". 这句话是否正确？你是怎么看待的？ (8‘)"
   ]
  },
  {
   "cell_type": "markdown",
   "metadata": {},
   "source": [
    "<评阅点> 开放式问题，主要看能理解评价指标对机器学习模型的重要性."
   ]
  },
  {
   "cell_type": "markdown",
   "metadata": {},
   "source": [
    "## Part-03 Programming Practice 编程练习"
   ]
  },
  {
   "cell_type": "markdown",
   "metadata": {},
   "source": [
    "1. In our course and previous practice, we complete some importance components of Decision Tree. In this problem, you need to build a **completed** Decision Tree Model. You show finish a `predicate()` function, which accepts three parameters **<gender, income, family_number>**, and outputs the predicated 'bought': 1 or 0.  (20 points)"
   ]
  },
  {
   "cell_type": "code",
   "execution_count": 16,
   "metadata": {},
   "outputs": [],
   "source": [
    "# you code here"
   ]
  },
  {
   "cell_type": "markdown",
   "metadata": {},
   "source": [
    "<评阅点>\n",
    "> + 是否将之前的决策树模型的部分进行合并组装， predicate函数能够顺利运行(8')\n",
    "+ 是够能够输入未曾见过的X变量，例如gender, income, family_number 分别是： <M, -10, 1>, 模型能够预测出结果 (12')"
   ]
  },
  {
   "cell_type": "markdown",
   "metadata": {},
   "source": [
    "2. 将上一节课(第二节课)的线性回归问题中的Loss函数改成\"绝对值\"，并且改变其偏导的求值方式，观察其结果的变化。(19 point)"
   ]
  },
  {
   "cell_type": "code",
   "execution_count": 17,
   "metadata": {},
   "outputs": [],
   "source": [
    "# you code here"
   ]
  },
  {
   "cell_type": "markdown",
   "metadata": {},
   "source": [
    "<评阅点>\n",
    "+ 是否将Loss改成了“绝对值”(3')\n",
    "+ 是否完成了偏导的重新定义(5')\n",
    "+ 新的模型Loss是否能够收敛 (11’)"
   ]
  },
  {
   "cell_type": "markdown",
   "metadata": {},
   "source": []
  }
 ],
 "metadata": {
  "kernelspec": {
   "display_name": "Python 3",
   "language": "python",
   "name": "python3"
  },
  "language_info": {
   "codemirror_mode": {
    "name": "ipython",
    "version": 3
   },
   "file_extension": ".py",
   "mimetype": "text/x-python",
   "name": "python",
   "nbconvert_exporter": "python",
   "pygments_lexer": "ipython3",
   "version": "3.7.3"
  }
 },
 "nbformat": 4,
 "nbformat_minor": 2
}
