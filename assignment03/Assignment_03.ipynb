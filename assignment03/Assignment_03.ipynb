{
 "cells": [
  {
   "cell_type": "code",
   "execution_count": 1,
   "metadata": {},
   "outputs": [],
   "source": [
    "# %matplotlib inline\n",
    "#加不加%matplotlib inline貌似现在没啥影响\n",
    "import matplotlib.pyplot as plt\n",{
 "cells": [
  {
   "cell_type": "code",
   "execution_count": 1,
   "metadata": {},
   "outputs": [],
   "source": [
    "# %matplotlib inline\n",
    "#加不加%matplotlib inline貌似现在没啥影响\n",
    "import matplotlib.pyplot as plt\n",
    "from scipy.misc import derivative#加载求导函数\n",
    "import numpy as np\n",
    "\n",
    "def 绘制标准坐标轴():\n",
    "    import mpl_toolkits.axisartist as axisartist\n",
    "    #创建画布\n",
    "    fig = plt.figure(figsize=(8, 8))\n",
    "    #使用axisartist.Subplot方法创建一个绘图区对象ax\n",
    "    ax = axisartist.Subplot(fig, 111)  \n",
    "    #将绘图区对象添加到画布中\n",
    "    fig.add_axes(ax)\n",
    "\n",
    "    #通过set_visible方法设置绘图区所有坐标轴隐藏\n",
    "    ax.axis[:].set_visible(False)\n",
    "\n",
    "    #ax.new_floating_axis代表添加新的坐标轴\n",
    "    ax.axis[\"x\"] = ax.new_floating_axis(0,0)\n",
    "\n",
    "    #给x坐标轴加上箭头,\"->\"表示是空箭头，size = 0.5表示箭头大小\n",
    "    ax.axis[\"x\"].set_axisline_style(\"->\", size = 0.5)\n",
    "\n",
    "    #添加y坐标轴，且加上箭头,\"-|>\"则是实心箭头\n",
    "    ax.axis[\"y\"] = ax.new_floating_axis(1,0)\n",
    "    ax.axis[\"y\"].set_axisline_style(\"-|>\", size = 0.5)\n",
    "\n",
    "    #设置x、y轴上刻度显示方向\n",
    "    ax.axis[\"x\"].set_axis_direction(\"top\")\n",
    "    ax.axis[\"y\"].set_axis_direction(\"right\")"
   ]
  },
  {
   "cell_type": "markdown",
   "metadata": {},
   "source": [
    "## Assignment-03 First Step of Machine Learning: Model and Evaluation"
   ]
  },
  {
   "cell_type": "markdown",
   "metadata": {},
   "source": [
    "同学们，今天我们的学习了基本的机器学习概念，相比你已经对机器学习的这些方法有一个基本的认识了。值得说明的是，机器学习不仅仅是一系列方法，更重要的是一种思维体系，即：依据以往的、现有的数据，构建某种方法来解B决未见过的问题。而且决策树，贝叶斯只是实现这个目标的一个方法，包括之后的神经网络。很有可能有一天，神经网络也会被淘汰，但是重要的是我们要理解机器学习的目标，就是尽可能的自动化解决未知的问题。"
   ]
  },
  {
   "cell_type": "markdown",
   "metadata": {},
   "source": [
    "![](https://timgsa.baidu.com/timg?image&quality=80&size=b9999_10000&sec=1571556399207&di=4a97dc15ad08dd49d3748d1edf6109b3&imgtype=0&src=http%3A%2F%2Fc.hiphotos.baidu.com%2Fzhidao%2Fwh%3D450%2C600%2Fsign%3Dae742c6aedcd7b89e93932873a146e91%2F5d6034a85edf8db1b16050c40223dd54574e74c7.jpg)"
   ]
  },
  {
   "cell_type": "markdown",
   "metadata": {},
   "source": [
    "## Part-1 Programming Review 编程回顾"
   ]
  },
  {
   "cell_type": "markdown",
   "metadata": {},
   "source": [
    "#### 1. Re-code the Linear-Regression Model using scikit-learning(10 points)"
   ]
  },
  {
   "cell_type": "markdown",
   "metadata": {},
   "source": [
    "<评阅点>： \n",
    "> + 是否完成线性回归模型 (4')\n",
    "+ 能够进行预测新数据(3')\n",
    "+ 能够进行可视化操作(3')"
   ]
  },
  {
   "cell_type": "code",
   "execution_count": 2,
   "metadata": {},
   "outputs": [],
   "source": [
    "import numpy as np\n",
    "import random\n",
    "随机数 = np.random.random((20, 2))\n",
    "X = 随机数[:, 0]\n",
    "Y= []\n",
    "训练数据=[]\n",
    "\n",
    "for x in X:\n",
    "    y=x*7+ 3 + random.randint(-5, 5)\n",
    "    Y.append(y)\n",
    "    训练数据.append([x,y])\n",
    "\n"
   ]
  },
  {
   "cell_type": "markdown",
   "metadata": {},
   "source": [
    "$ loss_{single}=(y-\\hat y)^2=(y-kx-b)^2$\n",
    "\n",
    "$ loss = \\frac{1}{n} \\sum{(y_i - kx_i - b)}^2 $\n",
    "\n",
    "$ \\frac{\\partial{loss}}{\\partial{k}} = \\frac{2}{n}\\sum(kx_i-y_i+b)x_i$\n",
    "\n",
    "$ \\frac{\\partial{loss}}{\\partial{b}} = \\frac{2}{n}\\sum(b+kx_i-y_i)=\\frac{2}{n}\\sum(kx_i-y_i+b)$\n",
    "\n",
    "梯度为\n",
    "$ (\\frac{\\partial{loss}}{\\partial{k}},\\frac{\\partial{loss}}{\\partial{b}})$\n",
    "\n",
    "梯度的单位向量$ (\\frac {\\frac{\\partial loss}{\\partial k}}{\\sqrt{(\\frac{\\partial loss}{\\partial k})^2 + (\\frac{\\partial loss}{\\partial b })^2}},\\frac {\\frac{\\partial loss}{\\partial b}}{\\sqrt{(\\frac{\\partial loss}{\\partial k})^2 + (\\frac{\\partial loss}{\\partial b })^2}})$\n",
    "\n",
    "令$ \\frac{\\partial{loss}}{\\partial{k}}=dk,\\frac{\\partial{loss}}{\\partial{b}}=db$\n",
    "\n"
   ]
  },
  {
   "cell_type": "code",
   "execution_count": 3,
   "metadata": {},
   "outputs": [],
   "source": [
    "def 求损失函数梯度方向(k,b,训练数据):                                      #损失函数loss = \\frac{1}{n} \\sum{(y_i - kx_i - b_i)}^2 \n",
    "    #损失函数梯度\n",
    "    dk=0\n",
    "    db=0\n",
    "    #import math\n",
    "    for 数据 in 训练数据:                                                  #数据=[x,y]\n",
    "        x_i=数据[0]\n",
    "        y_i=数据[1]\n",
    "        dk += x_i*(k*x_i-y_i+b)\n",
    "        db += (k*x_i-y_i+b)\n",
    "        #print(dk,db)\n",
    "    dk=2/len(训练数据)*dk\n",
    "    db=2/len(训练数据)*db\n",
    "    #单位向量=[dk/math.sqrt(dk*dk+db*db),db/math.sqrt(dk*dk+db*db)]       #使用单位向量，如果初始误差太大，步进太慢，直接使用梯度向量可以快速逼近\n",
    "    return [dk,db]"
   ]
  },
  {
   "cell_type": "code",
   "execution_count": 4,
   "metadata": {},
   "outputs": [],
   "source": [
    "def 线性回归(训练数据,步长,迭代次数):\n",
    "    import random\n",
    "    k = random.random() * 200 - 100  # -100 100\n",
    "    b = random.random() * 200 - 100  # -100 100\n",
    "    for i in range(迭代次数):\n",
    "        方向=求损失函数梯度方向(k,b,训练数据)\n",
    "        k=k+方向[0]*步长*(-1)                            #梯度下降，沿梯度反方向迭代，故乘以-1\n",
    "        b=b+方向[1]*步长*(-1)\n",
    "    return (k,b)"
   ]
  },
  {
   "cell_type": "code",
   "execution_count": 5,
   "metadata": {
    "scrolled": true
   },
   "outputs": [
    {
     "name": "stdout",
     "output_type": "stream",
     "text": [
      "k= 5.086638247318512 b= 5.246868866255845\n"
     ]
    }
   ],
   "source": [
    "kb=线性回归(训练数据,步长=0.1,迭代次数=4000) #步长越短，需要迭代的次数越多。步长越长，越容易震荡，不容易得出结果。如何选取合适的步长呢？\n",
    "print(\"k=\",kb[0],\"b=\",kb[1])"
   ]
  },
  {
   "cell_type": "code",
   "execution_count": 6,
   "metadata": {},
   "outputs": [
    {
     "data": {
      "text/plain": [
       "279.9253342214555"
      ]
     },
     "execution_count": 6,
     "metadata": {},
     "output_type": "execute_result"
    }
   ],
   "source": [
    "def f(x):\n",
    "    return kb[0]*x+kb[1]\n",
    "f(54)"
   ]
  },
  {
   "cell_type": "code",
   "execution_count": 7,
   "metadata": {},
   "outputs": [],
   "source": [
    "from sklearn.linear_model import LinearRegression #加载sklearn的LinearRegression模块"
   ]
  },
  {
   "cell_type": "code",
   "execution_count": 8,
   "metadata": {},
   "outputs": [
    {
     "name": "stdout",
     "output_type": "stream",
     "text": [
      "k= [5.08663825] b= 5.246868866255815\n"
     ]
    }
   ],
   "source": [
    "reg = LinearRegression().fit(X.reshape(-1, 1), Y)\n",
    "print(\"k=\",reg.coef_,\"b=\",reg.intercept_)                    #用LinearRegression拟合k和b与自己写的线性回归函数做个对比。"
   ]
  },
  {
   "cell_type": "code",
   "execution_count": 9,
   "metadata": {},
   "outputs": [
    {
     "data": {
      "text/plain": [
       "[<matplotlib.lines.Line2D at 0x7fe91c186780>]"
      ]
     },
     "execution_count": 9,
     "metadata": {},
     "output_type": "execute_result"
    },
    {
     "data": {
      "image/png": "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\n",
      "text/plain": [
       "<Figure size 576x576 with 1 Axes>"
      ]
     },
     "metadata": {
      "needs_background": "light"
     },
     "output_type": "display_data"
    }
   ],
   "source": [
    "x=np.arange(-0.5,1,0.0001)\n",
    "g=reg.coef_*x+reg.intercept_         #LinearRegression拟合出来的直线，红色\n",
    "h=kb[0]*x+kb[1]                      #自己写的线性回归函数拟合出来的直线，蓝色\n",
    "绘制标准坐标轴()\n",
    "for 数据 in 训练数据:\n",
    "    plt.scatter(数据[0],数据[1])\n",
    "plt.plot(x,h,color='blue')\n",
    "plt.plot(x,g,color='red')           #红色线后绘制，两个拟合直线高度重合时，红色会盖住蓝色"
   ]
  },
  {
   "cell_type": "markdown",
   "metadata": {},
   "source": [
    "#### 2. Complete the unfinished KNN Model using pure python to solve the previous Line-Regression problem. (8 points)"
   ]
  },
  {
   "cell_type": "markdown",
   "metadata": {},
   "source": [
    "<评阅点>:\n",
    "> + 是否完成了KNN模型 (4')\n",
    "+ 是否能够预测新的数据 (4')"
   ]
  },
  {
   "cell_type": "code",
   "execution_count": 10,
   "metadata": {},
   "outputs": [],
   "source": [
    "def model(X, y):\n",
    "    return [(Xi, yi) for Xi, yi in 训练数据]"
   ]
  },
  {
   "cell_type": "code",
   "execution_count": 11,
   "metadata": {},
   "outputs": [],
   "source": [
    "from scipy.spatial.distance import cosine\n",
    "def distance(x1, x2):\n",
    "    return abs(x1-x2)#cosine(x1, x2)                                 #两点距离等于向量夹角的cos值？？？"
   ]
  },
  {
   "cell_type": "code",
   "execution_count": 12,
   "metadata": {},
   "outputs": [],
   "source": [
    "def predict(x, k=5):\n",
    "    most_similars = sorted(model(X, y), key=lambda xi: distance(xi[0], x))[:k]\n",
    "    # 已经获得了最相似的数据集\n",
    "    counter=0\n",
    "    for xi in most_similars:\n",
    "        counter += xi[1]\n",
    "    most_common=counter/k\n",
    "    return most_common\n",
    "    # 然后呢，Counter() -> most_common() -> 就可以获得出现最多的这个y了 \n",
    "    # 非数字，先数数，选出现最多的特性"
   ]
  },
  {
   "cell_type": "code",
   "execution_count": 13,
   "metadata": {},
   "outputs": [
    {
     "data": {
      "text/plain": [
       "7.7901879899151005"
      ]
     },
     "execution_count": 13,
     "metadata": {},
     "output_type": "execute_result"
    }
   ],
   "source": [
    "f(0.5)"
   ]
  },
  {
   "cell_type": "code",
   "execution_count": 14,
   "metadata": {},
   "outputs": [
    {
     "data": {
      "text/plain": [
       "9.293030244490284"
      ]
     },
     "execution_count": 14,
     "metadata": {},
     "output_type": "execute_result"
    }
   ],
   "source": [
    "predict(0.5,5)"
   ]
  },
  {
   "cell_type": "markdown",
   "metadata": {},
   "source": [
    "#### 3. Re-code the Decision Tree, which could sort the features by salience. (12 points)"
   ]
  },
  {
   "cell_type": "markdown",
   "metadata": {},
   "source": [
    "<评阅点>\n",
    "> + 是否实现了信息熵 (1' )\n",
    "+ 是否实现了最优先特征点的选择(5')\n",
    "+ 是否实现了持续的特征选则(6')"
   ]
  },
  {
   "cell_type": "markdown",
   "metadata": {},
   "source": [
    "信息熵$$  Entropy= - \\sum_i^n Pr(x_i)log(Pr(x_i)) $$"
   ]
  },
  {
   "cell_type": "code",
   "execution_count": 15,
   "metadata": {},
   "outputs": [],
   "source": [
    "def 求信息熵(群体):#群体的混乱程度,值越大，越混乱;群体是列表 ，如：[A,B,A,A,C,D,D,F,E]\n",
    "    信息熵=0\n",
    "    for 个体 in 群体:\n",
    "        个体出现概率=群体.count(个体)/len(群体)\n",
    "        信息熵 +=-个体出现概率*np.log(个体出现概率)\n",
    "    return 信息熵"
   ]
  },
  {
   "cell_type": "code",
   "execution_count": 16,
   "metadata": {},
   "outputs": [
    {
     "data": {
      "text/plain": [
       "0.9938582532964797"
      ]
     },
     "execution_count": 16,
     "metadata": {},
     "output_type": "execute_result"
    }
   ],
   "source": [
    "求信息熵([1,1,1,0])"
   ]
  },
  {
   "cell_type": "code",
   "execution_count": 17,
   "metadata": {},
   "outputs": [],
   "source": [
    "mock_data = {\n",
    "    '性别':['F', 'F', 'F', 'F', 'M', 'M', 'M'],\n",
    "    '收入': ['+10', '-10', '+10', '+10', '+10', '+10', '-10'],\n",
    "    '家庭成员数': [1, 1, 2, 1, 1, 1, 2],\n",
    "    '是否购买': [1, 1, 1, 0, 0, 0, 1],\n",
    "}"
   ]
  },
  {
   "cell_type": "code",
   "execution_count": 18,
   "metadata": {
    "scrolled": true
   },
   "outputs": [
    {
     "data": {
      "text/html": [
       "<div>\n",
       "<style scoped>\n",
       "    .dataframe tbody tr th:only-of-type {\n",
       "        vertical-align: middle;\n",
       "    }\n",
       "\n",
       "    .dataframe tbody tr th {\n",
       "        vertical-align: top;\n",
       "    }\n",
       "\n",
       "    .dataframe thead th {\n",
       "        text-align: right;\n",
       "    }\n",
       "</style>\n",
       "<table border=\"1\" class=\"dataframe\">\n",
       "  <thead>\n",
       "    <tr style=\"text-align: right;\">\n",
       "      <th></th>\n",
       "      <th>性别</th>\n",
       "      <th>收入</th>\n",
       "      <th>家庭成员数</th>\n",
       "      <th>是否购买</th>\n",
       "    </tr>\n",
       "  </thead>\n",
       "  <tbody>\n",
       "    <tr>\n",
       "      <th>0</th>\n",
       "      <td>F</td>\n",
       "      <td>+10</td>\n",
       "      <td>1</td>\n",
       "      <td>1</td>\n",
       "    </tr>\n",
       "    <tr>\n",
       "      <th>1</th>\n",
       "      <td>F</td>\n",
       "      <td>-10</td>\n",
       "      <td>1</td>\n",
       "      <td>1</td>\n",
       "    </tr>\n",
       "    <tr>\n",
       "      <th>2</th>\n",
       "      <td>F</td>\n",
       "      <td>+10</td>\n",
       "      <td>2</td>\n",
       "      <td>1</td>\n",
       "    </tr>\n",
       "    <tr>\n",
       "      <th>3</th>\n",
       "      <td>F</td>\n",
       "      <td>+10</td>\n",
       "      <td>1</td>\n",
       "      <td>0</td>\n",
       "    </tr>\n",
       "    <tr>\n",
       "      <th>4</th>\n",
       "      <td>M</td>\n",
       "      <td>+10</td>\n",
       "      <td>1</td>\n",
       "      <td>0</td>\n",
       "    </tr>\n",
       "    <tr>\n",
       "      <th>5</th>\n",
       "      <td>M</td>\n",
       "      <td>+10</td>\n",
       "      <td>1</td>\n",
       "      <td>0</td>\n",
       "    </tr>\n",
       "    <tr>\n",
       "      <th>6</th>\n",
       "      <td>M</td>\n",
       "      <td>-10</td>\n",
       "      <td>2</td>\n",
       "      <td>1</td>\n",
       "    </tr>\n",
       "  </tbody>\n",
       "</table>\n",
       "</div>"
      ],
      "text/plain": [
       "  性别   收入  家庭成员数  是否购买\n",
       "0  F  +10      1     1\n",
       "1  F  -10      1     1\n",
       "2  F  +10      2     1\n",
       "3  F  +10      1     0\n",
       "4  M  +10      1     0\n",
       "5  M  +10      1     0\n",
       "6  M  -10      2     1"
      ]
     },
     "execution_count": 18,
     "metadata": {},
     "output_type": "execute_result"
    }
   ],
   "source": [
    "import pandas as pd\n",
    "dataset = pd.DataFrame.from_dict(mock_data)\n",
    "dataset"
   ]
  },
  {
   "cell_type": "code",
   "execution_count": 19,
   "metadata": {},
   "outputs": [],
   "source": [
    "#mock_data = {\n",
    "#    '性别':['F', 'F', 'F', 'F', 'M', 'M', 'M'],\n",
    "#    '收入': ['+10', '-10', '+10', '+10', '+10', '+10', '-10'],\n",
    "#    '家庭成员数': [1, 1, 2, 1, 1, 1, 2],\n",
    "#    '是否购买': [1, 1, 1, 0, 0, 0, 1],\n",
    "#}\n",
    "def 求分割特征项(数据表,目标):#dataset[dataset[\"family_number\"]==1]['bought'].tolist\n",
    "    最佳特征项列表=[]\n",
    "    while 1==1:\n",
    "        特征行 = set(数据表.columns.tolist()) - {目标} # set()-sett(),list之间没有减法。如果用list的话，后面循环时遇到目标可以跳出\n",
    "        特征行信息熵=[]\n",
    "        for 特征 in 特征行:                            # 特征行为列表，比如内容为[性别,收入,家庭成员数]；特征为里面的具体项，比如家庭成员\n",
    "            特征总信息熵=0\n",
    "            最小特征值信息熵=float('inf')               #float('inf')为无穷大\n",
    "            for 特征值 in set(数据表[特征]):            # 获取特征值，比如家庭成员为2的2\n",
    "                特征值信息熵=求信息熵(list(数据表[数据表[特征]==特征值][目标]))#获取该特征值下对应的所有目标值，并组织一个列表，然后求信息熵\n",
    "                if 特征值信息熵<=最小特征值信息熵:                           # 如果信息熵小于最小信息熵则，最小信息熵变成新求出来的这个信息熵\n",
    "                    信息熵最小特征值=特征值                                  # 并记录下来对应的特征值\n",
    "                    最小特征值信息熵=特征值信息熵\n",
    "                特征总信息熵 +=特征值信息熵                                  # 累加获得该特征项下所有信息熵的和\n",
    "            特征行信息熵.append([特征总信息熵,特征,信息熵最小特征值])\n",
    "\n",
    "        最佳特征项=min(特征行信息熵)\n",
    "        for 特征项 in 最佳特征项列表:\n",
    "            if 最佳特征项[1]==特征项[0]:return 最佳特征项列表\n",
    "        最佳特征项列表.append([最佳特征项[1],最佳特征项[2]])\n",
    "        数据表=数据表[数据表[最佳特征项[1]]!=最佳特征项[2]]"
   ]
  },
  {
   "cell_type": "code",
   "execution_count": 20,
   "metadata": {
    "scrolled": true
   },
   "outputs": [
    {
     "data": {
      "text/plain": [
       "[['家庭成员数', 2], ['性别', 'M'], ['收入', '-10']]"
      ]
     },
     "execution_count": 20,
     "metadata": {},
     "output_type": "execute_result"
    }
   ],
   "source": [
    "求分割特征项(dataset,\"是否购买\")"
   ]
  },
  {
   "cell_type": "code",
   "execution_count": 21,
   "metadata": {},
   "outputs": [],
   "source": [
    "dataset1=dataset[dataset[\"家庭成员数\"]!=2]\n",
    "dataset2=dataset1[dataset1[\"性别\"]!=\"M\"]\n",
    "dataset3=dataset2[dataset2[\"收入\"]!=\"-10\"]\n"
   ]
  },
  {
   "cell_type": "code",
   "execution_count": 22,
   "metadata": {
    "scrolled": true
   },
   "outputs": [
    {
     "data": {
      "text/html": [
       "<div>\n",
       "<style scoped>\n",
       "    .dataframe tbody tr th:only-of-type {\n",
       "        vertical-align: middle;\n",
       "    }\n",
       "\n",
       "    .dataframe tbody tr th {\n",
       "        vertical-align: top;\n",
       "    }\n",
       "\n",
       "    .dataframe thead th {\n",
       "        text-align: right;\n",
       "    }\n",
       "</style>\n",
       "<table border=\"1\" class=\"dataframe\">\n",
       "  <thead>\n",
       "    <tr style=\"text-align: right;\">\n",
       "      <th></th>\n",
       "      <th>性别</th>\n",
       "      <th>收入</th>\n",
       "      <th>家庭成员数</th>\n",
       "      <th>是否购买</th>\n",
       "    </tr>\n",
       "  </thead>\n",
       "  <tbody>\n",
       "    <tr>\n",
       "      <th>0</th>\n",
       "      <td>F</td>\n",
       "      <td>+10</td>\n",
       "      <td>1</td>\n",
       "      <td>1</td>\n",
       "    </tr>\n",
       "    <tr>\n",
       "      <th>1</th>\n",
       "      <td>F</td>\n",
       "      <td>-10</td>\n",
       "      <td>1</td>\n",
       "      <td>1</td>\n",
       "    </tr>\n",
       "    <tr>\n",
       "      <th>3</th>\n",
       "      <td>F</td>\n",
       "      <td>+10</td>\n",
       "      <td>1</td>\n",
       "      <td>0</td>\n",
       "    </tr>\n",
       "    <tr>\n",
       "      <th>4</th>\n",
       "      <td>M</td>\n",
       "      <td>+10</td>\n",
       "      <td>1</td>\n",
       "      <td>0</td>\n",
       "    </tr>\n",
       "    <tr>\n",
       "      <th>5</th>\n",
       "      <td>M</td>\n",
       "      <td>+10</td>\n",
       "      <td>1</td>\n",
       "      <td>0</td>\n",
       "    </tr>\n",
       "  </tbody>\n",
       "</table>\n",
       "</div>"
      ],
      "text/plain": [
       "  性别   收入  家庭成员数  是否购买\n",
       "0  F  +10      1     1\n",
       "1  F  -10      1     1\n",
       "3  F  +10      1     0\n",
       "4  M  +10      1     0\n",
       "5  M  +10      1     0"
      ]
     },
     "execution_count": 22,
     "metadata": {},
     "output_type": "execute_result"
    }
   ],
   "source": [
    "dataset1"
   ]
  },
  {
   "cell_type": "code",
   "execution_count": 23,
   "metadata": {},
   "outputs": [
    {
     "data": {
      "text/html": [
       "<div>\n",
       "<style scoped>\n",
       "    .dataframe tbody tr th:only-of-type {\n",
       "        vertical-align: middle;\n",
       "    }\n",
       "\n",
       "    .dataframe tbody tr th {\n",
       "        vertical-align: top;\n",
       "    }\n",
       "\n",
       "    .dataframe thead th {\n",
       "        text-align: right;\n",
       "    }\n",
       "</style>\n",
       "<table border=\"1\" class=\"dataframe\">\n",
       "  <thead>\n",
       "    <tr style=\"text-align: right;\">\n",
       "      <th></th>\n",
       "      <th>性别</th>\n",
       "      <th>收入</th>\n",
       "      <th>家庭成员数</th>\n",
       "      <th>是否购买</th>\n",
       "    </tr>\n",
       "  </thead>\n",
       "  <tbody>\n",
       "    <tr>\n",
       "      <th>0</th>\n",
       "      <td>F</td>\n",
       "      <td>+10</td>\n",
       "      <td>1</td>\n",
       "      <td>1</td>\n",
       "    </tr>\n",
       "    <tr>\n",
       "      <th>1</th>\n",
       "      <td>F</td>\n",
       "      <td>-10</td>\n",
       "      <td>1</td>\n",
       "      <td>1</td>\n",
       "    </tr>\n",
       "    <tr>\n",
       "      <th>3</th>\n",
       "      <td>F</td>\n",
       "      <td>+10</td>\n",
       "      <td>1</td>\n",
       "      <td>0</td>\n",
       "    </tr>\n",
       "  </tbody>\n",
       "</table>\n",
       "</div>"
      ],
      "text/plain": [
       "  性别   收入  家庭成员数  是否购买\n",
       "0  F  +10      1     1\n",
       "1  F  -10      1     1\n",
       "3  F  +10      1     0"
      ]
     },
     "execution_count": 23,
     "metadata": {},
     "output_type": "execute_result"
    }
   ],
   "source": [
    "dataset2"
   ]
  },
  {
   "cell_type": "code",
   "execution_count": 24,
   "metadata": {},
   "outputs": [
    {
     "data": {
      "text/html": [
       "<div>\n",
       "<style scoped>\n",
       "    .dataframe tbody tr th:only-of-type {\n",
       "        vertical-align: middle;\n",
       "    }\n",
       "\n",
       "    .dataframe tbody tr th {\n",
       "        vertical-align: top;\n",
       "    }\n",
       "\n",
       "    .dataframe thead th {\n",
       "        text-align: right;\n",
       "    }\n",
       "</style>\n",
       "<table border=\"1\" class=\"dataframe\">\n",
       "  <thead>\n",
       "    <tr style=\"text-align: right;\">\n",
       "      <th></th>\n",
       "      <th>性别</th>\n",
       "      <th>收入</th>\n",
       "      <th>家庭成员数</th>\n",
       "      <th>是否购买</th>\n",
       "    </tr>\n",
       "  </thead>\n",
       "  <tbody>\n",
       "    <tr>\n",
       "      <th>0</th>\n",
       "      <td>F</td>\n",
       "      <td>+10</td>\n",
       "      <td>1</td>\n",
       "      <td>1</td>\n",
       "    </tr>\n",
       "    <tr>\n",
       "      <th>3</th>\n",
       "      <td>F</td>\n",
       "      <td>+10</td>\n",
       "      <td>1</td>\n",
       "      <td>0</td>\n",
       "    </tr>\n",
       "  </tbody>\n",
       "</table>\n",
       "</div>"
      ],
      "text/plain": [
       "  性别   收入  家庭成员数  是否购买\n",
       "0  F  +10      1     1\n",
       "3  F  +10      1     0"
      ]
     },
     "execution_count": 24,
     "metadata": {},
     "output_type": "execute_result"
    }
   ],
   "source": [
    "dataset3"
   ]
  },
  {
   "cell_type": "markdown",
   "metadata": {},
   "source": [
    "两口子肯定买，单身男性肯定不买，单身女性可能买，缺钱的单身女性必然会买。\n",
    "这大概是一种家庭需要，男士不会用或用不到，女性用的到但有钱不买这个东西，也能通过其他消费享受到服务，但是没钱只能买了自己给自己服务的一些东西"
   ]
  },
  {
   "cell_type": "markdown",
   "metadata": {},
   "source": [
    "#### 4. Finish the K-Means using 2-D matplotlib (8 points)"
   ]
  },
  {
   "cell_type": "markdown",
   "metadata": {},
   "source": [
    "<评阅点>\n",
    "> + 是否完成了KMeans模型，基于scikit-learning (3')\n",
    "+ 是否完成了可视化任务（5'）"
   ]
  },
  {
   "cell_type": "markdown",
   "metadata": {},
   "source": [
    "## Part-2 Question and Answer 问答"
   ]
  },
  {
   "cell_type": "markdown",
   "metadata": {},
   "source": [
    "#### 1. What's the *model*? why  all the models are wrong, but some are useful? (5 points) "
   ]
  },
  {
   "cell_type": "markdown",
   "metadata": {},
   "source": [
    "Ans:"
   ]
  },
  {
   "cell_type": "markdown",
   "metadata": {},
   "source": [
    "<评阅点>\n",
    "> + 对模型的理解是否正确,对模型的抽象性是否正确(5')"
   ]
  },
  {
   "cell_type": "markdown",
   "metadata": {},
   "source": [
    "#### 2. What's the underfitting and overfitting? List the reasons that could make model overfitting or underfitting. (10 points)"
   ]
  },
  {
   "cell_type": "markdown",
   "metadata": {},
   "source": [
    "Ans:"
   ]
  },
  {
   "cell_type": "markdown",
   "metadata": {},
   "source": [
    "<评阅点>\n",
    "> + 对过拟合和欠拟合的理解是否正确 (3')\n",
    "+ 对欠拟合产生的原因是否理解正确(2')\n",
    "+ 对过拟合产生的原因是否理解正确(5')"
   ]
  },
  {
   "cell_type": "markdown",
   "metadata": {},
   "source": [
    "#### 3. What's the precision, recall, AUC, F1, F2score. What are they mainly target on? (12')"
   ]
  },
  {
   "cell_type": "markdown",
   "metadata": {},
   "source": [
    "Ans:"
   ]
  },
  {
   "cell_type": "markdown",
   "metadata": {},
   "source": [
    "<评阅点>\n",
    "> + 对precision, recall, AUC, F1, F2 理解是否正确(6‘)\n",
    "+ 对precision, recall, AUC, F1, F2的使用侧重点是否理解正确 (6’)"
   ]
  },
  {
   "cell_type": "markdown",
   "metadata": {},
   "source": [
    "#### 4. Based on our course and yourself mind, what's the machine learning?  (8')"
   ]
  },
  {
   "cell_type": "markdown",
   "metadata": {},
   "source": [
    "Ans:"
   ]
  },
  {
   "cell_type": "markdown",
   "metadata": {},
   "source": [
    "<评阅点> 开放式问题，是否能说出来机器学习这种思维方式和传统的分析式编程的区别（8'）"
   ]
  },
  {
   "cell_type": "markdown",
   "metadata": {},
   "source": [
    "#### 5. \"正确定义了机器学习模型的评价标准(evaluation)， 问题基本上就已经解决一半\". 这句话是否正确？你是怎么看待的？ (8‘)"
   ]
  },
  {
   "cell_type": "markdown",
   "metadata": {},
   "source": [
    "<评阅点> 开放式问题，主要看能理解评价指标对机器学习模型的重要性."
   ]
  },
  {
   "cell_type": "markdown",
   "metadata": {},
   "source": [
    "## Part-03 Programming Practice 编程练习"
   ]
  },
  {
   "cell_type": "markdown",
   "metadata": {},
   "source": [
    "1. In our course and previous practice, we complete some importance components of Decision Tree. In this problem, you need to build a **completed** Decision Tree Model. You show finish a `predicate()` function, which accepts three parameters **<gender, income, family_number>**, and outputs the predicated 'bought': 1 or 0.  (20 points)"
   ]
  },
  {
   "cell_type": "code",
   "execution_count": 25,
   "metadata": {},
   "outputs": [],
   "source": [
    "# you code here"
   ]
  },
  {
   "cell_type": "markdown",
   "metadata": {},
   "source": [
    "<评阅点>\n",
    "> + 是否将之前的决策树模型的部分进行合并组装， predicate函数能够顺利运行(8')\n",
    "+ 是够能够输入未曾见过的X变量，例如gender, income, family_number 分别是： <M, -10, 1>, 模型能够预测出结果 (12')"
   ]
  },
  {
   "cell_type": "markdown",
   "metadata": {},
   "source": [
    "2. 将上一节课(第二节课)的线性回归问题中的Loss函数改成\"绝对值\"，并且改变其偏导的求值方式，观察其结果的变化。(19 point)"
   ]
  },
  {
   "cell_type": "code",
   "execution_count": 26,
   "metadata": {},
   "outputs": [],
   "source": [
    "# you code here"
   ]
  },
  {
   "cell_type": "markdown",
   "metadata": {},
   "source": [
    "<评阅点>\n",
    "+ 是否将Loss改成了“绝对值”(3')\n",
    "+ 是否完成了偏导的重新定义(5')\n",
    "+ 新的模型Loss是否能够收敛 (11’)"
   ]
  },
  {
   "cell_type": "markdown",
   "metadata": {},
   "source": []
  }
 ],
 "metadata": {
  "kernelspec": {
   "display_name": "Python 3",
   "language": "python",
   "name": "python3"
  },
  "language_info": {
   "codemirror_mode": {
    "name": "ipython",
    "version": 3
   },
   "file_extension": ".py",
   "mimetype": "text/x-python",
   "name": "python",
   "nbconvert_exporter": "python",
   "pygments_lexer": "ipython3",
   "version": "3.7.3"
  }
 },
 "nbformat": 4,
 "nbformat_minor": 2
}

    "from scipy.misc import derivative#加载求导函数\n",
    "import numpy as np\n",
    "\n",
    "def 绘制标准坐标轴():\n",
    "    import mpl_toolkits.axisartist as axisartist\n",
    "    #创建画布\n",
    "    fig = plt.figure(figsize=(8, 8))\n",
    "    #使用axisartist.Subplot方法创建一个绘图区对象ax\n",
    "    ax = axisartist.Subplot(fig, 111)  \n",
    "    #将绘图区对象添加到画布中\n",
    "    fig.add_axes(ax)\n",
    "\n",
    "    #通过set_visible方法设置绘图区所有坐标轴隐藏\n",
    "    ax.axis[:].set_visible(False)\n",
    "\n",
    "    #ax.new_floating_axis代表添加新的坐标轴\n",
    "    ax.axis[\"x\"] = ax.new_floating_axis(0,0)\n",
    "\n",
    "    #给x坐标轴加上箭头,\"->\"表示是空箭头，size = 0.5表示箭头大小\n",
    "    ax.axis[\"x\"].set_axisline_style(\"->\", size = 0.5)\n",
    "\n",
    "    #添加y坐标轴，且加上箭头,\"-|>\"则是实心箭头\n",
    "    ax.axis[\"y\"] = ax.new_floating_axis(1,0)\n",
    "    ax.axis[\"y\"].set_axisline_style(\"-|>\", size = 0.5)\n",
    "\n",
    "    #设置x、y轴上刻度显示方向\n",
    "    ax.axis[\"x\"].set_axis_direction(\"top\")\n",
    "    ax.axis[\"y\"].set_axis_direction(\"right\")"
   ]
  },
  {
   "cell_type": "markdown",
   "metadata": {},
   "source": [
    "## Assignment-03 First Step of Machine Learning: Model and Evaluation"
   ]
  },
  {
   "cell_type": "markdown",
   "metadata": {},
   "source": [
    "同学们，今天我们的学习了基本的机器学习概念，相比你已经对机器学习的这些方法有一个基本的认识了。值得说明的是，机器学习不仅仅是一系列方法，更重要的是一种思维体系，即：依据以往的、现有的数据，构建某种方法来解B决未见过的问题。而且决策树，贝叶斯只是实现这个目标的一个方法，包括之后的神经网络。很有可能有一天，神经网络也会被淘汰，但是重要的是我们要理解机器学习的目标，就是尽可能的自动化解决未知的问题。"
   ]
  },
  {
   "cell_type": "markdown",
   "metadata": {},
   "source": [
    "![](https://timgsa.baidu.com/timg?image&quality=80&size=b9999_10000&sec=1571556399207&di=4a97dc15ad08dd49d3748d1edf6109b3&imgtype=0&src=http%3A%2F%2Fc.hiphotos.baidu.com%2Fzhidao%2Fwh%3D450%2C600%2Fsign%3Dae742c6aedcd7b89e93932873a146e91%2F5d6034a85edf8db1b16050c40223dd54574e74c7.jpg)"
   ]
  },
  {
   "cell_type": "markdown",
   "metadata": {},
   "source": [
    "## Part-1 Programming Review 编程回顾"
   ]
  },
  {
   "cell_type": "markdown",
   "metadata": {},
   "source": [
    "#### 1. Re-code the Linear-Regression Model using scikit-learning(10 points)"
   ]
  },
  {
   "cell_type": "markdown",
   "metadata": {},
   "source": [
    "<评阅点>： \n",
    "> + 是否完成线性回归模型 (4')\n",
    "+ 能够进行预测新数据(3')\n",
    "+ 能够进行可视化操作(3')"
   ]
  },
  {
   "cell_type": "code",
   "execution_count": 2,
   "metadata": {},
   "outputs": [],
   "source": [
    "import numpy as np\n",
    "import random\n",
    "随机数 = np.random.random((20, 2))\n",
    "X = 随机数[:, 0]\n",
    "Y= []\n",
    "训练数据=[]\n",
    "\n",
    "for x in X:\n",
    "    y=x*7+ 3 + random.randint(-5, 5)\n",
    "    Y.append(y)\n",
    "    训练数据.append([x,y])\n",
    "\n"
   ]
  },
  {
   "cell_type": "markdown",
   "metadata": {},
   "source": [
    "$ loss_{single}=(y-\\hat y)^2=(y-kx-b)^2$\n",
    "\n",
    "$ loss = \\frac{1}{n} \\sum{(y_i - kx_i - b)}^2 $\n",
    "\n",
    "$ \\frac{\\partial{loss}}{\\partial{k}} = \\frac{2}{n}\\sum(kx_i-y_i+b)x_i$\n",
    "\n",
    "$ \\frac{\\partial{loss}}{\\partial{b}} = \\frac{2}{n}\\sum(b+kx_i-y_i)=\\frac{2}{n}\\sum(kx_i-y_i+b)$\n",
    "\n",
    "梯度为\n",
    "$ (\\frac{\\partial{loss}}{\\partial{k}},\\frac{\\partial{loss}}{\\partial{b}})$\n",
    "\n",
    "梯度的单位向量$ (\\frac {\\frac{\\partial loss}{\\partial k}}{\\sqrt{(\\frac{\\partial loss}{\\partial k})^2 + (\\frac{\\partial loss}{\\partial b })^2}},\\frac {\\frac{\\partial loss}{\\partial b}}{\\sqrt{(\\frac{\\partial loss}{\\partial k})^2 + (\\frac{\\partial loss}{\\partial b })^2}})$\n",
    "\n",
    "令$ \\frac{\\partial{loss}}{\\partial{k}}=dk,\\frac{\\partial{loss}}{\\partial{b}}=db$\n",
    "\n"
   ]
  },
  {
   "cell_type": "code",
   "execution_count": 3,
   "metadata": {},
   "outputs": [],
   "source": [
    "def 求损失函数梯度方向(k,b,训练数据):                                      #损失函数loss = \\frac{1}{n} \\sum{(y_i - kx_i - b_i)}^2 \n",
    "    #损失函数梯度\n",
    "    dk=0\n",
    "    db=0\n",
    "    #import math\n",
    "    for 数据 in 训练数据:                                                  #数据=[x,y]\n",
    "        x_i=数据[0]\n",
    "        y_i=数据[1]\n",
    "        dk += x_i*(k*x_i-y_i+b)\n",
    "        db += (k*x_i-y_i+b)\n",
    "        #print(dk,db)\n",
    "    dk=2/len(训练数据)*dk\n",
    "    db=2/len(训练数据)*db\n",
    "    #单位向量=[dk/math.sqrt(dk*dk+db*db),db/math.sqrt(dk*dk+db*db)]       #使用单位向量，如果初始误差太大，步进太慢，直接使用梯度向量可以快速逼近\n",
    "    return [dk,db]"
   ]
  },
  {
   "cell_type": "code",
   "execution_count": 4,
   "metadata": {},
   "outputs": [],
   "source": [
    "def 线性回归(训练数据,步长,迭代次数):\n",
    "    import random\n",
    "    k = random.random() * 200 - 100  # -100 100\n",
    "    b = random.random() * 200 - 100  # -100 100\n",
    "    for i in range(迭代次数):\n",
    "        方向=求损失函数梯度方向(k,b,训练数据)\n",
    "        k=k+方向[0]*步长*(-1)                            #梯度下降，沿梯度反方向迭代，故乘以-1\n",
    "        b=b+方向[1]*步长*(-1)\n",
    "    return (k,b)"
   ]
  },
  {
   "cell_type": "code",
   "execution_count": 5,
   "metadata": {
    "scrolled": true
   },
   "outputs": [
    {
     "name": "stdout",
     "output_type": "stream",
     "text": [
      "k= 3.997788621641573 b= 4.505961080337281\n"
     ]
    }
   ],
   "source": [
    "kb=线性回归(训练数据,步长=0.1,迭代次数=4000) #步长越短，需要迭代的次数越多。步长越长，越容易震荡，不容易得出结果。如何选取合适的步长呢？\n",
    "print(\"k=\",kb[0],\"b=\",kb[1])"
   ]
  },
  {
   "cell_type": "code",
   "execution_count": 6,
   "metadata": {},
   "outputs": [
    {
     "data": {
      "text/plain": [
       "220.3865466489822"
      ]
     },
     "execution_count": 6,
     "metadata": {},
     "output_type": "execute_result"
    }
   ],
   "source": [
    "def f(x):\n",
    "    return kb[0]*x+kb[1]\n",
    "f(54)"
   ]
  },
  {
   "cell_type": "code",
   "execution_count": 7,
   "metadata": {},
   "outputs": [],
   "source": [
    "from sklearn.linear_model import LinearRegression #加载sklearn的LinearRegression模块"
   ]
  },
  {
   "cell_type": "code",
   "execution_count": 8,
   "metadata": {},
   "outputs": [
    {
     "name": "stdout",
     "output_type": "stream",
     "text": [
      "k= [3.99778862] b= 4.505961080337261\n"
     ]
    }
   ],
   "source": [
    "reg = LinearRegression().fit(X.reshape(-1, 1), Y)\n",
    "print(\"k=\",reg.coef_,\"b=\",reg.intercept_)                    #用LinearRegression拟合k和b与自己写的线性回归函数做个对比。"
   ]
  },
  {
   "cell_type": "code",
   "execution_count": 9,
   "metadata": {},
   "outputs": [
    {
     "data": {
      "text/plain": [
       "[<matplotlib.lines.Line2D at 0x7f3784a867b8>]"
      ]
     },
     "execution_count": 9,
     "metadata": {},
     "output_type": "execute_result"
    },
    {
     "data": {
      "image/png": "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\n",
      "text/plain": [
       "<Figure size 576x576 with 1 Axes>"
      ]
     },
     "metadata": {
      "needs_background": "light"
     },
     "output_type": "display_data"
    }
   ],
   "source": [
    "x=np.arange(-0.5,1,0.0001)\n",
    "g=reg.coef_*x+reg.intercept_         #LinearRegression拟合出来的直线，红色\n",
    "h=kb[0]*x+kb[1]                      #自己写的线性回归函数拟合出来的直线，蓝色\n",
    "绘制标准坐标轴()\n",
    "for 数据 in 训练数据:\n",
    "    plt.scatter(数据[0],数据[1])\n",
    "plt.plot(x,h,color='blue')\n",
    "plt.plot(x,g,color='red')           #红色线后绘制，两个拟合直线高度重合时，红色会盖住蓝色"
   ]
  },
  {
   "cell_type": "markdown",
   "metadata": {},
   "source": [
    "#### 2. Complete the unfinished KNN Model using pure python to solve the previous Line-Regression problem. (8 points)"
   ]
  },
  {
   "cell_type": "markdown",
   "metadata": {},
   "source": [
    "<评阅点>:\n",
    "> + 是否完成了KNN模型 (4')\n",
    "+ 是否能够预测新的数据 (4')"
   ]
  },
  {
   "cell_type": "code",
   "execution_count": 10,
   "metadata": {},
   "outputs": [],
   "source": [
    "def model(X, y):\n",
    "    return [(Xi, yi) for Xi, yi in 训练数据]"
   ]
  },
  {
   "cell_type": "code",
   "execution_count": 11,
   "metadata": {},
   "outputs": [],
   "source": [
    "from scipy.spatial.distance import cosine\n",
    "def distance(x1, x2):\n",
    "    return (x1-x2)*(x1-x2)#cosine(x1, x2)                                 #两点距离等于向量夹角的cos值？？？"
   ]
  },
  {
   "cell_type": "code",
   "execution_count": 18,
   "metadata": {},
   "outputs": [],
   "source": [
    "def predict(x, k=5):\n",
    "    most_similars = sorted(model(X, y), key=lambda xi: distance(xi[0], x))[:k]\n",
    "    # 已经获得了最相似的数据集\n",
    "    counter=0\n",
    "    for xi in most_similars:\n",
    "        counter += xi[1]\n",
    "    most_common=counter/k\n",
    "    return most_common\n",
    "    # 然后呢，Counter() -> most_common() -> 就可以获得出现最多的这个y了 "
   ]
  },
  {
   "cell_type": "code",
   "execution_count": 19,
   "metadata": {},
   "outputs": [
    {
     "data": {
      "text/plain": [
       "6.504855391158067"
      ]
     },
     "execution_count": 19,
     "metadata": {},
     "output_type": "execute_result"
    }
   ],
   "source": [
    "f(0.5)"
   ]
  },
  {
   "cell_type": "code",
   "execution_count": 20,
   "metadata": {},
   "outputs": [
    {
     "data": {
      "text/plain": [
       "6.874302104771718"
      ]
     },
     "execution_count": 20,
     "metadata": {},
     "output_type": "execute_result"
    }
   ],
   "source": [
    "predict(0.5,5)"
   ]
  },
  {
   "cell_type": "markdown",
   "metadata": {},
   "source": [
    "#### 3. Re-code the Decision Tree, which could sort the features by salience. (12 points)"
   ]
  },
  {
   "cell_type": "markdown",
   "metadata": {},
   "source": [
    "<评阅点>\n",
    "> + 是否实现了信息熵 (1' )\n",
    "+ 是否实现了最优先特征点的选择(5')\n",
    "+ 是否实现了持续的特征选则(6')"
   ]
  },
  {
   "cell_type": "code",
   "execution_count": 15,
   "metadata": {},
   "outputs": [],
   "source": [
    "# "
   ]
  },
  {
   "cell_type": "markdown",
   "metadata": {},
   "source": [
    "#### 4. Finish the K-Means using 2-D matplotlib (8 points)"
   ]
  },
  {
   "cell_type": "markdown",
   "metadata": {},
   "source": [
    "<评阅点>\n",
    "> + 是否完成了KMeans模型，基于scikit-learning (3')\n",
    "+ 是否完成了可视化任务（5'）"
   ]
  },
  {
   "cell_type": "markdown",
   "metadata": {},
   "source": [
    "## Part-2 Question and Answer 问答"
   ]
  },
  {
   "cell_type": "markdown",
   "metadata": {},
   "source": [
    "#### 1. What's the *model*? why  all the models are wrong, but some are useful? (5 points) "
   ]
  },
  {
   "cell_type": "markdown",
   "metadata": {},
   "source": [
    "Ans:"
   ]
  },
  {
   "cell_type": "markdown",
   "metadata": {},
   "source": [
    "<评阅点>\n",
    "> + 对模型的理解是否正确,对模型的抽象性是否正确(5')"
   ]
  },
  {
   "cell_type": "markdown",
   "metadata": {},
   "source": [
    "#### 2. What's the underfitting and overfitting? List the reasons that could make model overfitting or underfitting. (10 points)"
   ]
  },
  {
   "cell_type": "markdown",
   "metadata": {},
   "source": [
    "Ans:"
   ]
  },
  {
   "cell_type": "markdown",
   "metadata": {},
   "source": [
    "<评阅点>\n",
    "> + 对过拟合和欠拟合的理解是否正确 (3')\n",
    "+ 对欠拟合产生的原因是否理解正确(2')\n",
    "+ 对过拟合产生的原因是否理解正确(5')"
   ]
  },
  {
   "cell_type": "markdown",
   "metadata": {},
   "source": [
    "#### 3. What's the precision, recall, AUC, F1, F2score. What are they mainly target on? (12')"
   ]
  },
  {
   "cell_type": "markdown",
   "metadata": {},
   "source": [
    "Ans:"
   ]
  },
  {
   "cell_type": "markdown",
   "metadata": {},
   "source": [
    "<评阅点>\n",
    "> + 对precision, recall, AUC, F1, F2 理解是否正确(6‘)\n",
    "+ 对precision, recall, AUC, F1, F2的使用侧重点是否理解正确 (6’)"
   ]
  },
  {
   "cell_type": "markdown",
   "metadata": {},
   "source": [
    "#### 4. Based on our course and yourself mind, what's the machine learning?  (8')"
   ]
  },
  {
   "cell_type": "markdown",
   "metadata": {},
   "source": [
    "Ans:"
   ]
  },
  {
   "cell_type": "markdown",
   "metadata": {},
   "source": [
    "<评阅点> 开放式问题，是否能说出来机器学习这种思维方式和传统的分析式编程的区别（8'）"
   ]
  },
  {
   "cell_type": "markdown",
   "metadata": {},
   "source": [
    "#### 5. \"正确定义了机器学习模型的评价标准(evaluation)， 问题基本上就已经解决一半\". 这句话是否正确？你是怎么看待的？ (8‘)"
   ]
  },
  {
   "cell_type": "markdown",
   "metadata": {},
   "source": [
    "<评阅点> 开放式问题，主要看能理解评价指标对机器学习模型的重要性."
   ]
  },
  {
   "cell_type": "markdown",
   "metadata": {},
   "source": [
    "## Part-03 Programming Practice 编程练习"
   ]
  },
  {
   "cell_type": "markdown",
   "metadata": {},
   "source": [
    "1. In our course and previous practice, we complete some importance components of Decision Tree. In this problem, you need to build a **completed** Decision Tree Model. You show finish a `predicate()` function, which accepts three parameters **<gender, income, family_number>**, and outputs the predicated 'bought': 1 or 0.  (20 points)"
   ]
  },
  {
   "cell_type": "code",
   "execution_count": 16,
   "metadata": {},
   "outputs": [],
   "source": [
    "# you code here"
   ]
  },
  {
   "cell_type": "markdown",
   "metadata": {},
   "source": [
    "<评阅点>\n",
    "> + 是否将之前的决策树模型的部分进行合并组装， predicate函数能够顺利运行(8')\n",
    "+ 是够能够输入未曾见过的X变量，例如gender, income, family_number 分别是： <M, -10, 1>, 模型能够预测出结果 (12')"
   ]
  },
  {
   "cell_type": "markdown",
   "metadata": {},
   "source": [
    "2. 将上一节课(第二节课)的线性回归问题中的Loss函数改成\"绝对值\"，并且改变其偏导的求值方式，观察其结果的变化。(19 point)"
   ]
  },
  {
   "cell_type": "code",
   "execution_count": 17,
   "metadata": {},
   "outputs": [],
   "source": [
    "# you code here"
   ]
  },
  {
   "cell_type": "markdown",
   "metadata": {},
   "source": [
    "<评阅点>\n",
    "+ 是否将Loss改成了“绝对值”(3')\n",
    "+ 是否完成了偏导的重新定义(5')\n",
    "+ 新的模型Loss是否能够收敛 (11’)"
   ]
  },
  {
   "cell_type": "markdown",
   "metadata": {},
   "source": []
  }
 ],
 "metadata": {
  "kernelspec": {
   "display_name": "Python 3",
   "language": "python",
   "name": "python3"
  },
  "language_info": {
   "codemirror_mode": {
    "name": "ipython",
    "version": 3
   },
   "file_extension": ".py",
   "mimetype": "text/x-python",
   "name": "python",
   "nbconvert_exporter": "python",
   "pygments_lexer": "ipython3",
   "version": "3.7.3"
  }
 },
 "nbformat": 4,
 "nbformat_minor": 2
}
