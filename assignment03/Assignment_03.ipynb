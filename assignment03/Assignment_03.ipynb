{
 "cells": [
  {
   "cell_type": "code",
   "execution_count": 1,
   "metadata": {},
   "outputs": [],
   "source": [
    "# %matplotlib inline\n",
    "#加不加%matplotlib inline貌似现在没啥影响\n",
    "import matplotlib.pyplot as plt\n",
    "from scipy.misc import derivative#加载求导函数\n",
    "import numpy as np\n",
    "\n",
    "def 绘制标准坐标轴():\n",
    "    import mpl_toolkits.axisartist as axisartist\n",
    "    #创建画布\n",
    "    fig = plt.figure(figsize=(8, 8))\n",
    "    #使用axisartist.Subplot方法创建一个绘图区对象ax\n",
    "    ax = axisartist.Subplot(fig, 111)  \n",
    "    #将绘图区对象添加到画布中\n",
    "    fig.add_axes(ax)\n",
    "\n",
    "    #通过set_visible方法设置绘图区所有坐标轴隐藏\n",
    "    ax.axis[:].set_visible(False)\n",
    "\n",
    "    #ax.new_floating_axis代表添加新的坐标轴\n",
    "    ax.axis[\"x\"] = ax.new_floating_axis(0,0)\n",
    "\n",
    "    #给x坐标轴加上箭头,\"->\"表示是空箭头，size = 0.5表示箭头大小\n",
    "    ax.axis[\"x\"].set_axisline_style(\"->\", size = 0.5)\n",
    "\n",
    "    #添加y坐标轴，且加上箭头,\"-|>\"则是实心箭头\n",
    "    ax.axis[\"y\"] = ax.new_floating_axis(1,0)\n",
    "    ax.axis[\"y\"].set_axisline_style(\"-|>\", size = 0.5)\n",
    "\n",
    "    #设置x、y轴上刻度显示方向\n",
    "    ax.axis[\"x\"].set_axis_direction(\"top\")\n",
    "    ax.axis[\"y\"].set_axis_direction(\"right\")"
   ]
  },
  {
   "cell_type": "markdown",
   "metadata": {},
   "source": [
    "## Assignment-03 First Step of Machine Learning: Model and Evaluation"
   ]
  },
  {
   "cell_type": "markdown",
   "metadata": {},
   "source": [
    "同学们，今天我们的学习了基本的机器学习概念，相比你已经对机器学习的这些方法有一个基本的认识了。值得说明的是，机器学习不仅仅是一系列方法，更重要的是一种思维体系，即：依据以往的、现有的数据，构建某种方法来解B决未见过的问题。而且决策树，贝叶斯只是实现这个目标的一个方法，包括之后的神经网络。很有可能有一天，神经网络也会被淘汰，但是重要的是我们要理解机器学习的目标，就是尽可能的自动化解决未知的问题。"
   ]
  },
  {
   "cell_type": "markdown",
   "metadata": {},
   "source": [
    "![](https://timgsa.baidu.com/timg?image&quality=80&size=b9999_10000&sec=1571556399207&di=4a97dc15ad08dd49d3748d1edf6109b3&imgtype=0&src=http%3A%2F%2Fc.hiphotos.baidu.com%2Fzhidao%2Fwh%3D450%2C600%2Fsign%3Dae742c6aedcd7b89e93932873a146e91%2F5d6034a85edf8db1b16050c40223dd54574e74c7.jpg)"
   ]
  },
  {
   "cell_type": "markdown",
   "metadata": {},
   "source": [
    "## Part-1 Programming Review 编程回顾"
   ]
  },
  {
   "cell_type": "markdown",
   "metadata": {},
   "source": [
    "#### 1. Re-code the Linear-Regression Model using scikit-learning(10 points)"
   ]
  },
  {
   "cell_type": "markdown",
   "metadata": {},
   "source": [
    "<评阅点>： \n",
    "> + 是否完成线性回归模型 (4')\n",
    "+ 能够进行预测新数据(3')\n",
    "+ 能够进行可视化操作(3')"
   ]
  },
  {
   "cell_type": "code",
   "execution_count": 2,
   "metadata": {},
   "outputs": [],
   "source": [
    "import numpy as np\n",
    "import random\n",
    "随机数 = np.random.random((20, 2))\n",
    "X = 随机数[:, 0]\n",
    "Y= []\n",
    "训练数据=[]\n",
    "\n",
    "for x in X:\n",
    "    y=x*7+ 3 + random.randint(-5, 5)\n",
    "    Y.append(y)\n",
    "    训练数据.append([x,y])\n",
    "\n"
   ]
  },
  {
   "cell_type": "markdown",
   "metadata": {},
   "source": [
    "$ loss_{single}=(y-\\hat y)^2=(y-kx-b)^2$\n",
    "\n",
    "$ loss = \\frac{1}{n} \\sum{(y_i - kx_i - b)}^2 $\n",
    "\n",
    "$ \\frac{\\partial{loss}}{\\partial{k}} = \\frac{2}{n}\\sum(kx_i-y_i+b)x_i$\n",
    "\n",
    "$ \\frac{\\partial{loss}}{\\partial{b}} = \\frac{2}{n}\\sum(b+kx_i-y_i)=\\frac{2}{n}\\sum(kx_i-y_i+b)$\n",
    "\n",
    "梯度为\n",
    "$ (\\frac{\\partial{loss}}{\\partial{k}},\\frac{\\partial{loss}}{\\partial{b}})$\n",
    "\n",
    "梯度的单位向量$ (\\frac {\\frac{\\partial loss}{\\partial k}}{\\sqrt{(\\frac{\\partial loss}{\\partial k})^2 + (\\frac{\\partial loss}{\\partial b })^2}},\\frac {\\frac{\\partial loss}{\\partial b}}{\\sqrt{(\\frac{\\partial loss}{\\partial k})^2 + (\\frac{\\partial loss}{\\partial b })^2}})$\n",
    "\n",
    "令$ \\frac{\\partial{loss}}{\\partial{k}}=dk,\\frac{\\partial{loss}}{\\partial{b}}=db$\n",
    "\n"
   ]
  },
  {
   "cell_type": "code",
   "execution_count": 3,
   "metadata": {},
   "outputs": [],
   "source": [
    "def 求损失函数梯度方向(k,b,训练数据):                                      #损失函数loss = \\frac{1}{n} \\sum{(y_i - kx_i - b_i)}^2 \n",
    "    #损失函数梯度\n",
    "    dk=0\n",
    "    db=0\n",
    "    #import math\n",
    "    for 数据 in 训练数据:                                                  #数据=[x,y]\n",
    "        x_i=数据[0]\n",
    "        y_i=数据[1]\n",
    "        dk += x_i*(k*x_i-y_i+b)\n",
    "        db += (k*x_i-y_i+b)\n",
    "        #print(dk,db)\n",
    "    dk=2/len(训练数据)*dk\n",
    "    db=2/len(训练数据)*db\n",
    "    #单位向量=[dk/math.sqrt(dk*dk+db*db),db/math.sqrt(dk*dk+db*db)]       #使用单位向量，如果初始误差太大，步进太慢，直接使用梯度向量可以快速逼近\n",
    "    return [dk,db]"
   ]
  },
  {
   "cell_type": "code",
   "execution_count": 4,
   "metadata": {},
   "outputs": [],
   "source": [
    "def 线性回归(训练数据,步长,迭代次数):\n",
    "    import random\n",
    "    k = random.random() * 200 - 100  # -100 100\n",
    "    b = random.random() * 200 - 100  # -100 100\n",
    "    for i in range(迭代次数):\n",
    "        方向=求损失函数梯度方向(k,b,训练数据)\n",
    "        k=k+方向[0]*步长*(-1)                            #梯度下降，沿梯度反方向迭代，故乘以-1\n",
    "        b=b+方向[1]*步长*(-1)\n",
    "    return (k,b)"
   ]
  },
  {
   "cell_type": "code",
   "execution_count": 5,
   "metadata": {
    "scrolled": true
   },
   "outputs": [
    {
     "name": "stdout",
     "output_type": "stream",
     "text": [
      "k= 3.997788621641573 b= 4.505961080337281\n"
     ]
    }
   ],
   "source": [
    "kb=线性回归(训练数据,步长=0.1,迭代次数=4000) #步长越短，需要迭代的次数越多。步长越长，越容易震荡，不容易得出结果。如何选取合适的步长呢？\n",
    "print(\"k=\",kb[0],\"b=\",kb[1])"
   ]
  },
  {
   "cell_type": "code",
   "execution_count": 6,
   "metadata": {},
   "outputs": [
    {
     "data": {
      "text/plain": [
       "220.3865466489822"
      ]
     },
     "execution_count": 6,
     "metadata": {},
     "output_type": "execute_result"
    }
   ],
   "source": [
    "def f(x):\n",
    "    return kb[0]*x+kb[1]\n",
    "f(54)"
   ]
  },
  {
   "cell_type": "code",
   "execution_count": 7,
   "metadata": {},
   "outputs": [],
   "source": [
    "from sklearn.linear_model import LinearRegression #加载sklearn的LinearRegression模块"
   ]
  },
  {
   "cell_type": "code",
   "execution_count": 8,
   "metadata": {},
   "outputs": [
    {
     "name": "stdout",
     "output_type": "stream",
     "text": [
      "k= [3.99778862] b= 4.505961080337261\n"
     ]
    }
   ],
   "source": [
    "reg = LinearRegression().fit(X.reshape(-1, 1), Y)\n",
    "print(\"k=\",reg.coef_,\"b=\",reg.intercept_)                    #用LinearRegression拟合k和b与自己写的线性回归函数做个对比。"
   ]
  },
  {
   "cell_type": "code",
   "execution_count": 9,
   "metadata": {},
   "outputs": [
    {
     "data": {
      "text/plain": [
       "[<matplotlib.lines.Line2D at 0x7f3784a867b8>]"
      ]
     },
     "execution_count": 9,
     "metadata": {},
     "output_type": "execute_result"
    },
    {
     "data": {
      "image/png": "[encoded data removed]",
      "text/plain": [
       "<Figure size 576x576 with 1 Axes>"
      ]
     },
     "metadata": {
      "needs_background": "light"
     },
     "output_type": "display_data"
    }
   ],
   "source": [
    "x=np.arange(-0.5,1,0.0001)\n",
    "g=reg.coef_*x+reg.intercept_         #LinearRegression拟合出来的直线，红色\n",
    "h=kb[0]*x+kb[1]                      #自己写的线性回归函数拟合出来的直线，蓝色\n",
    "绘制标准坐标轴()\n",
    "for 数据 in 训练数据:\n",
    "    plt.scatter(数据[0],数据[1])\n",
    "plt.plot(x,h,color='blue')\n",
    "plt.plot(x,g,color='red')           #红色线后绘制，两个拟合直线高度重合时，红色会盖住蓝色"
   ]
  },
  {
   "cell_type": "markdown",
   "metadata": {},
   "source": [
    "#### 2. Complete the unfinished KNN Model using pure python to solve the previous Line-Regression problem. (8 points)"
   ]
  },
  {
   "cell_type": "markdown",
   "metadata": {},
   "source": [
    "<评阅点>:\n",
    "> + 是否完成了KNN模型 (4')\n",
    "+ 是否能够预测新的数据 (4')"
   ]
  },
  {
   "cell_type": "code",
   "execution_count": 10,
   "metadata": {},
   "outputs": [],
   "source": [
    "def model(X, y):\n",
    "    return [(Xi, yi) for Xi, yi in 训练数据]"
   ]
  },
  {
   "cell_type": "code",
   "execution_count": 11,
   "metadata": {},
   "outputs": [],
   "source": [
    "from scipy.spatial.distance import cosine\n",
    "def distance(x1, x2):\n",
    "    return (x1-x2)*(x1-x2)#cosine(x1, x2)                                 #两点距离等于向量夹角的cos值？？？"
   ]
  },
  {
   "cell_type": "code",
   "execution_count": 18,
   "metadata": {},
   "outputs": [],
   "source": [
    "def predict(x, k=5):\n",
    "    most_similars = sorted(model(X, y), key=lambda xi: distance(xi[0], x))[:k]\n",
    "    # 已经获得了最相似的数据集\n",
    "    counter=0\n",
    "    for xi in most_similars:\n",
    "        counter += xi[1]\n",
    "    most_common=counter/k\n",
    "    return most_common\n",
    "    # 然后呢，Counter() -> most_common() -> 就可以获得出现最多的这个y了 "
   ]
  },
  {
   "cell_type": "code",
   "execution_count": 19,
   "metadata": {},
   "outputs": [
    {
     "data": {
      "text/plain": [
       "6.504855391158067"
      ]
     },
     "execution_count": 19,
     "metadata": {},
     "output_type": "execute_result"
    }
   ],
   "source": [
    "f(0.5)"
   ]
  },
  {
   "cell_type": "code",
   "execution_count": 20,
   "metadata": {},
   "outputs": [
    {
     "data": {
      "text/plain": [
       "6.874302104771718"
      ]
     },
     "execution_count": 20,
     "metadata": {},
     "output_type": "execute_result"
    }
   ],
   "source": [
    "predict(0.5,5)"
   ]
  },
  {
   "cell_type": "markdown",
   "metadata": {},
   "source": [
    "#### 3. Re-code the Decision Tree, which could sort the features by salience. (12 points)"
   ]
  },
  {
   "cell_type": "markdown",
   "metadata": {},
   "source": [
    "<评阅点>\n",
    "> + 是否实现了信息熵 (1' )\n",
    "+ 是否实现了最优先特征点的选择(5')\n",
    "+ 是否实现了持续的特征选则(6')"
   ]
  },
  {
   "cell_type": "code",
   "execution_count": 15,
   "metadata": {},
   "outputs": [],
   "source": [
    "# "
   ]
  },
  {
   "cell_type": "markdown",
   "metadata": {},
   "source": [
    "#### 4. Finish the K-Means using 2-D matplotlib (8 points)"
   ]
  },
  {
   "cell_type": "markdown",
   "metadata": {},
   "source": [
    "<评阅点>\n",
    "> + 是否完成了KMeans模型，基于scikit-learning (3')\n",
    "+ 是否完成了可视化任务（5'）"
   ]
  },
  {
   "cell_type": "markdown",
   "metadata": {},
   "source": [
    "## Part-2 Question and Answer 问答"
   ]
  },
  {
   "cell_type": "markdown",
   "metadata": {},
   "source": [
    "#### 1. What's the *model*? why  all the models are wrong, but some are useful? (5 points) "
   ]
  },
  {
   "cell_type": "markdown",
   "metadata": {},
   "source": [
    "Ans:"
   ]
  },
  {
   "cell_type": "markdown",
   "metadata": {},
   "source": [
    "<评阅点>\n",
    "> + 对模型的理解是否正确,对模型的抽象性是否正确(5')"
   ]
  },
  {
   "cell_type": "markdown",
   "metadata": {},
   "source": [
    "#### 2. What's the underfitting and overfitting? List the reasons that could make model overfitting or underfitting. (10 points)"
   ]
  },
  {
   "cell_type": "markdown",
   "metadata": {},
   "source": [
    "Ans:"
   ]
  },
  {
   "cell_type": "markdown",
   "metadata": {},
   "source": [
    "<评阅点>\n",
    "> + 对过拟合和欠拟合的理解是否正确 (3')\n",
    "+ 对欠拟合产生的原因是否理解正确(2')\n",
    "+ 对过拟合产生的原因是否理解正确(5')"
   ]
  },
  {
   "cell_type": "markdown",
   "metadata": {},
   "source": [
    "#### 3. What's the precision, recall, AUC, F1, F2score. What are they mainly target on? (12')"
   ]
  },
  {
   "cell_type": "markdown",
   "metadata": {},
   "source": [
    "Ans:"
   ]
  },
  {
   "cell_type": "markdown",
   "metadata": {},
   "source": [
    "<评阅点>\n",
    "> + 对precision, recall, AUC, F1, F2 理解是否正确(6‘)\n",
    "+ 对precision, recall, AUC, F1, F2的使用侧重点是否理解正确 (6’)"
   ]
  },
  {
   "cell_type": "markdown",
   "metadata": {},
   "source": [
    "#### 4. Based on our course and yourself mind, what's the machine learning?  (8')"
   ]
  },
  {
   "cell_type": "markdown",
   "metadata": {},
   "source": [
    "Ans:"
   ]
  },
  {
   "cell_type": "markdown",
   "metadata": {},
   "source": [
    "<评阅点> 开放式问题，是否能说出来机器学习这种思维方式和传统的分析式编程的区别（8'）"
   ]
  },
  {
   "cell_type": "markdown",
   "metadata": {},
   "source": [
    "#### 5. \"正确定义了机器学习模型的评价标准(evaluation)， 问题基本上就已经解决一半\". 这句话是否正确？你是怎么看待的？ (8‘)"
   ]
  },
  {
   "cell_type": "markdown",
   "metadata": {},
   "source": [
    "<评阅点> 开放式问题，主要看能理解评价指标对机器学习模型的重要性."
   ]
  },
  {
   "cell_type": "markdown",
   "metadata": {},
   "source": [
    "## Part-03 Programming Practice 编程练习"
   ]
  },
  {
   "cell_type": "markdown",
   "metadata": {},
   "source": [
    "1. In our course and previous practice, we complete some importance components of Decision Tree. In this problem, you need to build a **completed** Decision Tree Model. You show finish a `predicate()` function, which accepts three parameters **<gender, income, family_number>**, and outputs the predicated 'bought': 1 or 0.  (20 points)"
   ]
  },
  {
   "cell_type": "code",
   "execution_count": 16,
   "metadata": {},
   "outputs": [],
   "source": [
    "# you code here"
   ]
  },
  {
   "cell_type": "markdown",
   "metadata": {},
   "source": [
    "<评阅点>\n",
    "> + 是否将之前的决策树模型的部分进行合并组装， predicate函数能够顺利运行(8')\n",
    "+ 是够能够输入未曾见过的X变量，例如gender, income, family_number 分别是： <M, -10, 1>, 模型能够预测出结果 (12')"
   ]
  },
  {
   "cell_type": "markdown",
   "metadata": {},
   "source": [
    "2. 将上一节课(第二节课)的线性回归问题中的Loss函数改成\"绝对值\"，并且改变其偏导的求值方式，观察其结果的变化。(19 point)"
   ]
  },
  {
   "cell_type": "code",
   "execution_count": 17,
   "metadata": {},
   "outputs": [],
   "source": [
    "# you code here"
   ]
  },
  {
   "cell_type": "markdown",
   "metadata": {},
   "source": [
    "<评阅点>\n",
    "+ 是否将Loss改成了“绝对值”(3')\n",
    "+ 是否完成了偏导的重新定义(5')\n",
    "+ 新的模型Loss是否能够收敛 (11’)"
   ]
  },
  {
   "cell_type": "markdown",
   "metadata": {},
   "source": []
  }
 ],
 "metadata": {
  "kernelspec": {
   "display_name": "Python 3",
   "language": "python",
   "name": "python3"
  },
  "language_info": {
   "codemirror_mode": {
    "name": "ipython",
    "version": 3
   },
   "file_extension": ".py",
   "mimetype": "text/x-python",
   "name": "python",
   "nbconvert_exporter": "python",
   "pygments_lexer": "ipython3",
   "version": "3.7.3"
  }
 },
 "nbformat": 4,
 "nbformat_minor": 2
}
