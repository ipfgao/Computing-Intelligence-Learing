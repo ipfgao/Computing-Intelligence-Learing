{
 "cells": [
  {
   "cell_type": "markdown",
   "metadata": {},
   "source": [
    "## 西部世界对话"
   ]
  },
  {
   "cell_type": "markdown",
   "metadata": {},
   "source": [
    "### 打招呼"
   ]
  },
  {
   "cell_type": "code",
   "execution_count": 34,
   "metadata": {},
   "outputs": [],
   "source": [
    "打招呼语法 ='''\n",
    "打招呼= 姓名 招呼语 小尾巴\n",
    "姓名 = 单人姓名 姓名 | 单人姓名\n",
    "单人姓名 =老王 | 老张 | 老刘 | 老梁\n",
    "招呼语 = 你好 | 您来了 | 快进来 | 来耍\n",
    "小尾巴 = 噻！ | 呀！ | 哟！\n",
    "'''"
   ]
  },
  {
   "cell_type": "code",
   "execution_count": 35,
   "metadata": {},
   "outputs": [],
   "source": [
    "import random\n",
    "def 生成程序(语法,目标):\n",
    "    if 目标 in 语法:\n",
    "        选项范围=语法[目标] #选项范围为语法中含有目标项的那一行\n",
    "        选项=random.choice(选项范围)\n",
    "        return ''.join(生成程序(语法,目标=c.strip()) for c in 选项.split())\n",
    "    else:\n",
    "        return 目标\n"
   ]
  },
  {
   "cell_type": "code",
   "execution_count": 46,
   "metadata": {},
   "outputs": [],
   "source": [
    "def 由语法生成程序(语法文本,目标,赋值分隔符,并列分隔符):\n",
    "    语法 = dict() #key is the @statement（表示左边需要展开的）,value is @expression（表示右边展开的内容）\n",
    "    for line in 语法文本.split('\\n'):\n",
    "        if not line:continue\n",
    "        #跳过空行\n",
    "        ##？？需要一个判断语句，来确定是否使用了合理的分隔符??\n",
    "        前项,后项=line.split(赋值分隔符)\n",
    "        #以 = 为界进行分割，分割成 前项 和 后项 两个部分\n",
    "        语法[前项.strip()]=后项.split(并列分隔符)\n",
    "        #逐行将后项的并列项分割后，赋予前项。前项.strip()是为了去掉其的空格\n",
    "    _程序=生成程序(语法,目标)\n",
    "    return _程序"
   ]
  },
  {
   "cell_type": "code",
   "execution_count": 47,
   "metadata": {},
   "outputs": [],
   "source": [
    "def 打招呼():\n",
    "    return 由语法生成程序(打招呼语法,'打招呼','=','|')"
   ]
  },
  {
   "cell_type": "code",
   "execution_count": 48,
   "metadata": {},
   "outputs": [
    {
     "data": {
      "text/plain": [
       "'老张你好呀！'"
      ]
     },
     "execution_count": 48,
     "metadata": {},
     "output_type": "execute_result"
    }
   ],
   "source": [
    "打招呼()"
   ]
  },
  {
   "cell_type": "code",
   "execution_count": 54,
   "metadata": {},
   "outputs": [],
   "source": [
    "简单句语法 = '''\n",
    "句子 => 名词短语 动词短语\n",
    "名词短语 => 量词 形容词* 名词\n",
    "形容词* => 形容词 | 形容词 形容词*\n",
    "动词短语 => 动词 名词短语\n",
    "量词 =>  一个 | 这个\n",
    "名词 =>   女人 |  篮球 | 桌子 | 小猫\n",
    "动词 => 看着   |  坐在 |  听着 | 看见\n",
    "形容词 =>   蓝色的 |  好看的 | 小小的'''"
   ]
  },
  {
   "cell_type": "code",
   "execution_count": 55,
   "metadata": {},
   "outputs": [],
   "source": [
    "def 简单句():\n",
    "    return 由语法生成程序(简单句语法,'句子','=>','|')"
   ]
  },
  {
   "cell_type": "code",
   "execution_count": 61,
   "metadata": {},
   "outputs": [
    {
     "data": {
      "text/plain": [
       "'这个蓝色的小猫看着一个好看的蓝色的小小的蓝色的小小的篮球'"
      ]
     },
     "execution_count": 61,
     "metadata": {},
     "output_type": "execute_result"
    }
   ],
   "source": [
    "简单句()"
   ]
  },
  {
   "cell_type": "code",
   "execution_count": 63,
   "metadata": {},
   "outputs": [],
   "source": [
    "simpel_programming = '''\n",
    "if_stmt => if ( cond ) { stmt }\n",
    "cond => var op var\n",
    "op => | == | < | >= | <= \n",
    "stmt => assign | if_stmt\n",
    "assign => var = var\n",
    "var =>  char var | char\n",
    "char => a | b |  c | d | 0 | 1 | 2 | 3\n",
    "'''"
   ]
  },
  {
   "cell_type": "code",
   "execution_count": 64,
   "metadata": {},
   "outputs": [
    {
     "data": {
      "text/plain": [
       "'if(dd>=2){if(31<=0){if(a3<3){31=b303a}}}'"
      ]
     },
     "execution_count": 64,
     "metadata": {},
     "output_type": "execute_result"
    }
   ],
   "source": [
    "由语法生成程序(simpel_programming,'if_stmt','=>','|')"
   ]
  },
  {
   "cell_type": "code",
   "execution_count": null,
   "metadata": {},
   "outputs": [],
   "source": []
  }
 ],
 "metadata": {
  "celltoolbar": "Raw Cell Format",
  "kernelspec": {
   "display_name": "Python 3",
   "language": "python",
   "name": "python3"
  },
  "language_info": {
   "codemirror_mode": {
    "name": "ipython",
    "version": 3
   },
   "file_extension": ".py",
   "mimetype": "text/x-python",
   "name": "python",
   "nbconvert_exporter": "python",
   "pygments_lexer": "ipython3",
   "version": "3.7.3"
  }
 },
 "nbformat": 4,
 "nbformat_minor": 2
}
