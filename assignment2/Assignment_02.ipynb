{
 "cells": [
  {
   "cell_type": "markdown",
   "metadata": {},
   "source": [
    "# Assignment 2\n"
   ]
  },
  {
   "cell_type": "markdown",
   "metadata": {},
   "source": [
    "#### 1. 复习上课内容以及复现课程代码"
   ]
  },
  {
   "cell_type": "markdown",
   "metadata": {},
   "source": [
    "在本部分，你需要在复习上课内容和课程代码后，复现课程代码。 "
   ]
  },
  {
   "cell_type": "markdown",
   "metadata": {},
   "source": [
    "##### Build Graph"
   ]
  },
  {
   "cell_type": "code",
   "execution_count": 1,
   "metadata": {},
   "outputs": [],
   "source": [
    "coordination_source = \"\"\"\n",
    "{name:'兰州', geoCoord:[103.73, 36.03]},\n",
    "{name:'嘉峪关', geoCoord:[98.17, 39.47]},\n",
    "{name:'西宁', geoCoord:[101.74, 36.56]},\n",
    "{name:'格尔木', geoCoord:[94.9, 36.41]},\n",
    "{name:'成都', geoCoord:[104.06, 30.67]},\n",
    "{name:'石家庄', geoCoord:[114.48, 38.03]},\n",
    "{name:'拉萨', geoCoord:[102.73, 25.04]},\n",
    "{name:'贵阳', geoCoord:[106.71, 26.57]},\n",
    "{name:'武汉', geoCoord:[114.31, 30.52]},\n",
    "{name:'郑州', geoCoord:[113.65, 34.76]},\n",
    "{name:'济南', geoCoord:[117, 36.65]},\n",
    "{name:'南京', geoCoord:[118.78, 32.04]},\n",
    "{name:'合肥', geoCoord:[117.27, 31.86]},\n",
    "{name:'杭州', geoCoord:[120.19, 30.26]},\n",
    "{name:'南昌', geoCoord:[115.89, 28.68]},\n",
    "{name:'福州', geoCoord:[119.3, 26.08]},\n",
    "{name:'广州', geoCoord:[113.23, 23.16]},\n",
    "{name:'长沙', geoCoord:[113, 28.21]},\n",
    "//{name:'海口', geoCoord:[110.35, 20.02]},\n",
    "{name:'沈阳', geoCoord:[123.38, 41.8]},\n",
    "{name:'长春', geoCoord:[125.35, 43.88]},\n",
    "{name:'哈尔滨', geoCoord:[126.63, 45.75]},\n",
    "{name:'太原', geoCoord:[112.53, 37.87]},\n",
    "{name:'西安', geoCoord:[108.95, 34.27]},\n",
    "//{name:'台湾', geoCoord:[121.30, 25.03]},\n",
    "{name:'北京', geoCoord:[116.46, 39.92]},\n",
    "{name:'上海', geoCoord:[121.48, 31.22]},\n",
    "{name:'重庆', geoCoord:[106.54, 29.59]},\n",
    "{name:'天津', geoCoord:[117.2, 39.13]},\n",
    "{name:'呼和浩特', geoCoord:[111.65, 40.82]},\n",
    "{name:'南宁', geoCoord:[108.33, 22.84]},\n",
    "{name:'拉萨', geoCoord:[91.11, 29.97]},\n",
    "{name:'那曲', geoCoord:[92.1, 31.47]},\n",
    "{name:'银川', geoCoord:[106.27, 38.47]},\n",
    "{name:'乌鲁木齐', geoCoord:[87.68, 43.77]},\n",
    "//{name:'吐鲁番', geoCoord:[89.17, 42.95]},\n",
    "{name:'哈密', geoCoord:[93.44, 42.78]},\n",
    "{name:'香港', geoCoord:[114.17, 22.28]},\n",
    "{name:'澳门', geoCoord:[113.54, 22.19]}\n",
    "\"\"\""
   ]
  },
  {
   "cell_type": "code",
   "execution_count": 2,
   "metadata": {},
   "outputs": [],
   "source": [
    "import re"
   ]
  },
  {
   "cell_type": "code",
   "execution_count": 3,
   "metadata": {},
   "outputs": [],
   "source": [
    "def get_city_info(city_coordination):\n",
    "    city_geoCoord={}#定义city_geoCoord为字典，():元组tuple, []:列表list, {}字典dict\n",
    "    for line in city_coordination.split(\"\\n\"):\n",
    "        if line.startswith(\"//\"):continue  # 如果line的前缀为 // 则跳出本次循环\n",
    "        line=line.replace(' ','')          # 去除字符串中的空格\n",
    "        if line==\"\":continue              # 去除空格后若为空，跳出本次循环\n",
    "\n",
    "        city_name = re.findall(\"name:'(\\w+)'\",line)[0]                # [0]为了在获取到多个值时变成列表的情况下，从列表里选取第一值\n",
    "        x=re.findall(\"geoCoord:\\[(\\d+.\\d+),\\S\",line)[0]               #  提取经度x\n",
    "        y=re.findall(\",(\\d+.\\d+)]}\",line)[0]                          #  提取纬度y\n",
    "        #x_y=re.findall(\"geoCoord:\\[(\\d+.\\d+),(\\d+.\\d+)\\]}\",line)[0]  # \\[表示字符[,不加\\就当括号用了\n",
    "        #x_y=tuple(map(float,x_y))                                    # x_y=(x,y)\n",
    "                                                                      # Python 3.x  tuple(map(float,x_y))=(float(x),float(y))  ,\n",
    "                                                                      # Python 2.x  map(float,x_y)=[float(x),float(y)]  ,是个list\n",
    "        city_geoCoord[city_name]=(float(x),float(y))\n",
    "    return city_geoCoord                                              # city_geoCoord={key=城市名：(经度，维度)}"
   ]
  },
  {
   "cell_type": "code",
   "execution_count": 4,
   "metadata": {},
   "outputs": [],
   "source": [
    "city_info=get_city_info(coordination_source)"
   ]
  },
  {
   "cell_type": "code",
   "execution_count": 5,
   "metadata": {},
   "outputs": [],
   "source": [
    "from math import*\n",
    "def Distance(Lat_A,Lng_A,Lat_B,Lng_B): #LNG代表经度，LAT代表纬度\n",
    "    ra=6378.140 #赤道半径\n",
    "    rb=6356.755 #极半径 （km）\n",
    "    flatten=(ra-rb)/ra  #地球偏率\n",
    "    rad_lat_A=radians(Lat_A)\n",
    "    rad_lng_A=radians(Lng_A)\n",
    "    rad_lat_B=radians(Lat_B)\n",
    "    rad_lng_B=radians(Lng_B)\n",
    "    pA=atan(rb/ra*tan(rad_lat_A))\n",
    "    pB=atan(rb/ra*tan(rad_lat_B))\n",
    "    xx=acos(sin(pA)*sin(pB)+cos(pA)*cos(pB)*cos(rad_lng_A-rad_lng_B))\n",
    "    c1=(sin(xx)-xx)*(sin(pA)+sin(pB))**2/cos(xx/2)**2\n",
    "    c2=(sin(xx)+xx)*(sin(pA)-sin(pB))**2/sin(xx/2)**2\n",
    "    dr=flatten/8*(c1-c2)\n",
    "    distance=ra*(xx+dr)\n",
    "    return distance"
   ]
  },
  {
   "cell_type": "code",
   "execution_count": 6,
   "metadata": {},
   "outputs": [],
   "source": [
    "def get_city_distance(city1,city2):\n",
    "    if city1 == city2:\n",
    "        return 0\n",
    "    return Distance(city_info[city1][1],city_info[city1][0],city_info[city2][1],city_info[city2][0])"
   ]
  },
  {
   "cell_type": "code",
   "execution_count": 7,
   "metadata": {},
   "outputs": [
    {
     "data": {
      "text/plain": [
       "1066.6740273466355"
      ]
     },
     "execution_count": 7,
     "metadata": {},
     "output_type": "execute_result"
    }
   ],
   "source": [
    "get_city_distance(\"北京\",\"上海\")"
   ]
  },
  {
   "cell_type": "markdown",
   "metadata": {},
   "source": [
    "##### 画图库"
   ]
  },
  {
   "cell_type": "code",
   "execution_count": 8,
   "metadata": {},
   "outputs": [
    {
     "name": "stdout",
     "output_type": "stream",
     "text": [
      "<module 'networkx' from '/home/g/anaconda3/lib/python3.7/site-packages/networkx/__init__.py'> \n",
      " <module 'matplotlib.pyplot' from '/home/g/anaconda3/lib/python3.7/site-packages/matplotlib/pyplot.py'>\n"
     ]
    }
   ],
   "source": [
    "import networkx as nx             #加载networkx库，简称为nx\n",
    "import matplotlib.pyplot as plt   #加载matplotlib.pyplo库，简称为plt\n",
    "print(nx,'\\n',plt)\n",
    "plt.rcParams['font.sans-serif'] = ['Noto Sans CJK JP'] # 系统里就是这个中文字体"
   ]
  },
  {
   "cell_type": "code",
   "execution_count": 9,
   "metadata": {},
   "outputs": [
    {
     "data": {
      "image/png": "[encoded data removed]",
      "text/plain": [
       "<Figure size 432x288 with 1 Axes>"
      ]
     },
     "metadata": {},
     "output_type": "display_data"
    }
   ],
   "source": [
    "city_graph = nx.Graph()\n",
    "city_graph.add_nodes_from(list(city_info.keys())) #输入是list\n",
    "nx.draw(city_graph, city_info, with_labels=True, node_size=10)"
   ]
  },
  {
   "cell_type": "code",
   "execution_count": 10,
   "metadata": {},
   "outputs": [],
   "source": [
    "from collections import defaultdict\n",
    "def build_connection(city_info):\n",
    "    city_connection=defaultdict(list) #直接设置为字典的话，字典里的key不存在会有keyError\n",
    "    for start in city_info.keys():\n",
    "        for destination in city_info.keys():\n",
    "            if start==destination:continue\n",
    "            if get_city_distance(start,destination)>700:continue\n",
    "            city_connection[start].append(destination)\n",
    "    return city_connection"
   ]
  },
  {
   "cell_type": "code",
   "execution_count": 11,
   "metadata": {},
   "outputs": [
    {
     "name": "stdout",
     "output_type": "stream",
     "text": [
      "嘉峪关\n"
     ]
    }
   ],
   "source": [
    "city_connection=build_connection(city_info)\n",
    "print(city_connection['兰州'][0])"
   ]
  },
  {
   "cell_type": "code",
   "execution_count": 12,
   "metadata": {},
   "outputs": [],
   "source": [
    "city_connection_graph=nx.Graph(city_connection)"
   ]
  },
  {
   "cell_type": "code",
   "execution_count": 13,
   "metadata": {},
   "outputs": [
    {
     "name": "stderr",
     "output_type": "stream",
     "text": [
      "/home/g/anaconda3/lib/python3.7/site-packages/networkx/drawing/nx_pylab.py:579: MatplotlibDeprecationWarning: \n",
      "The iterable function was deprecated in Matplotlib 3.1 and will be removed in 3.3. Use np.iterable instead.\n",
      "  if not cb.iterable(width):\n"
     ]
    },
    {
     "data": {
      "image/png": "[encoded data removed]",
      "text/plain": [
       "<Figure size 432x288 with 1 Axes>"
      ]
     },
     "metadata": {},
     "output_type": "display_data"
    }
   ],
   "source": [
    "nx.draw(city_connection_graph,city_info,with_labels=True,node_size=10)"
   ]
  },
  {
   "cell_type": "markdown",
   "metadata": {},
   "source": [
    "##### BFS"
   ]
  },
  {
   "cell_type": "code",
   "execution_count": 14,
   "metadata": {},
   "outputs": [],
   "source": [
    "def bfs(graph,start,destination):\n",
    "    paths=[[start]]                                              # pathes is like [[A,B,...,F],[A,C,...,G],[A,C,...,H],[A,D,...,K],[A,D,...,L]]\n",
    "    visited=set()                                                # set()表示无序集合\n",
    "    new_paths=[]\n",
    "    optimal_paths=[]\n",
    "    if start==destination:optimal_paths=paths                              # if start=destination optimal_paths is start point it self\n",
    "\n",
    "    while paths:\n",
    "\n",
    "        if optimal_paths:return optimal_paths\n",
    "\n",
    "        for path in paths:  # path is like [A,B,...,F]\n",
    "            point=path[-1]   # point is like F \n",
    "            #if point in visited:continue\n",
    "            for new_point in graph[point]:\n",
    "                if new_point in visited:continue                # if new_point is in visited，jump out\n",
    "                #if new_point in path:continue                  # new_point在path里则肯定会在visited里,后面visited验证也可以把他检查出来，重复了                \n",
    "                new_path=path+[new_point]                       # add new_point after point in path as new_path,it's like [A,B,...,F,G]\n",
    "                if new_point==destination:optimal_paths.append(new_path)\n",
    "                else:new_paths.append(new_path)                 # add new_path in new_pathes for new layer,it's like [[A,B,...,F,G],[A,C,...,G,H],[A,C,...,H,L],[A,D,...,K,J],[A,D,...,L,P]]\n",
    "                visited.add(point)\n",
    "\n",
    "        paths=[]                                               # clean paths\n",
    "        paths.extend(new_paths)                                # new_paths will be next layer's paths \n",
    "        new_paths=[]                                           # clean new_paths and go to next layer\n",
    "        \n",
    "    return optimal_paths"
   ]
  },
  {
   "cell_type": "code",
   "execution_count": 15,
   "metadata": {
    "scrolled": true
   },
   "outputs": [
    {
     "data": {
      "text/plain": [
       "[['拉萨', '那曲', '格尔木', '嘉峪关', '兰州', '西安', '武汉', '南京'],\n",
       " ['拉萨', '那曲', '格尔木', '嘉峪关', '兰州', '西安', '郑州', '南京'],\n",
       " ['拉萨', '那曲', '格尔木', '西宁', '兰州', '西安', '武汉', '南京'],\n",
       " ['拉萨', '那曲', '格尔木', '西宁', '兰州', '西安', '郑州', '南京'],\n",
       " ['拉萨', '那曲', '格尔木', '西宁', '成都', '西安', '武汉', '南京'],\n",
       " ['拉萨', '那曲', '格尔木', '西宁', '成都', '西安', '郑州', '南京'],\n",
       " ['拉萨', '那曲', '格尔木', '西宁', '银川', '太原', '郑州', '南京'],\n",
       " ['拉萨', '那曲', '格尔木', '西宁', '银川', '太原', '济南', '南京'],\n",
       " ['拉萨', '那曲', '格尔木', '西宁', '银川', '西安', '武汉', '南京'],\n",
       " ['拉萨', '那曲', '格尔木', '西宁', '银川', '西安', '郑州', '南京'],\n",
       " ['拉萨', '那曲', '格尔木', '西宁', '银川', '呼和浩特', '郑州', '南京'],\n",
       " ['拉萨', '那曲', '格尔木', '西宁', '银川', '呼和浩特', '济南', '南京']]"
      ]
     },
     "execution_count": 15,
     "metadata": {},
     "output_type": "execute_result"
    }
   ],
   "source": [
    "bfs(city_connection,'拉萨','南京')"
   ]
  },
  {
   "cell_type": "markdown",
   "metadata": {},
   "source": [
    "#### 2. 回答以下理论题目"
   ]
  },
  {
   "cell_type": "markdown",
   "metadata": {},
   "source": [
    "###       < 评阅点 >： 答案是否正确完整"
   ]
  },
  {
   "cell_type": "markdown",
   "metadata": {},
   "source": [
    "###### 2.1 What conditions are required to make the BFS return the optimal solution ?"
   ]
  },
  {
   "cell_type": "markdown",
   "metadata": {},
   "source": [
    "###### 使用BFS算法返回最佳路径需要什么条件？"
   ]
  },
  {
   "cell_type": "markdown",
   "metadata": {},
   "source": [
    "答：任意两个相连节点间的cost是一样且非负的"
   ]
  },
  {
   "cell_type": "markdown",
   "metadata": {},
   "source": [
    "##### 2.2 Is there a way to make DFS find the optimal solution ? (You may need to read some material about iterative DFS)"
   ]
  },
  {
   "cell_type": "markdown",
   "metadata": {},
   "source": [
    "###### 有什么办法使得用DFS也能找到最佳路径？"
   ]
  },
  {
   "cell_type": "markdown",
   "metadata": {},
   "source": [
    "答：用DFS遍历所有路径，然后对比各个路径，返回最佳的那个"
   ]
  },
  {
   "cell_type": "markdown",
   "metadata": {},
   "source": [
    "##### 2.3 In what conditions BFS is a better choice than DFS and vice versa ?"
   ]
  },
  {
   "cell_type": "markdown",
   "metadata": {},
   "source": [
    "###### 什么情况下选择BFS比DFS要好，反过来呢？"
   ]
  },
  {
   "cell_type": "markdown",
   "metadata": {},
   "source": [
    " 答 ：需要寻找最佳路径的时候选择BFS；只需要找到一个路径就好，又需要节省内存的时候选择DFS"
   ]
  },
  {
   "cell_type": "markdown",
   "metadata": {},
   "source": [
    "##### 2.4 When can we use machine learning ?"
   ]
  },
  {
   "cell_type": "markdown",
   "metadata": {},
   "source": [
    "##### 什么情况下我们能用到机器学习？"
   ]
  },
  {
   "cell_type": "markdown",
   "metadata": {},
   "source": [
    "答：需要从大量有序或无序的数据中，寻找一定规律的时候。"
   ]
  },
  {
   "cell_type": "markdown",
   "metadata": {},
   "source": [
    "##### 2.5 What is the gradient of a function ?"
   ]
  },
  {
   "cell_type": "markdown",
   "metadata": {},
   "source": [
    "##### 什么是函数的梯度？"
   ]
  },
  {
   "cell_type": "markdown",
   "metadata": {},
   "source": [
    "答：由函数的偏导数组成的向量"
   ]
  },
  {
   "cell_type": "markdown",
   "metadata": {},
   "source": [
    "##### 2.6 How can we find the maximum value of a function using the information of gradient ?"
   ]
  },
  {
   "cell_type": "markdown",
   "metadata": {},
   "source": [
    "##### 我们怎么利用梯度信息来求解函数的最大值（极大值）？"
   ]
  },
  {
   "cell_type": "markdown",
   "metadata": {},
   "source": [
    "答：沿梯度上升方向迭代搜索"
   ]
  },
  {
   "cell_type": "markdown",
   "metadata": {},
   "source": [
    "#### 3. 实践部分  寻找地铁路线"
   ]
  },
  {
   "cell_type": "markdown",
   "metadata": {},
   "source": [
    "### < 评阅点 >  1: 爬虫爬取数据是否完整;  2:搜索算法是否正确"
   ]
  },
  {
   "cell_type": "markdown",
   "metadata": {},
   "source": [
    "In this part, although we recommend you to use Beijing subway, you still can use the subway map of any cities that you are interested in. "
   ]
  },
  {
   "cell_type": "markdown",
   "metadata": {},
   "source": [
    "![title](img/ditu.png)"
   ]
  },
  {
   "cell_type": "markdown",
   "metadata": {},
   "source": [
    "Please using the search policy to implement an agent. This agent receives two input, one is @param start station and the other is @param destination. Your agent should give the optimal route based on Beijing Subway system."
   ]
  },
  {
   "cell_type": "markdown",
   "metadata": {},
   "source": [
    "Deadline: 2019-October-27"
   ]
  },
  {
   "cell_type": "markdown",
   "metadata": {},
   "source": [
    "#### Procedures"
   ]
  },
  {
   "cell_type": "markdown",
   "metadata": {},
   "source": [
    "#### 1. Get data from web.  "
   ]
  },
  {
   "cell_type": "markdown",
   "metadata": {},
   "source": [
    "Some tips: "
   ]
  },
  {
   "cell_type": "markdown",
   "metadata": {},
   "source": [
    "a. You might need this package: requests[https://2.python-requests.org/en/master/] to get webpages"
   ]
  },
  {
   "cell_type": "markdown",
   "metadata": {},
   "source": [
    "b.You might need to use Regular Expression and Beautiful Soap package to parse the webpages"
   ]
  },
  {
   "cell_type": "code",
   "execution_count": 16,
   "metadata": {},
   "outputs": [],
   "source": [
    "def get_metro_map():\n",
    "    # 加载requests和etree库\n",
    "    import requests\n",
    "    from lxml  import etree\n",
    "    # 去除警告\n",
    "    from requests.packages.urllib3.exceptions import InsecureRequestWarning\n",
    "    requests.packages.urllib3.disable_warnings(InsecureRequestWarning)\n",
    "    \n",
    "    response = requests.get('https://map.bjsubway.com/subwaymap/beijing.xml?v=2',verify=False)  #从网上加载https://map.bjsubway.com/subwaymap/beijing.xml\n",
    "    response.encoding = \"utf-8\"                          # 设置response的编码为utf-8，否则容易出现乱码\n",
    "    metro_map=defaultdict(list)\n",
    "    xml = etree.XML(response.content)\n",
    "\n",
    "    for line in xml.xpath('//l'):\n",
    "        Metro_Line=line.xpath('@lid')[0]                #获取线路名\n",
    "        loop=line.xpath('@loop')[0]                     #是否环线\n",
    "        for point in line:\n",
    "            if point.xpath('@lb'):                      # 避开空值\n",
    "                station=point.xpath('@lb')[0].strip()   # 获取站点名（并去除空格）\n",
    "                if len(station) ==0:continue            # 避开空值\n",
    "                metro_map[(Metro_Line,loop)].append(station)    # 把站点赋值给线路，同时保持顺序\n",
    "    return metro_map"
   ]
  },
  {
   "cell_type": "code",
   "execution_count": 17,
   "metadata": {},
   "outputs": [],
   "source": [
    "metro_map=get_metro_map()"
   ]
  },
  {
   "cell_type": "markdown",
   "metadata": {},
   "source": [
    "##### 2. Preprocessing data"
   ]
  },
  {
   "cell_type": "markdown",
   "metadata": {},
   "source": [
    "Some tips:"
   ]
  },
  {
   "cell_type": "markdown",
   "metadata": {},
   "source": [
    "a. Find a suitable way to save the data you get from the web. (Note: The way you use to save the data should be able to be used to create the graph that your agent is going to explore)"
   ]
  },
  {
   "cell_type": "code",
   "execution_count": 18,
   "metadata": {},
   "outputs": [],
   "source": [
    "# metro_map is like {lineA:[station1,station2,station3......],lineB:[station4,station5,station6......],...}\n",
    "def make_connection_between_stations(metro_map):\n",
    "    connection_between_stations=defaultdict(list)\n",
    "\n",
    "    for l in metro_map.keys():\n",
    "        \n",
    "        line=metro_map[l]\n",
    "        loop=l[1]\n",
    "        for station in line:\n",
    "            \n",
    "            previous_station=''\n",
    "            next_station=''\n",
    "            index=line.index(station)\n",
    "            if loop==\"false\":                                        #检查是否是环线\n",
    "                if index > 0: previous_station=line[index-1]\n",
    "                if index < len(line)-1:next_station=line[index+1]\n",
    "            else:\n",
    "                previous_station=line[index-1]\n",
    "                if index < len(line)-1:next_station=line[index+1]\n",
    "                else:next_station=line[0]\n",
    "            if previous_station:connection_between_stations[station].append(previous_station)\n",
    "            if next_station:connection_between_stations[station].append(next_station)\n",
    "            connection_between_stations[station]=list(set(connection_between_stations[station])) #去重\n",
    "    return connection_between_stations"
   ]
  },
  {
   "cell_type": "code",
   "execution_count": 19,
   "metadata": {},
   "outputs": [],
   "source": [
    "connection_stations=make_connection_between_stations(metro_map)"
   ]
  },
  {
   "cell_type": "markdown",
   "metadata": {},
   "source": [
    "###### 存在的问题：\n",
    "       地铁2号线、地铁10号线是环线，没有正确获取站与站之间的联系！！\n",
    "###### 解决：\n",
    "       获取loop，检查是否是环线"
   ]
  },
  {
   "cell_type": "markdown",
   "metadata": {},
   "source": [
    "#### 3. Build the search agent"
   ]
  },
  {
   "cell_type": "markdown",
   "metadata": {},
   "source": [
    "Build the search agent based ont he graph you built."
   ]
  },
  {
   "cell_type": "markdown",
   "metadata": {},
   "source": [
    "for example, if you use Beijing subway graoh, and you run:"
   ]
  },
  {
   "cell_type": "markdown",
   "metadata": {},
   "source": [
    "\\>>> search(\"奥体中心“，”天安门“）"
   ]
  },
  {
   "cell_type": "markdown",
   "metadata": {},
   "source": [
    "You should get the result as follows: 奥体中心 -> A ->B ->C ... -> 天安门"
   ]
  },
  {
   "cell_type": "code",
   "execution_count": 20,
   "metadata": {},
   "outputs": [],
   "source": [
    "def search(s,d):\n",
    "    path=bfs(connection_stations,s,d)                                    #bfs算法在复现课程代码部分\n",
    "    more_paths=[]\n",
    "    for L in path:\n",
    "        paths=s\n",
    "        for S in L:\n",
    "            if S==s:continue\n",
    "            paths=paths+\"->\"+S\n",
    "        more_paths.append(paths)\n",
    "    return more_paths"
   ]
  },
  {
   "cell_type": "code",
   "execution_count": 21,
   "metadata": {},
   "outputs": [
    {
     "data": {
      "text/plain": [
       "['奥体中心->北土城->安华桥->安德里北街->鼓楼大街->积水潭->西直门->车公庄->阜成门->复兴门->西单->天安门西']"
      ]
     },
     "execution_count": 21,
     "metadata": {},
     "output_type": "execute_result"
    }
   ],
   "source": [
    "search(\"奥体中心\",\"天安门西\")"
   ]
  },
  {
   "cell_type": "code",
   "execution_count": 22,
   "metadata": {},
   "outputs": [],
   "source": [
    "def search2(s,d):\n",
    "    path=bfs(connection_stations,s,d)                                    #bfs算法在复现课程代码部分\n",
    "    paths=''\n",
    "    for L in path:\n",
    "        for S in L:\n",
    "            if S==s:paths=paths+s\n",
    "            else:paths=paths+\"->\"+S\n",
    "        paths=paths+'\\n'\n",
    "    return print(paths)"
   ]
  },
  {
   "cell_type": "code",
   "execution_count": 23,
   "metadata": {},
   "outputs": [
    {
     "name": "stdout",
     "output_type": "stream",
     "text": [
      "奥体中心->北土城->安华桥->安德里北街->鼓楼大街->积水潭->西直门->车公庄->阜成门->复兴门->西单->天安门西\n",
      "\n"
     ]
    }
   ],
   "source": [
    "search2(\"奥体中心\",\"天安门西\")"
   ]
  },
  {
   "cell_type": "markdown",
   "metadata": {},
   "source": [
    "### (Optional) Improve your agent to make it able to find a path based on different strategies"
   ]
  },
  {
   "cell_type": "markdown",
   "metadata": {},
   "source": [
    "###  <评阅点> : 是否正确得到不同目标下的路径。"
   ]
  },
  {
   "cell_type": "markdown",
   "metadata": {},
   "source": [
    "Some ideas you might want to try:"
   ]
  },
  {
   "cell_type": "markdown",
   "metadata": {},
   "source": [
    "a. Find the shortest path between two stations."
   ]
  },
  {
   "cell_type": "markdown",
   "metadata": {},
   "source": [
    "b. Find the path that requires minimum transfers between two stations."
   ]
  },
  {
   "cell_type": "markdown",
   "metadata": {},
   "source": [
    "c. Combine the previous two ideas, find a more suitable path."
   ]
  },
  {
   "cell_type": "markdown",
   "metadata": {},
   "source": [
    "Compare your results with results obtained by using some apps such as Baidu map, A map, Google map or Apple map. If there is difference, try to explanate it."
   ]
  },
  {
   "cell_type": "markdown",
   "metadata": {},
   "source": [
    "###### a.\n",
    "见上面search和search2"
   ]
  },
  {
   "cell_type": "markdown",
   "metadata": {},
   "source": [
    "###### b."
   ]
  },
  {
   "cell_type": "code",
   "execution_count": 35,
   "metadata": {},
   "outputs": [],
   "source": [
    "#获取换乘站\n",
    "def get_transfer_station(metro_map):# connection_stations is like {station1:[station2,station3,......],station6:[station4,station5,......],...}\n",
    "    transfer_stations=[]\n",
    "    transfer_stations_connection=defaultdict(list)\n",
    "    \n",
    "#    _connection_stations=make_connection_between_stations(metro_map)\n",
    "#    for key in _connection_stations.keys():\n",
    "#        if  len(_connection_stations[key])>2:transfer_stations.append(key)\n",
    "    \n",
    "#    for transfer_station in transfer_stations:\n",
    "    for l in metro_map.keys():\n",
    "        line=metro_map[l]\n",
    "        for s_station in line:\n",
    "            for d_station in line:\n",
    "                if s_station==d_station:continue\n",
    "                transfer_stations_connection[s_station].append(d_station)\n",
    "    for key in transfer_stations_connection.keys():\n",
    "        transfer_stations_connection[key]=list(set(transfer_stations_connection[key]))\n",
    "    return transfer_stations_connection"
   ]
  },
  {
   "cell_type": "code",
   "execution_count": 36,
   "metadata": {
    "scrolled": false
   },
   "outputs": [],
   "source": [
    "transfer_stations_connection=get_transfer_station(metro_map)"
   ]
  },
  {
   "cell_type": "code",
   "execution_count": 37,
   "metadata": {},
   "outputs": [],
   "source": [
    "def search_by_transfer_stations(s,d):\n",
    "    path=bfs(transfer_stations_connection,s,d)                                    #bfs算法在复现课程代码部分\n",
    "    more_paths=[]\n",
    "    for L in path:\n",
    "        paths=s\n",
    "        for S in L:\n",
    "            if S==s:continue\n",
    "            paths=paths+\"->\"+S\n",
    "        more_paths.append(paths)\n",
    "    return more_paths"
   ]
  },
  {
   "cell_type": "code",
   "execution_count": 38,
   "metadata": {},
   "outputs": [
    {
     "data": {
      "text/plain": [
       "['奥体中心->鼓楼大街->复兴门->天安门西',\n",
       " '奥体中心->鼓楼大街->建国门->天安门西',\n",
       " '奥体中心->北土城->国贸->天安门西',\n",
       " '奥体中心->北土城->公主坟->天安门西',\n",
       " '奥体中心->南锣鼓巷->苹果园->天安门西']"
      ]
     },
     "execution_count": 38,
     "metadata": {},
     "output_type": "execute_result"
    }
   ],
   "source": [
    "search_by_transfer_stations(\"奥体中心\",\"天安门西\")"
   ]
  },
  {
   "cell_type": "markdown",
   "metadata": {},
   "source": [
    "## Congratulations ! You have finished the assignment of week 2."
   ]
  },
  {
   "cell_type": "markdown",
   "metadata": {},
   "source": [
    "![title](img/agent.png)"
   ]
  },
  {
   "cell_type": "markdown",
   "metadata": {},
   "source": [
    "### If you have any suggestions regarding the teaching, please feel free to send them to my eamil (eric.lee.xiao@gmail.com) "
   ]
  },
  {
   "cell_type": "code",
   "execution_count": null,
   "metadata": {},
   "outputs": [],
   "source": []
  }
 ],
 "metadata": {
  "kernelspec": {
   "display_name": "Python 3",
   "language": "python",
   "name": "python3"
  },
  "language_info": {
   "codemirror_mode": {
    "name": "ipython",
    "version": 3
   },
   "file_extension": ".py",
   "mimetype": "text/x-python",
   "name": "python",
   "nbconvert_exporter": "python",
   "pygments_lexer": "ipython3",
   "version": "3.7.3"
  }
 },
 "nbformat": 4,
 "nbformat_minor": 2
}
